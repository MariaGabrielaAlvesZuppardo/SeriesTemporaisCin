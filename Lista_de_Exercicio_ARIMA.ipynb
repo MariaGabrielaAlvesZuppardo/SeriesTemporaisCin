{
  "nbformat": 4,
  "nbformat_minor": 0,
  "metadata": {
    "colab": {
      "provenance": [],
      "toc_visible": true,
      "authorship_tag": "ABX9TyOhKIWys9wi4sLsjx+y/Iku",
      "include_colab_link": true
    },
    "kernelspec": {
      "name": "python3",
      "display_name": "Python 3"
    },
    "language_info": {
      "name": "python"
    }
  },
  "cells": [
    {
      "cell_type": "markdown",
      "metadata": {
        "id": "view-in-github",
        "colab_type": "text"
      },
      "source": [
        "<a href=\"https://colab.research.google.com/github/MariaGabrielaAlvesZuppardo/SeriesTemporaisCin/blob/main/Lista_de_Exercicio_ARIMA.ipynb\" target=\"_parent\"><img src=\"https://colab.research.google.com/assets/colab-badge.svg\" alt=\"Open In Colab\"/></a>"
      ]
    },
    {
      "cell_type": "markdown",
      "source": [
        "# Utils"
      ],
      "metadata": {
        "id": "eg_OLX4CZpLa"
      }
    },
    {
      "cell_type": "code",
      "source": [
        "!pip install yfinance"
      ],
      "metadata": {
        "colab": {
          "base_uri": "https://localhost:8080/"
        },
        "id": "N0kYP_yebcry",
        "outputId": "51139428-6a5d-40a3-99b8-d8f7df7f02f7"
      },
      "execution_count": 1,
      "outputs": [
        {
          "output_type": "stream",
          "name": "stdout",
          "text": [
            "Requirement already satisfied: yfinance in /usr/local/lib/python3.11/dist-packages (0.2.55)\n",
            "Requirement already satisfied: pandas>=1.3.0 in /usr/local/lib/python3.11/dist-packages (from yfinance) (2.2.2)\n",
            "Requirement already satisfied: numpy>=1.16.5 in /usr/local/lib/python3.11/dist-packages (from yfinance) (2.0.2)\n",
            "Requirement already satisfied: requests>=2.31 in /usr/local/lib/python3.11/dist-packages (from yfinance) (2.32.3)\n",
            "Requirement already satisfied: multitasking>=0.0.7 in /usr/local/lib/python3.11/dist-packages (from yfinance) (0.0.11)\n",
            "Requirement already satisfied: platformdirs>=2.0.0 in /usr/local/lib/python3.11/dist-packages (from yfinance) (4.3.7)\n",
            "Requirement already satisfied: pytz>=2022.5 in /usr/local/lib/python3.11/dist-packages (from yfinance) (2025.1)\n",
            "Requirement already satisfied: frozendict>=2.3.4 in /usr/local/lib/python3.11/dist-packages (from yfinance) (2.4.6)\n",
            "Requirement already satisfied: peewee>=3.16.2 in /usr/local/lib/python3.11/dist-packages (from yfinance) (3.17.9)\n",
            "Requirement already satisfied: beautifulsoup4>=4.11.1 in /usr/local/lib/python3.11/dist-packages (from yfinance) (4.13.3)\n",
            "Requirement already satisfied: soupsieve>1.2 in /usr/local/lib/python3.11/dist-packages (from beautifulsoup4>=4.11.1->yfinance) (2.6)\n",
            "Requirement already satisfied: typing-extensions>=4.0.0 in /usr/local/lib/python3.11/dist-packages (from beautifulsoup4>=4.11.1->yfinance) (4.12.2)\n",
            "Requirement already satisfied: python-dateutil>=2.8.2 in /usr/local/lib/python3.11/dist-packages (from pandas>=1.3.0->yfinance) (2.8.2)\n",
            "Requirement already satisfied: tzdata>=2022.7 in /usr/local/lib/python3.11/dist-packages (from pandas>=1.3.0->yfinance) (2025.1)\n",
            "Requirement already satisfied: charset-normalizer<4,>=2 in /usr/local/lib/python3.11/dist-packages (from requests>=2.31->yfinance) (3.4.1)\n",
            "Requirement already satisfied: idna<4,>=2.5 in /usr/local/lib/python3.11/dist-packages (from requests>=2.31->yfinance) (3.10)\n",
            "Requirement already satisfied: urllib3<3,>=1.21.1 in /usr/local/lib/python3.11/dist-packages (from requests>=2.31->yfinance) (2.3.0)\n",
            "Requirement already satisfied: certifi>=2017.4.17 in /usr/local/lib/python3.11/dist-packages (from requests>=2.31->yfinance) (2025.1.31)\n",
            "Requirement already satisfied: six>=1.5 in /usr/local/lib/python3.11/dist-packages (from python-dateutil>=2.8.2->pandas>=1.3.0->yfinance) (1.17.0)\n"
          ]
        }
      ]
    },
    {
      "cell_type": "code",
      "source": [
        "!pip install pmdarima statsmodels scikit-learn"
      ],
      "metadata": {
        "colab": {
          "base_uri": "https://localhost:8080/"
        },
        "id": "HbQk8rQn2kXe",
        "outputId": "9da19654-75c1-4ae7-86d3-616426ac0e63"
      },
      "execution_count": 2,
      "outputs": [
        {
          "output_type": "stream",
          "name": "stdout",
          "text": [
            "Requirement already satisfied: pmdarima in /usr/local/lib/python3.11/dist-packages (2.0.4)\n",
            "Requirement already satisfied: statsmodels in /usr/local/lib/python3.11/dist-packages (0.14.4)\n",
            "Requirement already satisfied: scikit-learn in /usr/local/lib/python3.11/dist-packages (1.6.1)\n",
            "Requirement already satisfied: joblib>=0.11 in /usr/local/lib/python3.11/dist-packages (from pmdarima) (1.4.2)\n",
            "Requirement already satisfied: Cython!=0.29.18,!=0.29.31,>=0.29 in /usr/local/lib/python3.11/dist-packages (from pmdarima) (3.0.12)\n",
            "Requirement already satisfied: numpy>=1.21.2 in /usr/local/lib/python3.11/dist-packages (from pmdarima) (2.0.2)\n",
            "Requirement already satisfied: pandas>=0.19 in /usr/local/lib/python3.11/dist-packages (from pmdarima) (2.2.2)\n",
            "Requirement already satisfied: scipy>=1.3.2 in /usr/local/lib/python3.11/dist-packages (from pmdarima) (1.14.1)\n",
            "Requirement already satisfied: urllib3 in /usr/local/lib/python3.11/dist-packages (from pmdarima) (2.3.0)\n",
            "Requirement already satisfied: setuptools!=50.0.0,>=38.6.0 in /usr/local/lib/python3.11/dist-packages (from pmdarima) (75.1.0)\n",
            "Requirement already satisfied: packaging>=17.1 in /usr/local/lib/python3.11/dist-packages (from pmdarima) (24.2)\n",
            "Requirement already satisfied: patsy>=0.5.6 in /usr/local/lib/python3.11/dist-packages (from statsmodels) (1.0.1)\n",
            "Requirement already satisfied: threadpoolctl>=3.1.0 in /usr/local/lib/python3.11/dist-packages (from scikit-learn) (3.6.0)\n",
            "Requirement already satisfied: python-dateutil>=2.8.2 in /usr/local/lib/python3.11/dist-packages (from pandas>=0.19->pmdarima) (2.8.2)\n",
            "Requirement already satisfied: pytz>=2020.1 in /usr/local/lib/python3.11/dist-packages (from pandas>=0.19->pmdarima) (2025.1)\n",
            "Requirement already satisfied: tzdata>=2022.7 in /usr/local/lib/python3.11/dist-packages (from pandas>=0.19->pmdarima) (2025.1)\n",
            "Requirement already satisfied: six>=1.5 in /usr/local/lib/python3.11/dist-packages (from python-dateutil>=2.8.2->pandas>=0.19->pmdarima) (1.17.0)\n"
          ]
        }
      ]
    },
    {
      "cell_type": "code",
      "source": [
        "#!pip install --upgrade scikit-learn pmdarima"
      ],
      "metadata": {
        "id": "TIwAl0Bm0Ss2"
      },
      "execution_count": 3,
      "outputs": []
    },
    {
      "cell_type": "code",
      "source": [
        "import yfinance as yf\n",
        "import pandas as pd\n",
        "import numpy as np\n",
        "from pandas import DataFrame\n",
        "from datetime import datetime\n",
        "from sklearn.metrics import mean_absolute_error, mean_squared_error, r2_score\n",
        "from math import sqrt\n",
        "from statsmodels.graphics.tsaplots import plot_acf, plot_pacf\n",
        "from statsmodels.tsa.stattools import adfuller\n",
        "from statsmodels.tsa.ar_model import AutoReg\n",
        "from statsmodels.tsa.arima.model import ARIMA"
      ],
      "metadata": {
        "id": "ePPvhsEk2Fiu"
      },
      "execution_count": 4,
      "outputs": []
    },
    {
      "cell_type": "markdown",
      "source": [
        "# Load Data"
      ],
      "metadata": {
        "id": "Lcl6w9dittLh"
      }
    },
    {
      "cell_type": "code",
      "source": [
        "start_date = datetime(2007, 3, 18)\n",
        "end_date = datetime (2025, 3, 18)\n",
        "ticker = 'BTC-USD'\n",
        "df =yf.download(ticker, start=start_date, end=end_date)['Close']\n",
        "df = df.rename(columns={ticker:'y'})\n"
      ],
      "metadata": {
        "id": "vml1rQU9-c00",
        "colab": {
          "base_uri": "https://localhost:8080/"
        },
        "outputId": "2836cf18-fa5f-4d1a-d0b4-67a0e8af71e1"
      },
      "execution_count": 5,
      "outputs": [
        {
          "output_type": "stream",
          "name": "stdout",
          "text": [
            "YF.download() has changed argument auto_adjust default to True\n"
          ]
        },
        {
          "output_type": "stream",
          "name": "stderr",
          "text": [
            "\r[*********************100%***********************]  1 of 1 completed\n"
          ]
        }
      ]
    },
    {
      "cell_type": "code",
      "source": [
        "df"
      ],
      "metadata": {
        "id": "eq_8245BqPil",
        "colab": {
          "base_uri": "https://localhost:8080/",
          "height": 455
        },
        "outputId": "0664470a-0108-4048-abe7-a1edf472c7f2"
      },
      "execution_count": 6,
      "outputs": [
        {
          "output_type": "execute_result",
          "data": {
            "text/plain": [
              "Ticker                 y\n",
              "Date                    \n",
              "2014-09-17    457.334015\n",
              "2014-09-18    424.440002\n",
              "2014-09-19    394.795990\n",
              "2014-09-20    408.903992\n",
              "2014-09-21    398.821014\n",
              "...                  ...\n",
              "2025-03-13  81066.703125\n",
              "2025-03-14  83969.101562\n",
              "2025-03-15  84343.109375\n",
              "2025-03-16  82579.687500\n",
              "2025-03-17  84075.687500\n",
              "\n",
              "[3835 rows x 1 columns]"
            ],
            "text/html": [
              "\n",
              "  <div id=\"df-143ad8c0-ed1e-4692-ac17-8484c70fb161\" class=\"colab-df-container\">\n",
              "    <div>\n",
              "<style scoped>\n",
              "    .dataframe tbody tr th:only-of-type {\n",
              "        vertical-align: middle;\n",
              "    }\n",
              "\n",
              "    .dataframe tbody tr th {\n",
              "        vertical-align: top;\n",
              "    }\n",
              "\n",
              "    .dataframe thead th {\n",
              "        text-align: right;\n",
              "    }\n",
              "</style>\n",
              "<table border=\"1\" class=\"dataframe\">\n",
              "  <thead>\n",
              "    <tr style=\"text-align: right;\">\n",
              "      <th>Ticker</th>\n",
              "      <th>y</th>\n",
              "    </tr>\n",
              "    <tr>\n",
              "      <th>Date</th>\n",
              "      <th></th>\n",
              "    </tr>\n",
              "  </thead>\n",
              "  <tbody>\n",
              "    <tr>\n",
              "      <th>2014-09-17</th>\n",
              "      <td>457.334015</td>\n",
              "    </tr>\n",
              "    <tr>\n",
              "      <th>2014-09-18</th>\n",
              "      <td>424.440002</td>\n",
              "    </tr>\n",
              "    <tr>\n",
              "      <th>2014-09-19</th>\n",
              "      <td>394.795990</td>\n",
              "    </tr>\n",
              "    <tr>\n",
              "      <th>2014-09-20</th>\n",
              "      <td>408.903992</td>\n",
              "    </tr>\n",
              "    <tr>\n",
              "      <th>2014-09-21</th>\n",
              "      <td>398.821014</td>\n",
              "    </tr>\n",
              "    <tr>\n",
              "      <th>...</th>\n",
              "      <td>...</td>\n",
              "    </tr>\n",
              "    <tr>\n",
              "      <th>2025-03-13</th>\n",
              "      <td>81066.703125</td>\n",
              "    </tr>\n",
              "    <tr>\n",
              "      <th>2025-03-14</th>\n",
              "      <td>83969.101562</td>\n",
              "    </tr>\n",
              "    <tr>\n",
              "      <th>2025-03-15</th>\n",
              "      <td>84343.109375</td>\n",
              "    </tr>\n",
              "    <tr>\n",
              "      <th>2025-03-16</th>\n",
              "      <td>82579.687500</td>\n",
              "    </tr>\n",
              "    <tr>\n",
              "      <th>2025-03-17</th>\n",
              "      <td>84075.687500</td>\n",
              "    </tr>\n",
              "  </tbody>\n",
              "</table>\n",
              "<p>3835 rows × 1 columns</p>\n",
              "</div>\n",
              "    <div class=\"colab-df-buttons\">\n",
              "\n",
              "  <div class=\"colab-df-container\">\n",
              "    <button class=\"colab-df-convert\" onclick=\"convertToInteractive('df-143ad8c0-ed1e-4692-ac17-8484c70fb161')\"\n",
              "            title=\"Convert this dataframe to an interactive table.\"\n",
              "            style=\"display:none;\">\n",
              "\n",
              "  <svg xmlns=\"http://www.w3.org/2000/svg\" height=\"24px\" viewBox=\"0 -960 960 960\">\n",
              "    <path d=\"M120-120v-720h720v720H120Zm60-500h600v-160H180v160Zm220 220h160v-160H400v160Zm0 220h160v-160H400v160ZM180-400h160v-160H180v160Zm440 0h160v-160H620v160ZM180-180h160v-160H180v160Zm440 0h160v-160H620v160Z\"/>\n",
              "  </svg>\n",
              "    </button>\n",
              "\n",
              "  <style>\n",
              "    .colab-df-container {\n",
              "      display:flex;\n",
              "      gap: 12px;\n",
              "    }\n",
              "\n",
              "    .colab-df-convert {\n",
              "      background-color: #E8F0FE;\n",
              "      border: none;\n",
              "      border-radius: 50%;\n",
              "      cursor: pointer;\n",
              "      display: none;\n",
              "      fill: #1967D2;\n",
              "      height: 32px;\n",
              "      padding: 0 0 0 0;\n",
              "      width: 32px;\n",
              "    }\n",
              "\n",
              "    .colab-df-convert:hover {\n",
              "      background-color: #E2EBFA;\n",
              "      box-shadow: 0px 1px 2px rgba(60, 64, 67, 0.3), 0px 1px 3px 1px rgba(60, 64, 67, 0.15);\n",
              "      fill: #174EA6;\n",
              "    }\n",
              "\n",
              "    .colab-df-buttons div {\n",
              "      margin-bottom: 4px;\n",
              "    }\n",
              "\n",
              "    [theme=dark] .colab-df-convert {\n",
              "      background-color: #3B4455;\n",
              "      fill: #D2E3FC;\n",
              "    }\n",
              "\n",
              "    [theme=dark] .colab-df-convert:hover {\n",
              "      background-color: #434B5C;\n",
              "      box-shadow: 0px 1px 3px 1px rgba(0, 0, 0, 0.15);\n",
              "      filter: drop-shadow(0px 1px 2px rgba(0, 0, 0, 0.3));\n",
              "      fill: #FFFFFF;\n",
              "    }\n",
              "  </style>\n",
              "\n",
              "    <script>\n",
              "      const buttonEl =\n",
              "        document.querySelector('#df-143ad8c0-ed1e-4692-ac17-8484c70fb161 button.colab-df-convert');\n",
              "      buttonEl.style.display =\n",
              "        google.colab.kernel.accessAllowed ? 'block' : 'none';\n",
              "\n",
              "      async function convertToInteractive(key) {\n",
              "        const element = document.querySelector('#df-143ad8c0-ed1e-4692-ac17-8484c70fb161');\n",
              "        const dataTable =\n",
              "          await google.colab.kernel.invokeFunction('convertToInteractive',\n",
              "                                                    [key], {});\n",
              "        if (!dataTable) return;\n",
              "\n",
              "        const docLinkHtml = 'Like what you see? Visit the ' +\n",
              "          '<a target=\"_blank\" href=https://colab.research.google.com/notebooks/data_table.ipynb>data table notebook</a>'\n",
              "          + ' to learn more about interactive tables.';\n",
              "        element.innerHTML = '';\n",
              "        dataTable['output_type'] = 'display_data';\n",
              "        await google.colab.output.renderOutput(dataTable, element);\n",
              "        const docLink = document.createElement('div');\n",
              "        docLink.innerHTML = docLinkHtml;\n",
              "        element.appendChild(docLink);\n",
              "      }\n",
              "    </script>\n",
              "  </div>\n",
              "\n",
              "\n",
              "<div id=\"df-932c3a41-9cf8-4ee5-920d-94a10d4f52b6\">\n",
              "  <button class=\"colab-df-quickchart\" onclick=\"quickchart('df-932c3a41-9cf8-4ee5-920d-94a10d4f52b6')\"\n",
              "            title=\"Suggest charts\"\n",
              "            style=\"display:none;\">\n",
              "\n",
              "<svg xmlns=\"http://www.w3.org/2000/svg\" height=\"24px\"viewBox=\"0 0 24 24\"\n",
              "     width=\"24px\">\n",
              "    <g>\n",
              "        <path d=\"M19 3H5c-1.1 0-2 .9-2 2v14c0 1.1.9 2 2 2h14c1.1 0 2-.9 2-2V5c0-1.1-.9-2-2-2zM9 17H7v-7h2v7zm4 0h-2V7h2v10zm4 0h-2v-4h2v4z\"/>\n",
              "    </g>\n",
              "</svg>\n",
              "  </button>\n",
              "\n",
              "<style>\n",
              "  .colab-df-quickchart {\n",
              "      --bg-color: #E8F0FE;\n",
              "      --fill-color: #1967D2;\n",
              "      --hover-bg-color: #E2EBFA;\n",
              "      --hover-fill-color: #174EA6;\n",
              "      --disabled-fill-color: #AAA;\n",
              "      --disabled-bg-color: #DDD;\n",
              "  }\n",
              "\n",
              "  [theme=dark] .colab-df-quickchart {\n",
              "      --bg-color: #3B4455;\n",
              "      --fill-color: #D2E3FC;\n",
              "      --hover-bg-color: #434B5C;\n",
              "      --hover-fill-color: #FFFFFF;\n",
              "      --disabled-bg-color: #3B4455;\n",
              "      --disabled-fill-color: #666;\n",
              "  }\n",
              "\n",
              "  .colab-df-quickchart {\n",
              "    background-color: var(--bg-color);\n",
              "    border: none;\n",
              "    border-radius: 50%;\n",
              "    cursor: pointer;\n",
              "    display: none;\n",
              "    fill: var(--fill-color);\n",
              "    height: 32px;\n",
              "    padding: 0;\n",
              "    width: 32px;\n",
              "  }\n",
              "\n",
              "  .colab-df-quickchart:hover {\n",
              "    background-color: var(--hover-bg-color);\n",
              "    box-shadow: 0 1px 2px rgba(60, 64, 67, 0.3), 0 1px 3px 1px rgba(60, 64, 67, 0.15);\n",
              "    fill: var(--button-hover-fill-color);\n",
              "  }\n",
              "\n",
              "  .colab-df-quickchart-complete:disabled,\n",
              "  .colab-df-quickchart-complete:disabled:hover {\n",
              "    background-color: var(--disabled-bg-color);\n",
              "    fill: var(--disabled-fill-color);\n",
              "    box-shadow: none;\n",
              "  }\n",
              "\n",
              "  .colab-df-spinner {\n",
              "    border: 2px solid var(--fill-color);\n",
              "    border-color: transparent;\n",
              "    border-bottom-color: var(--fill-color);\n",
              "    animation:\n",
              "      spin 1s steps(1) infinite;\n",
              "  }\n",
              "\n",
              "  @keyframes spin {\n",
              "    0% {\n",
              "      border-color: transparent;\n",
              "      border-bottom-color: var(--fill-color);\n",
              "      border-left-color: var(--fill-color);\n",
              "    }\n",
              "    20% {\n",
              "      border-color: transparent;\n",
              "      border-left-color: var(--fill-color);\n",
              "      border-top-color: var(--fill-color);\n",
              "    }\n",
              "    30% {\n",
              "      border-color: transparent;\n",
              "      border-left-color: var(--fill-color);\n",
              "      border-top-color: var(--fill-color);\n",
              "      border-right-color: var(--fill-color);\n",
              "    }\n",
              "    40% {\n",
              "      border-color: transparent;\n",
              "      border-right-color: var(--fill-color);\n",
              "      border-top-color: var(--fill-color);\n",
              "    }\n",
              "    60% {\n",
              "      border-color: transparent;\n",
              "      border-right-color: var(--fill-color);\n",
              "    }\n",
              "    80% {\n",
              "      border-color: transparent;\n",
              "      border-right-color: var(--fill-color);\n",
              "      border-bottom-color: var(--fill-color);\n",
              "    }\n",
              "    90% {\n",
              "      border-color: transparent;\n",
              "      border-bottom-color: var(--fill-color);\n",
              "    }\n",
              "  }\n",
              "</style>\n",
              "\n",
              "  <script>\n",
              "    async function quickchart(key) {\n",
              "      const quickchartButtonEl =\n",
              "        document.querySelector('#' + key + ' button');\n",
              "      quickchartButtonEl.disabled = true;  // To prevent multiple clicks.\n",
              "      quickchartButtonEl.classList.add('colab-df-spinner');\n",
              "      try {\n",
              "        const charts = await google.colab.kernel.invokeFunction(\n",
              "            'suggestCharts', [key], {});\n",
              "      } catch (error) {\n",
              "        console.error('Error during call to suggestCharts:', error);\n",
              "      }\n",
              "      quickchartButtonEl.classList.remove('colab-df-spinner');\n",
              "      quickchartButtonEl.classList.add('colab-df-quickchart-complete');\n",
              "    }\n",
              "    (() => {\n",
              "      let quickchartButtonEl =\n",
              "        document.querySelector('#df-932c3a41-9cf8-4ee5-920d-94a10d4f52b6 button');\n",
              "      quickchartButtonEl.style.display =\n",
              "        google.colab.kernel.accessAllowed ? 'block' : 'none';\n",
              "    })();\n",
              "  </script>\n",
              "</div>\n",
              "\n",
              "  <div id=\"id_08c3a7ee-ecfa-4df9-9854-a7207e27de29\">\n",
              "    <style>\n",
              "      .colab-df-generate {\n",
              "        background-color: #E8F0FE;\n",
              "        border: none;\n",
              "        border-radius: 50%;\n",
              "        cursor: pointer;\n",
              "        display: none;\n",
              "        fill: #1967D2;\n",
              "        height: 32px;\n",
              "        padding: 0 0 0 0;\n",
              "        width: 32px;\n",
              "      }\n",
              "\n",
              "      .colab-df-generate:hover {\n",
              "        background-color: #E2EBFA;\n",
              "        box-shadow: 0px 1px 2px rgba(60, 64, 67, 0.3), 0px 1px 3px 1px rgba(60, 64, 67, 0.15);\n",
              "        fill: #174EA6;\n",
              "      }\n",
              "\n",
              "      [theme=dark] .colab-df-generate {\n",
              "        background-color: #3B4455;\n",
              "        fill: #D2E3FC;\n",
              "      }\n",
              "\n",
              "      [theme=dark] .colab-df-generate:hover {\n",
              "        background-color: #434B5C;\n",
              "        box-shadow: 0px 1px 3px 1px rgba(0, 0, 0, 0.15);\n",
              "        filter: drop-shadow(0px 1px 2px rgba(0, 0, 0, 0.3));\n",
              "        fill: #FFFFFF;\n",
              "      }\n",
              "    </style>\n",
              "    <button class=\"colab-df-generate\" onclick=\"generateWithVariable('df')\"\n",
              "            title=\"Generate code using this dataframe.\"\n",
              "            style=\"display:none;\">\n",
              "\n",
              "  <svg xmlns=\"http://www.w3.org/2000/svg\" height=\"24px\"viewBox=\"0 0 24 24\"\n",
              "       width=\"24px\">\n",
              "    <path d=\"M7,19H8.4L18.45,9,17,7.55,7,17.6ZM5,21V16.75L18.45,3.32a2,2,0,0,1,2.83,0l1.4,1.43a1.91,1.91,0,0,1,.58,1.4,1.91,1.91,0,0,1-.58,1.4L9.25,21ZM18.45,9,17,7.55Zm-12,3A5.31,5.31,0,0,0,4.9,8.1,5.31,5.31,0,0,0,1,6.5,5.31,5.31,0,0,0,4.9,4.9,5.31,5.31,0,0,0,6.5,1,5.31,5.31,0,0,0,8.1,4.9,5.31,5.31,0,0,0,12,6.5,5.46,5.46,0,0,0,6.5,12Z\"/>\n",
              "  </svg>\n",
              "    </button>\n",
              "    <script>\n",
              "      (() => {\n",
              "      const buttonEl =\n",
              "        document.querySelector('#id_08c3a7ee-ecfa-4df9-9854-a7207e27de29 button.colab-df-generate');\n",
              "      buttonEl.style.display =\n",
              "        google.colab.kernel.accessAllowed ? 'block' : 'none';\n",
              "\n",
              "      buttonEl.onclick = () => {\n",
              "        google.colab.notebook.generateWithVariable('df');\n",
              "      }\n",
              "      })();\n",
              "    </script>\n",
              "  </div>\n",
              "\n",
              "    </div>\n",
              "  </div>\n"
            ],
            "application/vnd.google.colaboratory.intrinsic+json": {
              "type": "dataframe",
              "variable_name": "df",
              "summary": "{\n  \"name\": \"df\",\n  \"rows\": 3835,\n  \"fields\": [\n    {\n      \"column\": \"Date\",\n      \"properties\": {\n        \"dtype\": \"date\",\n        \"min\": \"2014-09-17 00:00:00\",\n        \"max\": \"2025-03-17 00:00:00\",\n        \"num_unique_values\": 3835,\n        \"samples\": [\n          \"2022-06-21 00:00:00\",\n          \"2021-09-12 00:00:00\",\n          \"2016-11-30 00:00:00\"\n        ],\n        \"semantic_type\": \"\",\n        \"description\": \"\"\n      }\n    },\n    {\n      \"column\": \"y\",\n      \"properties\": {\n        \"dtype\": \"number\",\n        \"std\": 24314.8290602491,\n        \"min\": 178.10299682617188,\n        \"max\": 106146.265625,\n        \"num_unique_values\": 3832,\n        \"samples\": [\n          37472.08984375,\n          16624.599609375,\n          45897.57421875\n        ],\n        \"semantic_type\": \"\",\n        \"description\": \"\"\n      }\n    }\n  ]\n}"
            }
          },
          "metadata": {},
          "execution_count": 6
        }
      ]
    },
    {
      "cell_type": "code",
      "source": [
        "df.plot()"
      ],
      "metadata": {
        "colab": {
          "base_uri": "https://localhost:8080/",
          "height": 466
        },
        "id": "uBgotDaf2-iG",
        "outputId": "093305d8-6ef6-4b5d-be03-5821f99628f4"
      },
      "execution_count": 7,
      "outputs": [
        {
          "output_type": "execute_result",
          "data": {
            "text/plain": [
              "<Axes: xlabel='Date'>"
            ]
          },
          "metadata": {},
          "execution_count": 7
        },
        {
          "output_type": "display_data",
          "data": {
            "text/plain": [
              "<Figure size 640x480 with 1 Axes>"
            ],
            "image/png": "[encoded data removed]"
          },
          "metadata": {}
        }
      ]
    },
    {
      "cell_type": "markdown",
      "source": [
        "## Train / Test"
      ],
      "metadata": {
        "id": "7bEQk5OyTmda"
      }
    },
    {
      "cell_type": "code",
      "source": [
        "size = int(len(df) * 0.7)\n",
        "train, test = df[0:size], df[size:len(df)]\n",
        "print(train.shape)\n",
        "print(test.shape)"
      ],
      "metadata": {
        "colab": {
          "base_uri": "https://localhost:8080/"
        },
        "id": "zDpcofmFTqAd",
        "outputId": "62749f98-f193-41d1-94ed-4b4f86e98098"
      },
      "execution_count": 8,
      "outputs": [
        {
          "output_type": "stream",
          "name": "stdout",
          "text": [
            "(2684, 1)\n",
            "(1151, 1)\n"
          ]
        }
      ]
    },
    {
      "cell_type": "code",
      "source": [
        "train"
      ],
      "metadata": {
        "colab": {
          "base_uri": "https://localhost:8080/",
          "height": 455
        },
        "id": "trIxf9Ycv1G9",
        "outputId": "834bcc73-24e5-4174-d9d2-e9154a82eab5"
      },
      "execution_count": 9,
      "outputs": [
        {
          "output_type": "execute_result",
          "data": {
            "text/plain": [
              "Ticker                 y\n",
              "Date                    \n",
              "2014-09-17    457.334015\n",
              "2014-09-18    424.440002\n",
              "2014-09-19    394.795990\n",
              "2014-09-20    408.903992\n",
              "2014-09-21    398.821014\n",
              "...                  ...\n",
              "2022-01-17  42250.550781\n",
              "2022-01-18  42375.632812\n",
              "2022-01-19  41744.328125\n",
              "2022-01-20  40680.417969\n",
              "2022-01-21  36457.316406\n",
              "\n",
              "[2684 rows x 1 columns]"
            ],
            "text/html": [
              "\n",
              "  <div id=\"df-78fa8e33-b513-4350-b652-8d3dbb35fbd9\" class=\"colab-df-container\">\n",
              "    <div>\n",
              "<style scoped>\n",
              "    .dataframe tbody tr th:only-of-type {\n",
              "        vertical-align: middle;\n",
              "    }\n",
              "\n",
              "    .dataframe tbody tr th {\n",
              "        vertical-align: top;\n",
              "    }\n",
              "\n",
              "    .dataframe thead th {\n",
              "        text-align: right;\n",
              "    }\n",
              "</style>\n",
              "<table border=\"1\" class=\"dataframe\">\n",
              "  <thead>\n",
              "    <tr style=\"text-align: right;\">\n",
              "      <th>Ticker</th>\n",
              "      <th>y</th>\n",
              "    </tr>\n",
              "    <tr>\n",
              "      <th>Date</th>\n",
              "      <th></th>\n",
              "    </tr>\n",
              "  </thead>\n",
              "  <tbody>\n",
              "    <tr>\n",
              "      <th>2014-09-17</th>\n",
              "      <td>457.334015</td>\n",
              "    </tr>\n",
              "    <tr>\n",
              "      <th>2014-09-18</th>\n",
              "      <td>424.440002</td>\n",
              "    </tr>\n",
              "    <tr>\n",
              "      <th>2014-09-19</th>\n",
              "      <td>394.795990</td>\n",
              "    </tr>\n",
              "    <tr>\n",
              "      <th>2014-09-20</th>\n",
              "      <td>408.903992</td>\n",
              "    </tr>\n",
              "    <tr>\n",
              "      <th>2014-09-21</th>\n",
              "      <td>398.821014</td>\n",
              "    </tr>\n",
              "    <tr>\n",
              "      <th>...</th>\n",
              "      <td>...</td>\n",
              "    </tr>\n",
              "    <tr>\n",
              "      <th>2022-01-17</th>\n",
              "      <td>42250.550781</td>\n",
              "    </tr>\n",
              "    <tr>\n",
              "      <th>2022-01-18</th>\n",
              "      <td>42375.632812</td>\n",
              "    </tr>\n",
              "    <tr>\n",
              "      <th>2022-01-19</th>\n",
              "      <td>41744.328125</td>\n",
              "    </tr>\n",
              "    <tr>\n",
              "      <th>2022-01-20</th>\n",
              "      <td>40680.417969</td>\n",
              "    </tr>\n",
              "    <tr>\n",
              "      <th>2022-01-21</th>\n",
              "      <td>36457.316406</td>\n",
              "    </tr>\n",
              "  </tbody>\n",
              "</table>\n",
              "<p>2684 rows × 1 columns</p>\n",
              "</div>\n",
              "    <div class=\"colab-df-buttons\">\n",
              "\n",
              "  <div class=\"colab-df-container\">\n",
              "    <button class=\"colab-df-convert\" onclick=\"convertToInteractive('df-78fa8e33-b513-4350-b652-8d3dbb35fbd9')\"\n",
              "            title=\"Convert this dataframe to an interactive table.\"\n",
              "            style=\"display:none;\">\n",
              "\n",
              "  <svg xmlns=\"http://www.w3.org/2000/svg\" height=\"24px\" viewBox=\"0 -960 960 960\">\n",
              "    <path d=\"M120-120v-720h720v720H120Zm60-500h600v-160H180v160Zm220 220h160v-160H400v160Zm0 220h160v-160H400v160ZM180-400h160v-160H180v160Zm440 0h160v-160H620v160ZM180-180h160v-160H180v160Zm440 0h160v-160H620v160Z\"/>\n",
              "  </svg>\n",
              "    </button>\n",
              "\n",
              "  <style>\n",
              "    .colab-df-container {\n",
              "      display:flex;\n",
              "      gap: 12px;\n",
              "    }\n",
              "\n",
              "    .colab-df-convert {\n",
              "      background-color: #E8F0FE;\n",
              "      border: none;\n",
              "      border-radius: 50%;\n",
              "      cursor: pointer;\n",
              "      display: none;\n",
              "      fill: #1967D2;\n",
              "      height: 32px;\n",
              "      padding: 0 0 0 0;\n",
              "      width: 32px;\n",
              "    }\n",
              "\n",
              "    .colab-df-convert:hover {\n",
              "      background-color: #E2EBFA;\n",
              "      box-shadow: 0px 1px 2px rgba(60, 64, 67, 0.3), 0px 1px 3px 1px rgba(60, 64, 67, 0.15);\n",
              "      fill: #174EA6;\n",
              "    }\n",
              "\n",
              "    .colab-df-buttons div {\n",
              "      margin-bottom: 4px;\n",
              "    }\n",
              "\n",
              "    [theme=dark] .colab-df-convert {\n",
              "      background-color: #3B4455;\n",
              "      fill: #D2E3FC;\n",
              "    }\n",
              "\n",
              "    [theme=dark] .colab-df-convert:hover {\n",
              "      background-color: #434B5C;\n",
              "      box-shadow: 0px 1px 3px 1px rgba(0, 0, 0, 0.15);\n",
              "      filter: drop-shadow(0px 1px 2px rgba(0, 0, 0, 0.3));\n",
              "      fill: #FFFFFF;\n",
              "    }\n",
              "  </style>\n",
              "\n",
              "    <script>\n",
              "      const buttonEl =\n",
              "        document.querySelector('#df-78fa8e33-b513-4350-b652-8d3dbb35fbd9 button.colab-df-convert');\n",
              "      buttonEl.style.display =\n",
              "        google.colab.kernel.accessAllowed ? 'block' : 'none';\n",
              "\n",
              "      async function convertToInteractive(key) {\n",
              "        const element = document.querySelector('#df-78fa8e33-b513-4350-b652-8d3dbb35fbd9');\n",
              "        const dataTable =\n",
              "          await google.colab.kernel.invokeFunction('convertToInteractive',\n",
              "                                                    [key], {});\n",
              "        if (!dataTable) return;\n",
              "\n",
              "        const docLinkHtml = 'Like what you see? Visit the ' +\n",
              "          '<a target=\"_blank\" href=https://colab.research.google.com/notebooks/data_table.ipynb>data table notebook</a>'\n",
              "          + ' to learn more about interactive tables.';\n",
              "        element.innerHTML = '';\n",
              "        dataTable['output_type'] = 'display_data';\n",
              "        await google.colab.output.renderOutput(dataTable, element);\n",
              "        const docLink = document.createElement('div');\n",
              "        docLink.innerHTML = docLinkHtml;\n",
              "        element.appendChild(docLink);\n",
              "      }\n",
              "    </script>\n",
              "  </div>\n",
              "\n",
              "\n",
              "<div id=\"df-3b9a3388-2499-4388-99b2-86d65e92f6a5\">\n",
              "  <button class=\"colab-df-quickchart\" onclick=\"quickchart('df-3b9a3388-2499-4388-99b2-86d65e92f6a5')\"\n",
              "            title=\"Suggest charts\"\n",
              "            style=\"display:none;\">\n",
              "\n",
              "<svg xmlns=\"http://www.w3.org/2000/svg\" height=\"24px\"viewBox=\"0 0 24 24\"\n",
              "     width=\"24px\">\n",
              "    <g>\n",
              "        <path d=\"M19 3H5c-1.1 0-2 .9-2 2v14c0 1.1.9 2 2 2h14c1.1 0 2-.9 2-2V5c0-1.1-.9-2-2-2zM9 17H7v-7h2v7zm4 0h-2V7h2v10zm4 0h-2v-4h2v4z\"/>\n",
              "    </g>\n",
              "</svg>\n",
              "  </button>\n",
              "\n",
              "<style>\n",
              "  .colab-df-quickchart {\n",
              "      --bg-color: #E8F0FE;\n",
              "      --fill-color: #1967D2;\n",
              "      --hover-bg-color: #E2EBFA;\n",
              "      --hover-fill-color: #174EA6;\n",
              "      --disabled-fill-color: #AAA;\n",
              "      --disabled-bg-color: #DDD;\n",
              "  }\n",
              "\n",
              "  [theme=dark] .colab-df-quickchart {\n",
              "      --bg-color: #3B4455;\n",
              "      --fill-color: #D2E3FC;\n",
              "      --hover-bg-color: #434B5C;\n",
              "      --hover-fill-color: #FFFFFF;\n",
              "      --disabled-bg-color: #3B4455;\n",
              "      --disabled-fill-color: #666;\n",
              "  }\n",
              "\n",
              "  .colab-df-quickchart {\n",
              "    background-color: var(--bg-color);\n",
              "    border: none;\n",
              "    border-radius: 50%;\n",
              "    cursor: pointer;\n",
              "    display: none;\n",
              "    fill: var(--fill-color);\n",
              "    height: 32px;\n",
              "    padding: 0;\n",
              "    width: 32px;\n",
              "  }\n",
              "\n",
              "  .colab-df-quickchart:hover {\n",
              "    background-color: var(--hover-bg-color);\n",
              "    box-shadow: 0 1px 2px rgba(60, 64, 67, 0.3), 0 1px 3px 1px rgba(60, 64, 67, 0.15);\n",
              "    fill: var(--button-hover-fill-color);\n",
              "  }\n",
              "\n",
              "  .colab-df-quickchart-complete:disabled,\n",
              "  .colab-df-quickchart-complete:disabled:hover {\n",
              "    background-color: var(--disabled-bg-color);\n",
              "    fill: var(--disabled-fill-color);\n",
              "    box-shadow: none;\n",
              "  }\n",
              "\n",
              "  .colab-df-spinner {\n",
              "    border: 2px solid var(--fill-color);\n",
              "    border-color: transparent;\n",
              "    border-bottom-color: var(--fill-color);\n",
              "    animation:\n",
              "      spin 1s steps(1) infinite;\n",
              "  }\n",
              "\n",
              "  @keyframes spin {\n",
              "    0% {\n",
              "      border-color: transparent;\n",
              "      border-bottom-color: var(--fill-color);\n",
              "      border-left-color: var(--fill-color);\n",
              "    }\n",
              "    20% {\n",
              "      border-color: transparent;\n",
              "      border-left-color: var(--fill-color);\n",
              "      border-top-color: var(--fill-color);\n",
              "    }\n",
              "    30% {\n",
              "      border-color: transparent;\n",
              "      border-left-color: var(--fill-color);\n",
              "      border-top-color: var(--fill-color);\n",
              "      border-right-color: var(--fill-color);\n",
              "    }\n",
              "    40% {\n",
              "      border-color: transparent;\n",
              "      border-right-color: var(--fill-color);\n",
              "      border-top-color: var(--fill-color);\n",
              "    }\n",
              "    60% {\n",
              "      border-color: transparent;\n",
              "      border-right-color: var(--fill-color);\n",
              "    }\n",
              "    80% {\n",
              "      border-color: transparent;\n",
              "      border-right-color: var(--fill-color);\n",
              "      border-bottom-color: var(--fill-color);\n",
              "    }\n",
              "    90% {\n",
              "      border-color: transparent;\n",
              "      border-bottom-color: var(--fill-color);\n",
              "    }\n",
              "  }\n",
              "</style>\n",
              "\n",
              "  <script>\n",
              "    async function quickchart(key) {\n",
              "      const quickchartButtonEl =\n",
              "        document.querySelector('#' + key + ' button');\n",
              "      quickchartButtonEl.disabled = true;  // To prevent multiple clicks.\n",
              "      quickchartButtonEl.classList.add('colab-df-spinner');\n",
              "      try {\n",
              "        const charts = await google.colab.kernel.invokeFunction(\n",
              "            'suggestCharts', [key], {});\n",
              "      } catch (error) {\n",
              "        console.error('Error during call to suggestCharts:', error);\n",
              "      }\n",
              "      quickchartButtonEl.classList.remove('colab-df-spinner');\n",
              "      quickchartButtonEl.classList.add('colab-df-quickchart-complete');\n",
              "    }\n",
              "    (() => {\n",
              "      let quickchartButtonEl =\n",
              "        document.querySelector('#df-3b9a3388-2499-4388-99b2-86d65e92f6a5 button');\n",
              "      quickchartButtonEl.style.display =\n",
              "        google.colab.kernel.accessAllowed ? 'block' : 'none';\n",
              "    })();\n",
              "  </script>\n",
              "</div>\n",
              "\n",
              "  <div id=\"id_37d8ec49-ea12-4ed7-a59a-7862bd2f31c3\">\n",
              "    <style>\n",
              "      .colab-df-generate {\n",
              "        background-color: #E8F0FE;\n",
              "        border: none;\n",
              "        border-radius: 50%;\n",
              "        cursor: pointer;\n",
              "        display: none;\n",
              "        fill: #1967D2;\n",
              "        height: 32px;\n",
              "        padding: 0 0 0 0;\n",
              "        width: 32px;\n",
              "      }\n",
              "\n",
              "      .colab-df-generate:hover {\n",
              "        background-color: #E2EBFA;\n",
              "        box-shadow: 0px 1px 2px rgba(60, 64, 67, 0.3), 0px 1px 3px 1px rgba(60, 64, 67, 0.15);\n",
              "        fill: #174EA6;\n",
              "      }\n",
              "\n",
              "      [theme=dark] .colab-df-generate {\n",
              "        background-color: #3B4455;\n",
              "        fill: #D2E3FC;\n",
              "      }\n",
              "\n",
              "      [theme=dark] .colab-df-generate:hover {\n",
              "        background-color: #434B5C;\n",
              "        box-shadow: 0px 1px 3px 1px rgba(0, 0, 0, 0.15);\n",
              "        filter: drop-shadow(0px 1px 2px rgba(0, 0, 0, 0.3));\n",
              "        fill: #FFFFFF;\n",
              "      }\n",
              "    </style>\n",
              "    <button class=\"colab-df-generate\" onclick=\"generateWithVariable('train')\"\n",
              "            title=\"Generate code using this dataframe.\"\n",
              "            style=\"display:none;\">\n",
              "\n",
              "  <svg xmlns=\"http://www.w3.org/2000/svg\" height=\"24px\"viewBox=\"0 0 24 24\"\n",
              "       width=\"24px\">\n",
              "    <path d=\"M7,19H8.4L18.45,9,17,7.55,7,17.6ZM5,21V16.75L18.45,3.32a2,2,0,0,1,2.83,0l1.4,1.43a1.91,1.91,0,0,1,.58,1.4,1.91,1.91,0,0,1-.58,1.4L9.25,21ZM18.45,9,17,7.55Zm-12,3A5.31,5.31,0,0,0,4.9,8.1,5.31,5.31,0,0,0,1,6.5,5.31,5.31,0,0,0,4.9,4.9,5.31,5.31,0,0,0,6.5,1,5.31,5.31,0,0,0,8.1,4.9,5.31,5.31,0,0,0,12,6.5,5.46,5.46,0,0,0,6.5,12Z\"/>\n",
              "  </svg>\n",
              "    </button>\n",
              "    <script>\n",
              "      (() => {\n",
              "      const buttonEl =\n",
              "        document.querySelector('#id_37d8ec49-ea12-4ed7-a59a-7862bd2f31c3 button.colab-df-generate');\n",
              "      buttonEl.style.display =\n",
              "        google.colab.kernel.accessAllowed ? 'block' : 'none';\n",
              "\n",
              "      buttonEl.onclick = () => {\n",
              "        google.colab.notebook.generateWithVariable('train');\n",
              "      }\n",
              "      })();\n",
              "    </script>\n",
              "  </div>\n",
              "\n",
              "    </div>\n",
              "  </div>\n"
            ],
            "application/vnd.google.colaboratory.intrinsic+json": {
              "type": "dataframe",
              "variable_name": "train",
              "summary": "{\n  \"name\": \"train\",\n  \"rows\": 2684,\n  \"fields\": [\n    {\n      \"column\": \"Date\",\n      \"properties\": {\n        \"dtype\": \"date\",\n        \"min\": \"2014-09-17 00:00:00\",\n        \"max\": \"2022-01-21 00:00:00\",\n        \"num_unique_values\": 2684,\n        \"samples\": [\n          \"2020-08-20 00:00:00\",\n          \"2019-12-10 00:00:00\",\n          \"2018-11-06 00:00:00\"\n        ],\n        \"semantic_type\": \"\",\n        \"description\": \"\"\n      }\n    },\n    {\n      \"column\": \"y\",\n      \"properties\": {\n        \"dtype\": \"number\",\n        \"std\": 15911.893317455124,\n        \"min\": 178.10299682617188,\n        \"max\": 67566.828125,\n        \"num_unique_values\": 2681,\n        \"samples\": [\n          612.510986328125,\n          5399.365234375,\n          6361.259765625\n        ],\n        \"semantic_type\": \"\",\n        \"description\": \"\"\n      }\n    }\n  ]\n}"
            }
          },
          "metadata": {},
          "execution_count": 9
        }
      ]
    },
    {
      "cell_type": "code",
      "source": [
        "train.plot()"
      ],
      "metadata": {
        "colab": {
          "base_uri": "https://localhost:8080/",
          "height": 467
        },
        "id": "SKIyJ_X15Oy7",
        "outputId": "b04af5a7-6239-4b1e-a51b-8effa4c2862c"
      },
      "execution_count": 10,
      "outputs": [
        {
          "output_type": "execute_result",
          "data": {
            "text/plain": [
              "<Axes: xlabel='Date'>"
            ]
          },
          "metadata": {},
          "execution_count": 10
        },
        {
          "output_type": "display_data",
          "data": {
            "text/plain": [
              "<Figure size 640x480 with 1 Axes>"
            ],
            "image/png": "[encoded data removed]"
          },
          "metadata": {}
        }
      ]
    },
    {
      "cell_type": "code",
      "source": [
        "train['y'].diff(1).dropna().plot()"
      ],
      "metadata": {
        "colab": {
          "base_uri": "https://localhost:8080/",
          "height": 471
        },
        "id": "PBvX_I37yVd2",
        "outputId": "e1757d66-53d4-469c-b2bb-5ee2f8a63360"
      },
      "execution_count": 11,
      "outputs": [
        {
          "output_type": "execute_result",
          "data": {
            "text/plain": [
              "<Axes: xlabel='Date'>"
            ]
          },
          "metadata": {},
          "execution_count": 11
        },
        {
          "output_type": "display_data",
          "data": {
            "text/plain": [
              "<Figure size 640x480 with 1 Axes>"
            ],
            "image/png": "[encoded data removed]"
          },
          "metadata": {}
        }
      ]
    },
    {
      "cell_type": "markdown",
      "source": [
        "# Normalization"
      ],
      "metadata": {
        "id": "Uv1NoX5b2LZX"
      }
    },
    {
      "cell_type": "code",
      "source": [
        "train_log = train.copy()\n",
        "train_log['y']=np.log(train_log['y'])"
      ],
      "metadata": {
        "id": "Ff1BfuX21-gP"
      },
      "execution_count": 12,
      "outputs": []
    },
    {
      "cell_type": "code",
      "source": [
        "train_log"
      ],
      "metadata": {
        "colab": {
          "base_uri": "https://localhost:8080/",
          "height": 455
        },
        "id": "uhxW9SG13lT7",
        "outputId": "bcc728b9-4d42-4e93-8962-b51943039955"
      },
      "execution_count": 13,
      "outputs": [
        {
          "output_type": "execute_result",
          "data": {
            "text/plain": [
              "Ticker              y\n",
              "Date                 \n",
              "2014-09-17   6.125414\n",
              "2014-09-18   6.050771\n",
              "2014-09-19   5.978369\n",
              "2014-09-20   6.013480\n",
              "2014-09-21   5.988513\n",
              "...               ...\n",
              "2022-01-17  10.651373\n",
              "2022-01-18  10.654329\n",
              "2022-01-19  10.639319\n",
              "2022-01-20  10.613502\n",
              "2022-01-21  10.503897\n",
              "\n",
              "[2684 rows x 1 columns]"
            ],
            "text/html": [
              "\n",
              "  <div id=\"df-398f7da8-1c87-474d-9916-847789db0492\" class=\"colab-df-container\">\n",
              "    <div>\n",
              "<style scoped>\n",
              "    .dataframe tbody tr th:only-of-type {\n",
              "        vertical-align: middle;\n",
              "    }\n",
              "\n",
              "    .dataframe tbody tr th {\n",
              "        vertical-align: top;\n",
              "    }\n",
              "\n",
              "    .dataframe thead th {\n",
              "        text-align: right;\n",
              "    }\n",
              "</style>\n",
              "<table border=\"1\" class=\"dataframe\">\n",
              "  <thead>\n",
              "    <tr style=\"text-align: right;\">\n",
              "      <th>Ticker</th>\n",
              "      <th>y</th>\n",
              "    </tr>\n",
              "    <tr>\n",
              "      <th>Date</th>\n",
              "      <th></th>\n",
              "    </tr>\n",
              "  </thead>\n",
              "  <tbody>\n",
              "    <tr>\n",
              "      <th>2014-09-17</th>\n",
              "      <td>6.125414</td>\n",
              "    </tr>\n",
              "    <tr>\n",
              "      <th>2014-09-18</th>\n",
              "      <td>6.050771</td>\n",
              "    </tr>\n",
              "    <tr>\n",
              "      <th>2014-09-19</th>\n",
              "      <td>5.978369</td>\n",
              "    </tr>\n",
              "    <tr>\n",
              "      <th>2014-09-20</th>\n",
              "      <td>6.013480</td>\n",
              "    </tr>\n",
              "    <tr>\n",
              "      <th>2014-09-21</th>\n",
              "      <td>5.988513</td>\n",
              "    </tr>\n",
              "    <tr>\n",
              "      <th>...</th>\n",
              "      <td>...</td>\n",
              "    </tr>\n",
              "    <tr>\n",
              "      <th>2022-01-17</th>\n",
              "      <td>10.651373</td>\n",
              "    </tr>\n",
              "    <tr>\n",
              "      <th>2022-01-18</th>\n",
              "      <td>10.654329</td>\n",
              "    </tr>\n",
              "    <tr>\n",
              "      <th>2022-01-19</th>\n",
              "      <td>10.639319</td>\n",
              "    </tr>\n",
              "    <tr>\n",
              "      <th>2022-01-20</th>\n",
              "      <td>10.613502</td>\n",
              "    </tr>\n",
              "    <tr>\n",
              "      <th>2022-01-21</th>\n",
              "      <td>10.503897</td>\n",
              "    </tr>\n",
              "  </tbody>\n",
              "</table>\n",
              "<p>2684 rows × 1 columns</p>\n",
              "</div>\n",
              "    <div class=\"colab-df-buttons\">\n",
              "\n",
              "  <div class=\"colab-df-container\">\n",
              "    <button class=\"colab-df-convert\" onclick=\"convertToInteractive('df-398f7da8-1c87-474d-9916-847789db0492')\"\n",
              "            title=\"Convert this dataframe to an interactive table.\"\n",
              "            style=\"display:none;\">\n",
              "\n",
              "  <svg xmlns=\"http://www.w3.org/2000/svg\" height=\"24px\" viewBox=\"0 -960 960 960\">\n",
              "    <path d=\"M120-120v-720h720v720H120Zm60-500h600v-160H180v160Zm220 220h160v-160H400v160Zm0 220h160v-160H400v160ZM180-400h160v-160H180v160Zm440 0h160v-160H620v160ZM180-180h160v-160H180v160Zm440 0h160v-160H620v160Z\"/>\n",
              "  </svg>\n",
              "    </button>\n",
              "\n",
              "  <style>\n",
              "    .colab-df-container {\n",
              "      display:flex;\n",
              "      gap: 12px;\n",
              "    }\n",
              "\n",
              "    .colab-df-convert {\n",
              "      background-color: #E8F0FE;\n",
              "      border: none;\n",
              "      border-radius: 50%;\n",
              "      cursor: pointer;\n",
              "      display: none;\n",
              "      fill: #1967D2;\n",
              "      height: 32px;\n",
              "      padding: 0 0 0 0;\n",
              "      width: 32px;\n",
              "    }\n",
              "\n",
              "    .colab-df-convert:hover {\n",
              "      background-color: #E2EBFA;\n",
              "      box-shadow: 0px 1px 2px rgba(60, 64, 67, 0.3), 0px 1px 3px 1px rgba(60, 64, 67, 0.15);\n",
              "      fill: #174EA6;\n",
              "    }\n",
              "\n",
              "    .colab-df-buttons div {\n",
              "      margin-bottom: 4px;\n",
              "    }\n",
              "\n",
              "    [theme=dark] .colab-df-convert {\n",
              "      background-color: #3B4455;\n",
              "      fill: #D2E3FC;\n",
              "    }\n",
              "\n",
              "    [theme=dark] .colab-df-convert:hover {\n",
              "      background-color: #434B5C;\n",
              "      box-shadow: 0px 1px 3px 1px rgba(0, 0, 0, 0.15);\n",
              "      filter: drop-shadow(0px 1px 2px rgba(0, 0, 0, 0.3));\n",
              "      fill: #FFFFFF;\n",
              "    }\n",
              "  </style>\n",
              "\n",
              "    <script>\n",
              "      const buttonEl =\n",
              "        document.querySelector('#df-398f7da8-1c87-474d-9916-847789db0492 button.colab-df-convert');\n",
              "      buttonEl.style.display =\n",
              "        google.colab.kernel.accessAllowed ? 'block' : 'none';\n",
              "\n",
              "      async function convertToInteractive(key) {\n",
              "        const element = document.querySelector('#df-398f7da8-1c87-474d-9916-847789db0492');\n",
              "        const dataTable =\n",
              "          await google.colab.kernel.invokeFunction('convertToInteractive',\n",
              "                                                    [key], {});\n",
              "        if (!dataTable) return;\n",
              "\n",
              "        const docLinkHtml = 'Like what you see? Visit the ' +\n",
              "          '<a target=\"_blank\" href=https://colab.research.google.com/notebooks/data_table.ipynb>data table notebook</a>'\n",
              "          + ' to learn more about interactive tables.';\n",
              "        element.innerHTML = '';\n",
              "        dataTable['output_type'] = 'display_data';\n",
              "        await google.colab.output.renderOutput(dataTable, element);\n",
              "        const docLink = document.createElement('div');\n",
              "        docLink.innerHTML = docLinkHtml;\n",
              "        element.appendChild(docLink);\n",
              "      }\n",
              "    </script>\n",
              "  </div>\n",
              "\n",
              "\n",
              "<div id=\"df-61ac823d-3659-4940-b8d3-4bfba33133fc\">\n",
              "  <button class=\"colab-df-quickchart\" onclick=\"quickchart('df-61ac823d-3659-4940-b8d3-4bfba33133fc')\"\n",
              "            title=\"Suggest charts\"\n",
              "            style=\"display:none;\">\n",
              "\n",
              "<svg xmlns=\"http://www.w3.org/2000/svg\" height=\"24px\"viewBox=\"0 0 24 24\"\n",
              "     width=\"24px\">\n",
              "    <g>\n",
              "        <path d=\"M19 3H5c-1.1 0-2 .9-2 2v14c0 1.1.9 2 2 2h14c1.1 0 2-.9 2-2V5c0-1.1-.9-2-2-2zM9 17H7v-7h2v7zm4 0h-2V7h2v10zm4 0h-2v-4h2v4z\"/>\n",
              "    </g>\n",
              "</svg>\n",
              "  </button>\n",
              "\n",
              "<style>\n",
              "  .colab-df-quickchart {\n",
              "      --bg-color: #E8F0FE;\n",
              "      --fill-color: #1967D2;\n",
              "      --hover-bg-color: #E2EBFA;\n",
              "      --hover-fill-color: #174EA6;\n",
              "      --disabled-fill-color: #AAA;\n",
              "      --disabled-bg-color: #DDD;\n",
              "  }\n",
              "\n",
              "  [theme=dark] .colab-df-quickchart {\n",
              "      --bg-color: #3B4455;\n",
              "      --fill-color: #D2E3FC;\n",
              "      --hover-bg-color: #434B5C;\n",
              "      --hover-fill-color: #FFFFFF;\n",
              "      --disabled-bg-color: #3B4455;\n",
              "      --disabled-fill-color: #666;\n",
              "  }\n",
              "\n",
              "  .colab-df-quickchart {\n",
              "    background-color: var(--bg-color);\n",
              "    border: none;\n",
              "    border-radius: 50%;\n",
              "    cursor: pointer;\n",
              "    display: none;\n",
              "    fill: var(--fill-color);\n",
              "    height: 32px;\n",
              "    padding: 0;\n",
              "    width: 32px;\n",
              "  }\n",
              "\n",
              "  .colab-df-quickchart:hover {\n",
              "    background-color: var(--hover-bg-color);\n",
              "    box-shadow: 0 1px 2px rgba(60, 64, 67, 0.3), 0 1px 3px 1px rgba(60, 64, 67, 0.15);\n",
              "    fill: var(--button-hover-fill-color);\n",
              "  }\n",
              "\n",
              "  .colab-df-quickchart-complete:disabled,\n",
              "  .colab-df-quickchart-complete:disabled:hover {\n",
              "    background-color: var(--disabled-bg-color);\n",
              "    fill: var(--disabled-fill-color);\n",
              "    box-shadow: none;\n",
              "  }\n",
              "\n",
              "  .colab-df-spinner {\n",
              "    border: 2px solid var(--fill-color);\n",
              "    border-color: transparent;\n",
              "    border-bottom-color: var(--fill-color);\n",
              "    animation:\n",
              "      spin 1s steps(1) infinite;\n",
              "  }\n",
              "\n",
              "  @keyframes spin {\n",
              "    0% {\n",
              "      border-color: transparent;\n",
              "      border-bottom-color: var(--fill-color);\n",
              "      border-left-color: var(--fill-color);\n",
              "    }\n",
              "    20% {\n",
              "      border-color: transparent;\n",
              "      border-left-color: var(--fill-color);\n",
              "      border-top-color: var(--fill-color);\n",
              "    }\n",
              "    30% {\n",
              "      border-color: transparent;\n",
              "      border-left-color: var(--fill-color);\n",
              "      border-top-color: var(--fill-color);\n",
              "      border-right-color: var(--fill-color);\n",
              "    }\n",
              "    40% {\n",
              "      border-color: transparent;\n",
              "      border-right-color: var(--fill-color);\n",
              "      border-top-color: var(--fill-color);\n",
              "    }\n",
              "    60% {\n",
              "      border-color: transparent;\n",
              "      border-right-color: var(--fill-color);\n",
              "    }\n",
              "    80% {\n",
              "      border-color: transparent;\n",
              "      border-right-color: var(--fill-color);\n",
              "      border-bottom-color: var(--fill-color);\n",
              "    }\n",
              "    90% {\n",
              "      border-color: transparent;\n",
              "      border-bottom-color: var(--fill-color);\n",
              "    }\n",
              "  }\n",
              "</style>\n",
              "\n",
              "  <script>\n",
              "    async function quickchart(key) {\n",
              "      const quickchartButtonEl =\n",
              "        document.querySelector('#' + key + ' button');\n",
              "      quickchartButtonEl.disabled = true;  // To prevent multiple clicks.\n",
              "      quickchartButtonEl.classList.add('colab-df-spinner');\n",
              "      try {\n",
              "        const charts = await google.colab.kernel.invokeFunction(\n",
              "            'suggestCharts', [key], {});\n",
              "      } catch (error) {\n",
              "        console.error('Error during call to suggestCharts:', error);\n",
              "      }\n",
              "      quickchartButtonEl.classList.remove('colab-df-spinner');\n",
              "      quickchartButtonEl.classList.add('colab-df-quickchart-complete');\n",
              "    }\n",
              "    (() => {\n",
              "      let quickchartButtonEl =\n",
              "        document.querySelector('#df-61ac823d-3659-4940-b8d3-4bfba33133fc button');\n",
              "      quickchartButtonEl.style.display =\n",
              "        google.colab.kernel.accessAllowed ? 'block' : 'none';\n",
              "    })();\n",
              "  </script>\n",
              "</div>\n",
              "\n",
              "  <div id=\"id_57801e59-1ca6-438a-a17d-9903d6a0c154\">\n",
              "    <style>\n",
              "      .colab-df-generate {\n",
              "        background-color: #E8F0FE;\n",
              "        border: none;\n",
              "        border-radius: 50%;\n",
              "        cursor: pointer;\n",
              "        display: none;\n",
              "        fill: #1967D2;\n",
              "        height: 32px;\n",
              "        padding: 0 0 0 0;\n",
              "        width: 32px;\n",
              "      }\n",
              "\n",
              "      .colab-df-generate:hover {\n",
              "        background-color: #E2EBFA;\n",
              "        box-shadow: 0px 1px 2px rgba(60, 64, 67, 0.3), 0px 1px 3px 1px rgba(60, 64, 67, 0.15);\n",
              "        fill: #174EA6;\n",
              "      }\n",
              "\n",
              "      [theme=dark] .colab-df-generate {\n",
              "        background-color: #3B4455;\n",
              "        fill: #D2E3FC;\n",
              "      }\n",
              "\n",
              "      [theme=dark] .colab-df-generate:hover {\n",
              "        background-color: #434B5C;\n",
              "        box-shadow: 0px 1px 3px 1px rgba(0, 0, 0, 0.15);\n",
              "        filter: drop-shadow(0px 1px 2px rgba(0, 0, 0, 0.3));\n",
              "        fill: #FFFFFF;\n",
              "      }\n",
              "    </style>\n",
              "    <button class=\"colab-df-generate\" onclick=\"generateWithVariable('train_log')\"\n",
              "            title=\"Generate code using this dataframe.\"\n",
              "            style=\"display:none;\">\n",
              "\n",
              "  <svg xmlns=\"http://www.w3.org/2000/svg\" height=\"24px\"viewBox=\"0 0 24 24\"\n",
              "       width=\"24px\">\n",
              "    <path d=\"M7,19H8.4L18.45,9,17,7.55,7,17.6ZM5,21V16.75L18.45,3.32a2,2,0,0,1,2.83,0l1.4,1.43a1.91,1.91,0,0,1,.58,1.4,1.91,1.91,0,0,1-.58,1.4L9.25,21ZM18.45,9,17,7.55Zm-12,3A5.31,5.31,0,0,0,4.9,8.1,5.31,5.31,0,0,0,1,6.5,5.31,5.31,0,0,0,4.9,4.9,5.31,5.31,0,0,0,6.5,1,5.31,5.31,0,0,0,8.1,4.9,5.31,5.31,0,0,0,12,6.5,5.46,5.46,0,0,0,6.5,12Z\"/>\n",
              "  </svg>\n",
              "    </button>\n",
              "    <script>\n",
              "      (() => {\n",
              "      const buttonEl =\n",
              "        document.querySelector('#id_57801e59-1ca6-438a-a17d-9903d6a0c154 button.colab-df-generate');\n",
              "      buttonEl.style.display =\n",
              "        google.colab.kernel.accessAllowed ? 'block' : 'none';\n",
              "\n",
              "      buttonEl.onclick = () => {\n",
              "        google.colab.notebook.generateWithVariable('train_log');\n",
              "      }\n",
              "      })();\n",
              "    </script>\n",
              "  </div>\n",
              "\n",
              "    </div>\n",
              "  </div>\n"
            ],
            "application/vnd.google.colaboratory.intrinsic+json": {
              "type": "dataframe",
              "variable_name": "train_log",
              "summary": "{\n  \"name\": \"train_log\",\n  \"rows\": 2684,\n  \"fields\": [\n    {\n      \"column\": \"Date\",\n      \"properties\": {\n        \"dtype\": \"date\",\n        \"min\": \"2014-09-17 00:00:00\",\n        \"max\": \"2022-01-21 00:00:00\",\n        \"num_unique_values\": 2684,\n        \"samples\": [\n          \"2020-08-20 00:00:00\",\n          \"2019-12-10 00:00:00\",\n          \"2018-11-06 00:00:00\"\n        ],\n        \"semantic_type\": \"\",\n        \"description\": \"\"\n      }\n    },\n    {\n      \"column\": \"y\",\n      \"properties\": {\n        \"dtype\": \"number\",\n        \"std\": 1.7318550225499265,\n        \"min\": 5.182362016802965,\n        \"max\": 11.12087243338432,\n        \"num_unique_values\": 2681,\n        \"samples\": [\n          6.417566879120264,\n          8.594036676453104,\n          8.757981713075768\n        ],\n        \"semantic_type\": \"\",\n        \"description\": \"\"\n      }\n    }\n  ]\n}"
            }
          },
          "metadata": {},
          "execution_count": 13
        }
      ]
    },
    {
      "cell_type": "code",
      "source": [
        "train_log.plot()"
      ],
      "metadata": {
        "colab": {
          "base_uri": "https://localhost:8080/",
          "height": 466
        },
        "id": "OnskQyDK3bJ3",
        "outputId": "f007312d-ed21-4f2a-ecae-4543d5702a78"
      },
      "execution_count": 14,
      "outputs": [
        {
          "output_type": "execute_result",
          "data": {
            "text/plain": [
              "<Axes: xlabel='Date'>"
            ]
          },
          "metadata": {},
          "execution_count": 14
        },
        {
          "output_type": "display_data",
          "data": {
            "text/plain": [
              "<Figure size 640x480 with 1 Axes>"
            ],
            "image/png": "[encoded data removed]"
          },
          "metadata": {}
        }
      ]
    },
    {
      "cell_type": "markdown",
      "source": [
        "# Differentiation"
      ],
      "metadata": {
        "id": "MRwTDT-ej_bK"
      }
    },
    {
      "cell_type": "code",
      "source": [
        "def adf_test(series,title=''):\n",
        "    \"\"\"\n",
        "    Pass in a time series and an optional title, returns an ADF report\n",
        "    \"\"\"\n",
        "    print(f'Augmented Dickey-Fuller Test: {title}')\n",
        "    result = adfuller(series.dropna(),autolag='AIC') # .dropna() handles differenced data\n",
        "\n",
        "    labels = ['ADF test statistic','p-value','# lags used','# observations']\n",
        "    out = pd.Series(result[0:4],index=labels)\n",
        "\n",
        "    for key,val in result[4].items():\n",
        "        out[f'critical value ({key})']=val\n",
        "\n",
        "    print(out.to_string())          # .to_string() removes the line \"dtype: float64\"\n",
        "\n",
        "    if result[1] <= 0.05:\n",
        "        print(\"Reject the null hypothesis\")\n",
        "        print(\"Data has no unit root and is stationary\")\n",
        "    else:\n",
        "        print(\"Fail to reject the null hypothesis\")\n",
        "        print(\"Data has a unit root and is non-stationary\")"
      ],
      "metadata": {
        "id": "gLAGLha0e3OJ"
      },
      "execution_count": 15,
      "outputs": []
    },
    {
      "cell_type": "markdown",
      "source": [
        "## 1ª diff"
      ],
      "metadata": {
        "id": "GUIcp4m58_61"
      }
    },
    {
      "cell_type": "code",
      "source": [
        "diff1 = train_log['y'].diff(1).dropna()"
      ],
      "metadata": {
        "id": "MORcKbYvjqXV"
      },
      "execution_count": 16,
      "outputs": []
    },
    {
      "cell_type": "code",
      "source": [
        "diff1.plot()"
      ],
      "metadata": {
        "colab": {
          "base_uri": "https://localhost:8080/",
          "height": 466
        },
        "id": "PGrFSnj00jMs",
        "outputId": "349c3d87-e765-4228-f845-e563cb4b7316"
      },
      "execution_count": 17,
      "outputs": [
        {
          "output_type": "execute_result",
          "data": {
            "text/plain": [
              "<Axes: xlabel='Date'>"
            ]
          },
          "metadata": {},
          "execution_count": 17
        },
        {
          "output_type": "display_data",
          "data": {
            "text/plain": [
              "<Figure size 640x480 with 1 Axes>"
            ],
            "image/png": "[encoded data removed]"
          },
          "metadata": {}
        }
      ]
    },
    {
      "cell_type": "code",
      "source": [
        "plot_acf(diff1, title='1a Diferenciação')"
      ],
      "metadata": {
        "colab": {
          "base_uri": "https://localhost:8080/",
          "height": 887
        },
        "id": "oxopCYwmkSdi",
        "outputId": "c01ae86f-2361-4f77-f9e8-60590d41db7b"
      },
      "execution_count": 18,
      "outputs": [
        {
          "output_type": "execute_result",
          "data": {
            "text/plain": [
              "<Figure size 640x480 with 1 Axes>"
            ],
            "image/png": "[encoded data removed]"
          },
          "metadata": {},
          "execution_count": 18
        },
        {
          "output_type": "display_data",
          "data": {
            "text/plain": [
              "<Figure size 640x480 with 1 Axes>"
            ],
            "image/png": "[encoded data removed]"
          },
          "metadata": {}
        }
      ]
    },
    {
      "cell_type": "code",
      "source": [
        "adf_test(diff1)"
      ],
      "metadata": {
        "colab": {
          "base_uri": "https://localhost:8080/"
        },
        "id": "LRg387Uhe-Tx",
        "outputId": "ff85f8ca-20c7-4b3e-be3d-642979fd3e68"
      },
      "execution_count": 19,
      "outputs": [
        {
          "output_type": "stream",
          "name": "stdout",
          "text": [
            "Augmented Dickey-Fuller Test: \n",
            "ADF test statistic     -1.549768e+01\n",
            "p-value                 2.438495e-28\n",
            "# lags used             9.000000e+00\n",
            "# observations          2.673000e+03\n",
            "critical value (1%)    -3.432799e+00\n",
            "critical value (5%)    -2.862622e+00\n",
            "critical value (10%)   -2.567346e+00\n",
            "Reject the null hypothesis\n",
            "Data has no unit root and is stationary\n"
          ]
        }
      ]
    },
    {
      "cell_type": "markdown",
      "source": [
        "## 2ª diff"
      ],
      "metadata": {
        "id": "kyPgnqqs9Ede"
      }
    },
    {
      "cell_type": "code",
      "source": [
        "diff2 = diff1.diff(1).dropna()\n"
      ],
      "metadata": {
        "id": "ziU8BlBwEMfD"
      },
      "execution_count": 20,
      "outputs": []
    },
    {
      "cell_type": "code",
      "source": [
        "diff2.plot()"
      ],
      "metadata": {
        "colab": {
          "base_uri": "https://localhost:8080/",
          "height": 466
        },
        "id": "YIYG3WTb0mRq",
        "outputId": "ef7f2e87-125e-4a97-b3c8-c924ced61aab"
      },
      "execution_count": 21,
      "outputs": [
        {
          "output_type": "execute_result",
          "data": {
            "text/plain": [
              "<Axes: xlabel='Date'>"
            ]
          },
          "metadata": {},
          "execution_count": 21
        },
        {
          "output_type": "display_data",
          "data": {
            "text/plain": [
              "<Figure size 640x480 with 1 Axes>"
            ],
            "image/png": "[encoded data removed]"
          },
          "metadata": {}
        }
      ]
    },
    {
      "cell_type": "code",
      "source": [
        "plot_acf(diff2, title='2a Diferenciação')"
      ],
      "metadata": {
        "colab": {
          "base_uri": "https://localhost:8080/",
          "height": 887
        },
        "id": "kGq3IzXEEMQd",
        "outputId": "34675592-d89b-47a3-d883-2b47fb0921b4"
      },
      "execution_count": 22,
      "outputs": [
        {
          "output_type": "execute_result",
          "data": {
            "text/plain": [
              "<Figure size 640x480 with 1 Axes>"
            ],
            "image/png": "[encoded data removed]"
          },
          "metadata": {},
          "execution_count": 22
        },
        {
          "output_type": "display_data",
          "data": {
            "text/plain": [
              "<Figure size 640x480 with 1 Axes>"
            ],
            "image/png": "[encoded data removed]"
          },
          "metadata": {}
        }
      ]
    },
    {
      "cell_type": "code",
      "source": [
        "adf_test(diff2)"
      ],
      "metadata": {
        "colab": {
          "base_uri": "https://localhost:8080/"
        },
        "id": "shUGZ2hdfA-J",
        "outputId": "0a5c372d-85cb-45e0-e66e-d2a1d630200c"
      },
      "execution_count": 23,
      "outputs": [
        {
          "output_type": "stream",
          "name": "stdout",
          "text": [
            "Augmented Dickey-Fuller Test: \n",
            "ADF test statistic     -1.687147e+01\n",
            "p-value                 1.080251e-29\n",
            "# lags used             2.600000e+01\n",
            "# observations          2.655000e+03\n",
            "critical value (1%)    -3.432815e+00\n",
            "critical value (5%)    -2.862629e+00\n",
            "critical value (10%)   -2.567350e+00\n",
            "Reject the null hypothesis\n",
            "Data has no unit root and is stationary\n"
          ]
        }
      ]
    },
    {
      "cell_type": "markdown",
      "source": [
        "## Análise\n",
        "A análise dos gráficos sugere os seguintes hiperparâmetros:"
      ],
      "metadata": {
        "id": "OE8xkQhM_buV"
      }
    },
    {
      "cell_type": "code",
      "source": [
        "p = 1\n",
        "d = 1\n",
        "q = 0"
      ],
      "metadata": {
        "id": "wO9TY8e6johX"
      },
      "execution_count": 24,
      "outputs": []
    },
    {
      "cell_type": "markdown",
      "source": [
        "# Modelo AR"
      ],
      "metadata": {
        "id": "9-mFgk27NI1Z"
      }
    },
    {
      "cell_type": "markdown",
      "source": [
        "## lag 1"
      ],
      "metadata": {
        "id": "e9aZQyEjQ2NV"
      }
    },
    {
      "cell_type": "code",
      "source": [
        "mod1 = AutoReg(train_log['y'], p, old_names=False)\n",
        "res1 = mod1.fit()\n",
        "print(res1.summary())"
      ],
      "metadata": {
        "colab": {
          "base_uri": "https://localhost:8080/"
        },
        "id": "XJTw3ubuNLIP",
        "outputId": "7d955f03-6954-4212-83f4-6608d334083c"
      },
      "execution_count": 25,
      "outputs": [
        {
          "output_type": "stream",
          "name": "stdout",
          "text": [
            "                            AutoReg Model Results                             \n",
            "==============================================================================\n",
            "Dep. Variable:                      y   No. Observations:                 2684\n",
            "Model:                     AutoReg(1)   Log Likelihood                4881.872\n",
            "Method:               Conditional MLE   S.D. of innovations              0.039\n",
            "Date:                Tue, 25 Mar 2025   AIC                          -9757.743\n",
            "Time:                        21:28:49   BIC                          -9740.059\n",
            "Sample:                    09-18-2014   HQIC                         -9751.346\n",
            "                         - 01-21-2022                                         \n",
            "==============================================================================\n",
            "                 coef    std err          z      P>|z|      [0.025      0.975]\n",
            "------------------------------------------------------------------------------\n",
            "const          0.0030      0.004      0.816      0.414      -0.004       0.010\n",
            "y.L1           0.9998      0.000   2285.920      0.000       0.999       1.001\n",
            "                                    Roots                                    \n",
            "=============================================================================\n",
            "                  Real          Imaginary           Modulus         Frequency\n",
            "-----------------------------------------------------------------------------\n",
            "AR.1            1.0002           +0.0000j            1.0002            0.0000\n",
            "-----------------------------------------------------------------------------\n"
          ]
        },
        {
          "output_type": "stream",
          "name": "stderr",
          "text": [
            "/usr/local/lib/python3.11/dist-packages/statsmodels/tsa/base/tsa_model.py:473: ValueWarning: No frequency information was provided, so inferred frequency D will be used.\n",
            "  self._init_dates(dates, freq)\n"
          ]
        }
      ]
    },
    {
      "cell_type": "code",
      "source": [
        "# This is the general format for obtaining predictions\n",
        "start=len(train_log)\n",
        "end=len(train_log)+len(test)-1\n",
        "predictions1 = np.exp(res1.predict(start=start, end=end, dynamic=False).rename(f'AR({p}) Predictions'))"
      ],
      "metadata": {
        "id": "eLLMjjw7OkG0",
        "colab": {
          "base_uri": "https://localhost:8080/"
        },
        "outputId": "e7090669-2b9d-4bf4-eb13-63156f1f1b34"
      },
      "execution_count": 26,
      "outputs": [
        {
          "output_type": "stream",
          "name": "stderr",
          "text": [
            "/usr/local/lib/python3.11/dist-packages/statsmodels/tsa/deterministic.py:308: UserWarning: Only PeriodIndexes, DatetimeIndexes with a frequency set, RangesIndexes, and Index with a unit increment support extending. The index is set will contain the position relative to the data length.\n",
            "  fcast_index = self._extend_index(index, steps, forecast_index)\n"
          ]
        }
      ]
    },
    {
      "cell_type": "code",
      "source": [
        "predictions1"
      ],
      "metadata": {
        "colab": {
          "base_uri": "https://localhost:8080/",
          "height": 458
        },
        "id": "9jBZJyeaOuoC",
        "outputId": "2254436f-4ccd-4d57-b4b0-c49248f751cf"
      },
      "execution_count": 27,
      "outputs": [
        {
          "output_type": "execute_result",
          "data": {
            "text/plain": [
              "2022-01-22     36502.685719\n",
              "2022-01-23     36548.104010\n",
              "2022-01-24     36593.571325\n",
              "2022-01-25     36639.087706\n",
              "2022-01-26     36684.653197\n",
              "                  ...      \n",
              "2025-03-13    133778.476784\n",
              "2025-03-14    133916.302490\n",
              "2025-03-15    134054.247474\n",
              "2025-03-16    134192.311815\n",
              "2025-03-17    134330.495594\n",
              "Freq: D, Name: AR(1) Predictions, Length: 1151, dtype: float64"
            ],
            "text/html": [
              "<div>\n",
              "<style scoped>\n",
              "    .dataframe tbody tr th:only-of-type {\n",
              "        vertical-align: middle;\n",
              "    }\n",
              "\n",
              "    .dataframe tbody tr th {\n",
              "        vertical-align: top;\n",
              "    }\n",
              "\n",
              "    .dataframe thead th {\n",
              "        text-align: right;\n",
              "    }\n",
              "</style>\n",
              "<table border=\"1\" class=\"dataframe\">\n",
              "  <thead>\n",
              "    <tr style=\"text-align: right;\">\n",
              "      <th></th>\n",
              "      <th>AR(1) Predictions</th>\n",
              "    </tr>\n",
              "  </thead>\n",
              "  <tbody>\n",
              "    <tr>\n",
              "      <th>2022-01-22</th>\n",
              "      <td>36502.685719</td>\n",
              "    </tr>\n",
              "    <tr>\n",
              "      <th>2022-01-23</th>\n",
              "      <td>36548.104010</td>\n",
              "    </tr>\n",
              "    <tr>\n",
              "      <th>2022-01-24</th>\n",
              "      <td>36593.571325</td>\n",
              "    </tr>\n",
              "    <tr>\n",
              "      <th>2022-01-25</th>\n",
              "      <td>36639.087706</td>\n",
              "    </tr>\n",
              "    <tr>\n",
              "      <th>2022-01-26</th>\n",
              "      <td>36684.653197</td>\n",
              "    </tr>\n",
              "    <tr>\n",
              "      <th>...</th>\n",
              "      <td>...</td>\n",
              "    </tr>\n",
              "    <tr>\n",
              "      <th>2025-03-13</th>\n",
              "      <td>133778.476784</td>\n",
              "    </tr>\n",
              "    <tr>\n",
              "      <th>2025-03-14</th>\n",
              "      <td>133916.302490</td>\n",
              "    </tr>\n",
              "    <tr>\n",
              "      <th>2025-03-15</th>\n",
              "      <td>134054.247474</td>\n",
              "    </tr>\n",
              "    <tr>\n",
              "      <th>2025-03-16</th>\n",
              "      <td>134192.311815</td>\n",
              "    </tr>\n",
              "    <tr>\n",
              "      <th>2025-03-17</th>\n",
              "      <td>134330.495594</td>\n",
              "    </tr>\n",
              "  </tbody>\n",
              "</table>\n",
              "<p>1151 rows × 1 columns</p>\n",
              "</div><br><label><b>dtype:</b> float64</label>"
            ]
          },
          "metadata": {},
          "execution_count": 27
        }
      ]
    },
    {
      "cell_type": "code",
      "source": [
        "train['y'].plot(legend=True, label='train')\n",
        "test['y'].plot(legend=True, label='test')\n",
        "predictions1.plot(legend=True,figsize=(12,6))"
      ],
      "metadata": {
        "colab": {
          "base_uri": "https://localhost:8080/",
          "height": 561
        },
        "id": "N-q2dz3iPyVd",
        "outputId": "d233e9a8-8aab-47bf-b4ba-ff9343d36c24"
      },
      "execution_count": 28,
      "outputs": [
        {
          "output_type": "execute_result",
          "data": {
            "text/plain": [
              "<Axes: xlabel='Date'>"
            ]
          },
          "metadata": {},
          "execution_count": 28
        },
        {
          "output_type": "display_data",
          "data": {
            "text/plain": [
              "<Figure size 1200x600 with 1 Axes>"
            ],
            "image/png": "[encoded data removed]"
          },
          "metadata": {}
        }
      ]
    },
    {
      "cell_type": "markdown",
      "source": [
        "# Modelo Arima"
      ],
      "metadata": {
        "id": "pOKsgMPX4SMP"
      }
    },
    {
      "cell_type": "code",
      "source": [
        "model = ARIMA(train_log, order=(p,d,q))\n",
        "model_fit = model.fit()"
      ],
      "metadata": {
        "id": "tRoXDPzo3SoK",
        "colab": {
          "base_uri": "https://localhost:8080/"
        },
        "outputId": "b012dd36-b0f7-49e1-89f3-f2422b914266"
      },
      "execution_count": 29,
      "outputs": [
        {
          "output_type": "stream",
          "name": "stderr",
          "text": [
            "/usr/local/lib/python3.11/dist-packages/statsmodels/tsa/base/tsa_model.py:473: ValueWarning: No frequency information was provided, so inferred frequency D will be used.\n",
            "  self._init_dates(dates, freq)\n",
            "/usr/local/lib/python3.11/dist-packages/statsmodels/tsa/base/tsa_model.py:473: ValueWarning: No frequency information was provided, so inferred frequency D will be used.\n",
            "  self._init_dates(dates, freq)\n",
            "/usr/local/lib/python3.11/dist-packages/statsmodels/tsa/base/tsa_model.py:473: ValueWarning: No frequency information was provided, so inferred frequency D will be used.\n",
            "  self._init_dates(dates, freq)\n"
          ]
        }
      ]
    },
    {
      "cell_type": "code",
      "source": [
        "\n",
        "# summary of fit model\n",
        "print(model_fit.summary())\n",
        "# line plot of residuals\n",
        "residuals = DataFrame(model_fit.resid)\n",
        "residuals.plot()\n",
        "\n",
        "# density plot of residuals\n",
        "residuals.plot(kind='kde')\n",
        "\n",
        "# summary stats of residuals\n",
        "print(residuals.describe())"
      ],
      "metadata": {
        "colab": {
          "base_uri": "https://localhost:8080/",
          "height": 1000
        },
        "id": "gcbRBgf5BLU0",
        "outputId": "822ccfee-14eb-43fb-ed80-249ba938cd11"
      },
      "execution_count": 30,
      "outputs": [
        {
          "output_type": "stream",
          "name": "stdout",
          "text": [
            "                               SARIMAX Results                                \n",
            "==============================================================================\n",
            "Dep. Variable:                      y   No. Observations:                 2684\n",
            "Model:                 ARIMA(1, 1, 0)   Log Likelihood                4879.962\n",
            "Date:                Tue, 25 Mar 2025   AIC                          -9755.924\n",
            "Time:                        21:28:51   BIC                          -9744.134\n",
            "Sample:                    09-17-2014   HQIC                         -9751.659\n",
            "                         - 01-21-2022                                         \n",
            "Covariance Type:                  opg                                         \n",
            "==============================================================================\n",
            "                 coef    std err          z      P>|z|      [0.025      0.975]\n",
            "------------------------------------------------------------------------------\n",
            "ar.L1         -0.0190      0.012     -1.557      0.119      -0.043       0.005\n",
            "sigma2         0.0015   1.65e-05     93.260      0.000       0.002       0.002\n",
            "===================================================================================\n",
            "Ljung-Box (L1) (Q):                   0.01   Jarque-Bera (JB):             14525.87\n",
            "Prob(Q):                              0.93   Prob(JB):                         0.00\n",
            "Heteroskedasticity (H):               1.47   Skew:                            -0.81\n",
            "Prob(H) (two-sided):                  0.00   Kurtosis:                        14.28\n",
            "===================================================================================\n",
            "\n",
            "Warnings:\n",
            "[1] Covariance matrix calculated using the outer product of gradients (complex-step).\n",
            "                 0\n",
            "count  2684.000000\n",
            "mean      0.003945\n",
            "std       0.124538\n",
            "min      -0.464726\n",
            "25%      -0.013154\n",
            "50%       0.001995\n",
            "75%       0.018236\n",
            "max       6.125414\n"
          ]
        },
        {
          "output_type": "display_data",
          "data": {
            "text/plain": [
              "<Figure size 640x480 with 1 Axes>"
            ],
            "image/png": "[encoded data removed]"
          },
          "metadata": {}
        },
        {
          "output_type": "display_data",
          "data": {
            "text/plain": [
              "<Figure size 640x480 with 1 Axes>"
            ],
            "image/png": "[encoded data removed]"
          },
          "metadata": {}
        }
      ]
    },
    {
      "cell_type": "code",
      "source": [
        "plot_acf(residuals)"
      ],
      "metadata": {
        "colab": {
          "base_uri": "https://localhost:8080/",
          "height": 887
        },
        "id": "iYGl6QNZ4P0M",
        "outputId": "dccdb6db-66ce-43ce-f4ed-972fa4028467"
      },
      "execution_count": 31,
      "outputs": [
        {
          "output_type": "execute_result",
          "data": {
            "text/plain": [
              "<Figure size 640x480 with 1 Axes>"
            ],
            "image/png": "[encoded data removed]"
          },
          "metadata": {},
          "execution_count": 31
        },
        {
          "output_type": "display_data",
          "data": {
            "text/plain": [
              "<Figure size 640x480 with 1 Axes>"
            ],
            "image/png": "[encoded data removed]"
          },
          "metadata": {}
        }
      ]
    },
    {
      "cell_type": "code",
      "source": [
        "adf_test(residuals)"
      ],
      "metadata": {
        "colab": {
          "base_uri": "https://localhost:8080/"
        },
        "id": "MhNUyz7QriWZ",
        "outputId": "894ed154-b19f-4d2a-b954-86ebcad4afa7"
      },
      "execution_count": 32,
      "outputs": [
        {
          "output_type": "stream",
          "name": "stdout",
          "text": [
            "Augmented Dickey-Fuller Test: \n",
            "ADF test statistic     -1.698452e+01\n",
            "p-value                 8.961810e-30\n",
            "# lags used             9.000000e+00\n",
            "# observations          2.674000e+03\n",
            "critical value (1%)    -3.432798e+00\n",
            "critical value (5%)    -2.862621e+00\n",
            "critical value (10%)   -2.567346e+00\n",
            "Reject the null hypothesis\n",
            "Data has no unit root and is stationary\n"
          ]
        }
      ]
    },
    {
      "cell_type": "code",
      "source": [
        "history = train_log['y'].tolist()\n",
        "\n",
        "predictions = np.array([])\n",
        "#walk-foward validation\n",
        "#test_values = test['y'].tolist()\n",
        "for t in range(len(test)):\n",
        "  model = ARIMA(history, order=(p,d,q))\n",
        "  # fit model\n",
        "  model_fit = model.fit()\n",
        "  yhat = np.exp(model_fit.forecast()[0])\n",
        "  predictions = np.append(predictions, yhat)\n",
        "  obs = test['y'].iloc[t]\n",
        "  history.append(np.log(obs))\n",
        "  print(f'predicted={yhat}, expected={obs}')\n",
        "\n"
      ],
      "metadata": {
        "id": "8J7pWAhKYFQz",
        "colab": {
          "base_uri": "https://localhost:8080/"
        },
        "outputId": "0bc3ec8e-3d0d-4e1d-f534-adf073d61134"
      },
      "execution_count": 33,
      "outputs": [
        {
          "output_type": "stream",
          "name": "stdout",
          "text": [
            "predicted=36533.14602816229, expected=35030.25\n",
            "predicted=35055.21801779323, expected=36276.8046875\n",
            "predicted=36253.75829723844, expected=36654.328125\n",
            "predicted=36647.467186361355, expected=36954.00390625\n",
            "predicted=36948.5699024385, expected=36852.12109375\n"
          ]
        },
        {
          "output_type": "stream",
          "name": "stderr",
          "text": [
            "/usr/local/lib/python3.11/dist-packages/statsmodels/base/model.py:607: ConvergenceWarning: Maximum Likelihood optimization failed to converge. Check mle_retvals\n",
            "  warnings.warn(\"Maximum Likelihood optimization failed to \"\n"
          ]
        },
        {
          "output_type": "stream",
          "name": "stdout",
          "text": [
            "predicted=36853.95919318304, expected=37138.234375\n"
          ]
        },
        {
          "output_type": "stream",
          "name": "stderr",
          "text": [
            "/usr/local/lib/python3.11/dist-packages/statsmodels/base/model.py:607: ConvergenceWarning: Maximum Likelihood optimization failed to converge. Check mle_retvals\n",
            "  warnings.warn(\"Maximum Likelihood optimization failed to \"\n"
          ]
        },
        {
          "output_type": "stream",
          "name": "stdout",
          "text": [
            "predicted=37133.04438934459, expected=37784.33203125\n",
            "predicted=37772.578483073026, expected=38138.1796875\n",
            "predicted=38131.78184843008, expected=37917.6015625\n"
          ]
        },
        {
          "output_type": "stream",
          "name": "stderr",
          "text": [
            "/usr/local/lib/python3.11/dist-packages/statsmodels/base/model.py:607: ConvergenceWarning: Maximum Likelihood optimization failed to converge. Check mle_retvals\n",
            "  warnings.warn(\"Maximum Likelihood optimization failed to \"\n"
          ]
        },
        {
          "output_type": "stream",
          "name": "stdout",
          "text": [
            "predicted=37921.563081392356, expected=38483.125\n",
            "predicted=38472.85342944124, expected=38743.2734375\n",
            "predicted=38738.573559189215, expected=36952.984375\n",
            "predicted=36984.61248864114, expected=37154.6015625\n",
            "predicted=37150.93531474846, expected=41500.875\n",
            "predicted=41418.362015823914, expected=41441.1640625\n",
            "predicted=41442.236641724725, expected=42412.43359375\n",
            "predicted=42394.76725205683, expected=43840.28515625\n",
            "predicted=43814.45886262551, expected=44118.4453125\n",
            "predicted=44113.49499108533, expected=44338.796875\n",
            "predicted=44334.87965032838, expected=43565.11328125\n",
            "predicted=43578.73140742916, expected=42407.9375\n",
            "predicted=42428.080607143136, expected=42244.46875\n",
            "predicted=42247.342184149034, expected=42197.515625\n",
            "predicted=42198.34202589279, expected=42586.91796875\n",
            "predicted=42580.02857932334, expected=44575.203125\n",
            "predicted=44539.59924955282, expected=43961.859375\n",
            "predicted=43972.61423882277, expected=40538.01171875\n",
            "predicted=40595.190834789726, expected=40030.9765625\n",
            "predicted=40039.59900248747, expected=40122.15625\n",
            "predicted=40120.593739739656, expected=38431.37890625\n",
            "predicted=38459.75150359904, expected=37075.28125\n",
            "predicted=37097.61324846783, expected=38286.02734375\n",
            "predicted=38265.07618597132, expected=37296.5703125\n",
            "predicted=37313.40170589127, expected=38332.609375\n",
            "predicted=38314.33779356504, expected=39214.21875\n",
            "predicted=39198.84204191052, expected=39105.1484375\n",
            "predicted=39107.02855147836, expected=37709.78515625\n",
            "predicted=37733.41005771539, expected=43193.234375\n",
            "predicted=43085.389216209216, expected=44354.63671875\n",
            "predicted=44334.07762577266, expected=43924.1171875\n",
            "predicted=43931.62896194862, expected=42451.7890625\n",
            "predicted=42477.0565395689, expected=39137.60546875\n",
            "predicted=39191.04498562544, expected=39400.5859375\n",
            "predicted=39396.129638076774, expected=38419.984375\n",
            "predicted=38436.3808539224, expected=38062.0390625\n",
            "predicted=38068.05021014051, expected=38737.26953125\n",
            "predicted=38725.75253031796, expected=41982.92578125\n",
            "predicted=41926.98399586642, expected=39437.4609375\n",
            "predicted=39481.25038187857, expected=38794.97265625\n",
            "predicted=38806.11425073425, expected=38904.01171875\n",
            "predicted=38902.10179404647, expected=37849.6640625\n",
            "predicted=37867.87774201821, expected=39666.75390625\n",
            "predicted=39633.63536311063, expected=39338.78515625\n",
            "predicted=39344.63056970085, expected=41143.9296875\n",
            "predicted=41110.7455833568, expected=40951.37890625\n"
          ]
        },
        {
          "output_type": "stream",
          "name": "stderr",
          "text": [
            "/usr/local/lib/python3.11/dist-packages/statsmodels/base/model.py:607: ConvergenceWarning: Maximum Likelihood optimization failed to converge. Check mle_retvals\n",
            "  warnings.warn(\"Maximum Likelihood optimization failed to \"\n"
          ]
        },
        {
          "output_type": "stream",
          "name": "stdout",
          "text": [
            "predicted=40954.84171796645, expected=41801.15625\n",
            "predicted=41785.66419538875, expected=42190.65234375\n",
            "predicted=42183.60898998398, expected=41247.82421875\n",
            "predicted=41264.65457375263, expected=41077.99609375\n",
            "predicted=41081.05124976127, expected=42358.80859375\n",
            "predicted=42335.3317068517, expected=42892.95703125\n",
            "predicted=42883.30409255511, expected=43960.93359375\n",
            "predicted=43941.59888680053, expected=44348.73046875\n",
            "predicted=44341.78485306068, expected=44500.828125\n",
            "predicted=44498.112276553344, expected=46820.4921875\n"
          ]
        },
        {
          "output_type": "stream",
          "name": "stderr",
          "text": [
            "/usr/local/lib/python3.11/dist-packages/statsmodels/base/model.py:607: ConvergenceWarning: Maximum Likelihood optimization failed to converge. Check mle_retvals\n",
            "  warnings.warn(\"Maximum Likelihood optimization failed to \"\n"
          ]
        },
        {
          "output_type": "stream",
          "name": "stdout",
          "text": [
            "predicted=46778.19979596945, expected=47128.00390625\n",
            "predicted=47122.54496794844, expected=47465.73046875\n",
            "predicted=47459.737220755735, expected=47062.6640625\n",
            "predicted=47069.76768274334, expected=45538.67578125\n",
            "predicted=45565.11333399193, expected=46281.64453125\n",
            "predicted=46268.34964957678, expected=45868.94921875\n",
            "predicted=45876.25718474142, expected=46453.56640625\n",
            "predicted=46443.087984719925, expected=46622.67578125\n"
          ]
        },
        {
          "output_type": "stream",
          "name": "stderr",
          "text": [
            "/usr/local/lib/python3.11/dist-packages/statsmodels/base/model.py:607: ConvergenceWarning: Maximum Likelihood optimization failed to converge. Check mle_retvals\n",
            "  warnings.warn(\"Maximum Likelihood optimization failed to \"\n"
          ]
        },
        {
          "output_type": "stream",
          "name": "stdout",
          "text": [
            "predicted=46619.66009537233, expected=45555.9921875\n",
            "predicted=45574.786121683246, expected=43206.73828125\n",
            "predicted=43246.85519563226, expected=43503.84765625\n",
            "predicted=43498.600111455664, expected=42287.6640625\n",
            "predicted=42308.83025864545, expected=42782.13671875\n",
            "predicted=42773.3230156815, expected=42207.671875\n",
            "predicted=42217.80659327373, expected=39521.90234375\n",
            "predicted=39567.5279742553, expected=40127.18359375\n",
            "predicted=40116.34917214418, expected=41166.73046875\n"
          ]
        },
        {
          "output_type": "stream",
          "name": "stderr",
          "text": [
            "/usr/local/lib/python3.11/dist-packages/statsmodels/base/model.py:607: ConvergenceWarning: Maximum Likelihood optimization failed to converge. Check mle_retvals\n",
            "  warnings.warn(\"Maximum Likelihood optimization failed to \"\n"
          ]
        },
        {
          "output_type": "stream",
          "name": "stdout",
          "text": [
            "predicted=41148.125702179204, expected=39935.515625\n",
            "predicted=39957.17250478422, expected=40553.46484375\n",
            "predicted=40542.28196032915, expected=40424.484375\n",
            "predicted=40426.79873200674, expected=39716.953125\n",
            "predicted=39729.54928397604, expected=40826.21484375\n",
            "predicted=40805.896204016615, expected=41502.75\n",
            "predicted=41490.49999448554, expected=41374.37890625\n",
            "predicted=41376.68255096047, expected=40527.36328125\n",
            "predicted=40542.41946693525, expected=39740.3203125\n",
            "predicted=39754.24178418497, expected=39486.73046875\n",
            "predicted=39491.23740298445, expected=39469.29296875\n",
            "predicted=39469.603771639566, expected=40458.30859375\n",
            "predicted=40440.45900742039, expected=38117.4609375\n",
            "predicted=38158.774795154386, expected=39241.12109375\n",
            "predicted=39219.95712575059, expected=39773.828125\n",
            "predicted=39763.922259178464, expected=38609.82421875\n",
            "predicted=38631.12215456291, expected=37714.875\n",
            "predicted=37731.151827514695, expected=38469.09375\n",
            "predicted=38455.00053008874, expected=38529.328125\n",
            "predicted=38528.21314732451, expected=37750.453125\n",
            "predicted=37764.72143384978, expected=39698.37109375\n"
          ]
        },
        {
          "output_type": "stream",
          "name": "stderr",
          "text": [
            "/usr/local/lib/python3.11/dist-packages/statsmodels/base/model.py:607: ConvergenceWarning: Maximum Likelihood optimization failed to converge. Check mle_retvals\n",
            "  warnings.warn(\"Maximum Likelihood optimization failed to \"\n"
          ]
        },
        {
          "output_type": "stream",
          "name": "stdout",
          "text": [
            "predicted=39660.95023923291, expected=36575.140625\n",
            "predicted=36634.241286181335, expected=36040.921875\n",
            "predicted=36051.20547559687, expected=35501.953125\n",
            "predicted=35512.29794099716, expected=34059.265625\n",
            "predicted=34086.388829083015, expected=30296.953125\n",
            "predicted=30360.995614808035, expected=31022.90625\n",
            "predicted=31009.22350213865, expected=28936.35546875\n",
            "predicted=28974.69012683294, expected=29047.751953125\n"
          ]
        },
        {
          "output_type": "stream",
          "name": "stderr",
          "text": [
            "/usr/local/lib/python3.11/dist-packages/statsmodels/base/model.py:607: ConvergenceWarning: Maximum Likelihood optimization failed to converge. Check mle_retvals\n",
            "  warnings.warn(\"Maximum Likelihood optimization failed to \"\n"
          ]
        },
        {
          "output_type": "stream",
          "name": "stdout",
          "text": [
            "predicted=29045.6252462483, expected=29283.103515625\n",
            "predicted=29278.60275476279, expected=30101.265625\n",
            "predicted=30085.51301292098, expected=31305.11328125\n",
            "predicted=31282.116831490115, expected=29862.91796875\n",
            "predicted=29889.923648041615, expected=30425.857421875\n",
            "predicted=30414.85812760174, expected=28720.271484375\n"
          ]
        },
        {
          "output_type": "stream",
          "name": "stderr",
          "text": [
            "/usr/local/lib/python3.11/dist-packages/statsmodels/base/model.py:607: ConvergenceWarning: Maximum Likelihood optimization failed to converge. Check mle_retvals\n",
            "  warnings.warn(\"Maximum Likelihood optimization failed to \"\n"
          ]
        },
        {
          "output_type": "stream",
          "name": "stdout",
          "text": [
            "predicted=28752.783229479457, expected=30314.333984375\n",
            "predicted=30281.07200735762, expected=29200.740234375\n",
            "predicted=29223.461017951842, expected=29432.2265625\n",
            "predicted=29427.382832313477, expected=30323.72265625\n",
            "predicted=30304.91770781593, expected=29098.91015625\n",
            "predicted=29124.200949241284, expected=29655.5859375\n",
            "predicted=29643.64940703322, expected=29562.361328125\n",
            "predicted=29564.339954472354, expected=29267.224609375\n",
            "predicted=29273.465407514745, expected=28627.57421875\n"
          ]
        },
        {
          "output_type": "stream",
          "name": "stderr",
          "text": [
            "/usr/local/lib/python3.11/dist-packages/statsmodels/base/model.py:607: ConvergenceWarning: Maximum Likelihood optimization failed to converge. Check mle_retvals\n",
            "  warnings.warn(\"Maximum Likelihood optimization failed to \"\n"
          ]
        },
        {
          "output_type": "stream",
          "name": "stdout",
          "text": [
            "predicted=28640.987055677553, expected=28814.900390625\n",
            "predicted=28810.91100866916, expected=29445.95703125\n",
            "predicted=29432.43918375029, expected=31726.390625\n",
            "predicted=31677.165519273713, expected=31792.310546875\n",
            "predicted=31790.94108037819, expected=29799.080078125\n",
            "predicted=29839.2093530931, expected=30467.48828125\n",
            "predicted=30453.232191888517, expected=29704.390625\n",
            "predicted=29720.388577358393, expected=29832.9140625\n",
            "predicted=29830.1772679103, expected=29906.662109375\n",
            "predicted=29905.093317374165, expected=31370.671875\n",
            "predicted=31338.87466721088, expected=31155.478515625\n",
            "predicted=31160.043353593406, expected=30214.35546875\n",
            "predicted=30234.041753441525, expected=30111.998046875\n",
            "predicted=30114.165060680403, expected=29083.8046875\n",
            "predicted=29105.212386561845, expected=28360.810546875\n",
            "predicted=28375.78551011347, expected=26762.6484375\n"
          ]
        },
        {
          "output_type": "stream",
          "name": "stderr",
          "text": [
            "/usr/local/lib/python3.11/dist-packages/statsmodels/base/model.py:607: ConvergenceWarning: Maximum Likelihood optimization failed to converge. Check mle_retvals\n",
            "  warnings.warn(\"Maximum Likelihood optimization failed to \"\n"
          ]
        },
        {
          "output_type": "stream",
          "name": "stdout",
          "text": [
            "predicted=26794.687263530723, expected=22487.388671875\n",
            "predicted=22559.009921815577, expected=22206.79296875\n",
            "predicted=22211.711868276638, expected=22572.83984375\n",
            "predicted=22566.314031359023, expected=20381.650390625\n",
            "predicted=20419.290381970088, expected=20471.482421875\n",
            "predicted=20469.85035953901, expected=19017.642578125\n",
            "predicted=19043.161334702443, expected=20553.271484375\n",
            "predicted=20522.183264645908, expected=20599.537109375\n",
            "predicted=20598.637346299016, expected=20710.59765625\n",
            "predicted=20708.434775038713, expected=19987.029296875\n",
            "predicted=20000.87099292676, expected=21085.876953125\n",
            "predicted=21063.434082314634, expected=21231.65625\n",
            "predicted=21228.760034351424, expected=21502.337890625\n",
            "predicted=21496.95049843737, expected=21027.294921875\n",
            "predicted=21036.618865051572, expected=20735.478515625\n",
            "predicted=20741.20839222175, expected=20280.634765625\n",
            "predicted=20289.49743976099, expected=20104.0234375\n",
            "predicted=20107.479319309754, expected=19784.7265625\n"
          ]
        },
        {
          "output_type": "stream",
          "name": "stderr",
          "text": [
            "/usr/local/lib/python3.11/dist-packages/statsmodels/base/model.py:607: ConvergenceWarning: Maximum Likelihood optimization failed to converge. Check mle_retvals\n",
            "  warnings.warn(\"Maximum Likelihood optimization failed to \"\n"
          ]
        },
        {
          "output_type": "stream",
          "name": "stdout",
          "text": [
            "predicted=19790.941960342825, expected=19269.3671875\n",
            "predicted=19279.298201982863, expected=19242.255859375\n",
            "predicted=19242.78443590847, expected=19297.076171875\n",
            "predicted=19296.00508614346, expected=20231.26171875\n",
            "predicted=20212.63874022018, expected=20190.115234375\n",
            "predicted=20190.916467114956, expected=20548.24609375\n",
            "predicted=20541.20206459408, expected=21637.587890625\n",
            "predicted=21616.03647555672, expected=21731.1171875\n"
          ]
        },
        {
          "output_type": "stream",
          "name": "stderr",
          "text": [
            "/usr/local/lib/python3.11/dist-packages/statsmodels/base/model.py:607: ConvergenceWarning: Maximum Likelihood optimization failed to converge. Check mle_retvals\n",
            "  warnings.warn(\"Maximum Likelihood optimization failed to \"\n"
          ]
        },
        {
          "output_type": "stream",
          "name": "stdout",
          "text": [
            "predicted=21729.31495070856, expected=21592.20703125\n",
            "predicted=21594.87054072651, expected=20860.44921875\n",
            "predicted=20874.25124555577, expected=19970.556640625\n",
            "predicted=19986.962121981047, expected=19323.9140625\n",
            "predicted=19335.68437604729, expected=20212.07421875\n"
          ]
        },
        {
          "output_type": "stream",
          "name": "stderr",
          "text": [
            "/usr/local/lib/python3.11/dist-packages/statsmodels/base/model.py:607: ConvergenceWarning: Maximum Likelihood optimization failed to converge. Check mle_retvals\n",
            "  warnings.warn(\"Maximum Likelihood optimization failed to \"\n"
          ]
        },
        {
          "output_type": "stream",
          "name": "stdout",
          "text": [
            "predicted=20194.976441571805, expected=20569.919921875\n",
            "predicted=20563.19065288982, expected=20836.328125\n",
            "predicted=20831.34396560449, expected=21190.31640625\n"
          ]
        },
        {
          "output_type": "stream",
          "name": "stderr",
          "text": [
            "/usr/local/lib/python3.11/dist-packages/statsmodels/base/model.py:607: ConvergenceWarning: Maximum Likelihood optimization failed to converge. Check mle_retvals\n",
            "  warnings.warn(\"Maximum Likelihood optimization failed to \"\n"
          ]
        },
        {
          "output_type": "stream",
          "name": "stdout",
          "text": [
            "predicted=21183.698732743487, expected=20779.34375\n",
            "predicted=20786.920718685582, expected=22485.689453125\n",
            "predicted=22452.058162476966, expected=23389.43359375\n",
            "predicted=23372.6371362637, expected=23231.732421875\n",
            "predicted=23234.60639472854, expected=23164.62890625\n",
            "predicted=23165.85382934972, expected=22714.978515625\n",
            "predicted=22723.113596022904, expected=22465.478515625\n",
            "predicted=22469.998888366015, expected=22609.1640625\n",
            "predicted=22606.536202376297, expected=21361.701171875\n",
            "predicted=21383.91666595463, expected=21239.75390625\n",
            "predicted=21241.970362975248, expected=22930.548828125\n",
            "predicted=22898.3834257268, expected=23843.88671875\n"
          ]
        },
        {
          "output_type": "stream",
          "name": "stderr",
          "text": [
            "/usr/local/lib/python3.11/dist-packages/statsmodels/base/model.py:607: ConvergenceWarning: Maximum Likelihood optimization failed to converge. Check mle_retvals\n",
            "  warnings.warn(\"Maximum Likelihood optimization failed to \"\n"
          ]
        },
        {
          "output_type": "stream",
          "name": "stdout",
          "text": [
            "predicted=23827.4811510197, expected=23804.6328125\n",
            "predicted=23805.32431951023, expected=23656.20703125\n",
            "predicted=23658.8154766057, expected=23336.896484375\n",
            "predicted=23342.48168129746, expected=23314.19921875\n",
            "predicted=23314.59861233325, expected=22978.1171875\n"
          ]
        },
        {
          "output_type": "stream",
          "name": "stderr",
          "text": [
            "/usr/local/lib/python3.11/dist-packages/statsmodels/base/model.py:607: ConvergenceWarning: Maximum Likelihood optimization failed to converge. Check mle_retvals\n",
            "  warnings.warn(\"Maximum Likelihood optimization failed to \"\n"
          ]
        },
        {
          "output_type": "stream",
          "name": "stdout",
          "text": [
            "predicted=22983.990724774085, expected=22846.5078125\n"
          ]
        },
        {
          "output_type": "stream",
          "name": "stderr",
          "text": [
            "/usr/local/lib/python3.11/dist-packages/statsmodels/base/model.py:607: ConvergenceWarning: Maximum Likelihood optimization failed to converge. Check mle_retvals\n",
            "  warnings.warn(\"Maximum Likelihood optimization failed to \"\n"
          ]
        },
        {
          "output_type": "stream",
          "name": "stdout",
          "text": [
            "predicted=22848.815240394822, expected=22630.95703125\n",
            "predicted=22634.726535266193, expected=23289.314453125\n",
            "predicted=23277.542801889984, expected=22961.279296875\n",
            "predicted=22967.051656164807, expected=23175.890625\n",
            "predicted=23172.06403366605, expected=23809.486328125\n",
            "predicted=23798.12775948208, expected=23164.318359375\n",
            "predicted=23175.684450970322, expected=23947.642578125\n",
            "predicted=23933.262359514472, expected=23957.529296875\n",
            "predicted=23957.35076788291, expected=24402.818359375\n",
            "predicted=24394.70707189513, expected=24424.068359375\n",
            "predicted=24423.684695717857, expected=24319.333984375\n",
            "predicted=24321.220233655156, expected=24136.97265625\n",
            "predicted=24140.2503987194, expected=23883.291015625\n"
          ]
        },
        {
          "output_type": "stream",
          "name": "stderr",
          "text": [
            "/usr/local/lib/python3.11/dist-packages/statsmodels/base/model.py:607: ConvergenceWarning: Maximum Likelihood optimization failed to converge. Check mle_retvals\n",
            "  warnings.warn(\"Maximum Likelihood optimization failed to \"\n"
          ]
        },
        {
          "output_type": "stream",
          "name": "stdout",
          "text": [
            "predicted=23887.839239973855, expected=23335.998046875\n",
            "predicted=23345.71929041894, expected=23212.73828125\n",
            "predicted=23214.94333704752, expected=20877.552734375\n"
          ]
        },
        {
          "output_type": "stream",
          "name": "stderr",
          "text": [
            "/usr/local/lib/python3.11/dist-packages/statsmodels/base/model.py:607: ConvergenceWarning: Maximum Likelihood optimization failed to converge. Check mle_retvals\n",
            "  warnings.warn(\"Maximum Likelihood optimization failed to \"\n"
          ]
        },
        {
          "output_type": "stream",
          "name": "stdout",
          "text": [
            "predicted=20917.010606672615, expected=21166.060546875\n",
            "predicted=21160.805435954608, expected=21534.12109375\n",
            "predicted=21527.42555665334, expected=21398.908203125\n",
            "predicted=21401.342828044428, expected=21528.087890625\n",
            "predicted=21525.746699288757, expected=21395.01953125\n",
            "predicted=21397.417874387218, expected=21600.904296875\n",
            "predicted=21597.161959988258, expected=20260.01953125\n",
            "predicted=20283.703011926707, expected=20041.73828125\n",
            "predicted=20045.65870640474, expected=19616.814453125\n",
            "predicted=19624.384280521797, expected=20297.994140625\n",
            "predicted=20285.410762464846, expected=19796.80859375\n",
            "predicted=19805.89538302387, expected=20049.763671875\n",
            "predicted=20045.07411267429, expected=20127.140625\n",
            "predicted=20125.713239124478, expected=19969.771484375\n",
            "predicted=19972.658931587823, expected=19832.087890625\n",
            "predicted=19834.613578768116, expected=19986.712890625\n",
            "predicted=19983.854057673383, expected=19812.37109375\n",
            "predicted=19815.571048856225, expected=18837.66796875\n",
            "predicted=18855.098756778672, expected=19290.32421875\n",
            "predicted=19281.80934193454, expected=19329.833984375\n",
            "predicted=19329.099151721693, expected=21381.15234375\n",
            "predicted=21341.22211448716, expected=21680.5390625\n",
            "predicted=21675.060462665235, expected=21769.255859375\n",
            "predicted=21767.641399038217, expected=22370.44921875\n",
            "predicted=22359.399303126014, expected=20296.70703125\n",
            "predicted=20333.7237077682, expected=20241.08984375\n",
            "predicted=20242.12461877104, expected=19701.2109375\n",
            "predicted=19711.12733878202, expected=19772.583984375\n"
          ]
        },
        {
          "output_type": "stream",
          "name": "stderr",
          "text": [
            "/usr/local/lib/python3.11/dist-packages/statsmodels/base/model.py:607: ConvergenceWarning: Maximum Likelihood optimization failed to converge. Check mle_retvals\n",
            "  warnings.warn(\"Maximum Likelihood optimization failed to \"\n"
          ]
        },
        {
          "output_type": "stream",
          "name": "stdout",
          "text": [
            "predicted=19771.251758460243, expected=20127.576171875\n",
            "predicted=20120.90902588861, expected=19419.505859375\n"
          ]
        },
        {
          "output_type": "stream",
          "name": "stderr",
          "text": [
            "/usr/local/lib/python3.11/dist-packages/statsmodels/base/model.py:607: ConvergenceWarning: Maximum Likelihood optimization failed to converge. Check mle_retvals\n",
            "  warnings.warn(\"Maximum Likelihood optimization failed to \"\n"
          ]
        },
        {
          "output_type": "stream",
          "name": "stdout",
          "text": [
            "predicted=19432.557162453828, expected=19544.12890625\n",
            "predicted=19541.77788230332, expected=18890.7890625\n",
            "predicted=18902.90322567947, expected=18547.400390625\n",
            "predicted=18553.76743803198, expected=19413.55078125\n"
          ]
        },
        {
          "output_type": "stream",
          "name": "stderr",
          "text": [
            "/usr/local/lib/python3.11/dist-packages/statsmodels/base/model.py:607: ConvergenceWarning: Maximum Likelihood optimization failed to converge. Check mle_retvals\n",
            "  warnings.warn(\"Maximum Likelihood optimization failed to \"\n"
          ]
        },
        {
          "output_type": "stream",
          "name": "stdout",
          "text": [
            "predicted=19396.81460061712, expected=19297.638671875\n",
            "predicted=19299.828624613572, expected=18937.01171875\n",
            "predicted=18943.773018870415, expected=18802.09765625\n",
            "predicted=18804.637461909995, expected=19222.671875\n",
            "predicted=19214.625055419612, expected=19110.546875\n",
            "predicted=19112.665975522934, expected=19426.720703125\n",
            "predicted=19420.672833514698, expected=19573.05078125\n"
          ]
        },
        {
          "output_type": "stream",
          "name": "stderr",
          "text": [
            "/usr/local/lib/python3.11/dist-packages/statsmodels/base/model.py:607: ConvergenceWarning: Maximum Likelihood optimization failed to converge. Check mle_retvals\n",
            "  warnings.warn(\"Maximum Likelihood optimization failed to \"\n"
          ]
        },
        {
          "output_type": "stream",
          "name": "stdout",
          "text": [
            "predicted=19570.268135240545, expected=19431.7890625\n",
            "predicted=19434.45764819321, expected=19312.095703125\n",
            "predicted=19314.356797432465, expected=19044.107421875\n",
            "predicted=19049.145360971957, expected=19623.580078125\n",
            "predicted=19612.394685274707, expected=20336.84375\n",
            "predicted=20323.214275737853, expected=20160.716796875\n",
            "predicted=20164.021255463118, expected=19955.443359375\n",
            "predicted=19959.287610752635, expected=19546.849609375\n",
            "predicted=19554.442904457752, expected=19416.568359375\n",
            "predicted=19419.00196583872, expected=19446.42578125\n",
            "predicted=19445.86573614382, expected=19141.484375\n",
            "predicted=19147.157383137983, expected=19051.41796875\n",
            "predicted=19053.101088110434, expected=19157.4453125\n",
            "predicted=19155.453303476745, expected=19382.904296875\n",
            "predicted=19378.658991947108, expected=19185.65625\n",
            "predicted=19189.33576776244, expected=19067.634765625\n",
            "predicted=19069.839046850386, expected=19268.09375\n",
            "predicted=19264.31624591557, expected=19550.7578125\n",
            "predicted=19545.430347224974, expected=19334.416015625\n",
            "predicted=19338.45004826023, expected=19139.53515625\n",
            "predicted=19143.165794412726, expected=19053.740234375\n",
            "predicted=19055.342119866626, expected=19172.46875\n",
            "predicted=19170.239551047052, expected=19208.189453125\n",
            "predicted=19207.520303081714, expected=19567.0078125\n",
            "predicted=19560.233897145397, expected=19345.572265625\n"
          ]
        },
        {
          "output_type": "stream",
          "name": "stderr",
          "text": [
            "/usr/local/lib/python3.11/dist-packages/statsmodels/base/model.py:607: ConvergenceWarning: Maximum Likelihood optimization failed to converge. Check mle_retvals\n",
            "  warnings.warn(\"Maximum Likelihood optimization failed to \"\n"
          ]
        },
        {
          "output_type": "stream",
          "name": "stdout",
          "text": [
            "predicted=19349.701874031933, expected=20095.857421875\n",
            "predicted=20081.44870807807, expected=20770.44140625\n",
            "predicted=20757.71535152016, expected=20285.8359375\n",
            "predicted=20294.80919022708, expected=20595.3515625\n",
            "predicted=20589.486062254666, expected=20818.4765625\n",
            "predicted=20814.265657839343, expected=20635.603515625\n",
            "predicted=20639.025538546903, expected=20495.7734375\n",
            "predicted=20498.390700308464, expected=20485.2734375\n",
            "predicted=20485.470568067987, expected=20159.50390625\n",
            "predicted=20165.572965400945, expected=20209.98828125\n"
          ]
        },
        {
          "output_type": "stream",
          "name": "stderr",
          "text": [
            "/usr/local/lib/python3.11/dist-packages/statsmodels/base/model.py:607: ConvergenceWarning: Maximum Likelihood optimization failed to converge. Check mle_retvals\n",
            "  warnings.warn(\"Maximum Likelihood optimization failed to \"\n"
          ]
        },
        {
          "output_type": "stream",
          "name": "stdout",
          "text": [
            "predicted=20209.03876214014, expected=21147.23046875\n",
            "predicted=21129.254203302593, expected=21282.69140625\n",
            "predicted=21280.15220716901, expected=20926.486328125\n",
            "predicted=20933.09596349243, expected=20602.81640625\n",
            "predicted=20608.806842405087, expected=18541.271484375\n",
            "predicted=18577.041898526404, expected=15880.7802734375\n"
          ]
        },
        {
          "output_type": "stream",
          "name": "stderr",
          "text": [
            "/usr/local/lib/python3.11/dist-packages/statsmodels/base/model.py:607: ConvergenceWarning: Maximum Likelihood optimization failed to converge. Check mle_retvals\n",
            "  warnings.warn(\"Maximum Likelihood optimization failed to \"\n"
          ]
        },
        {
          "output_type": "stream",
          "name": "stdout",
          "text": [
            "predicted=15916.709086926247, expected=17586.771484375\n",
            "predicted=17554.460330363698, expected=17034.29296875\n",
            "predicted=17044.464521893802, expected=16799.185546875\n",
            "predicted=16803.528713136446, expected=16353.365234375\n",
            "predicted=16361.51159025598, expected=16618.19921875\n",
            "predicted=16613.23202659022, expected=16884.61328125\n",
            "predicted=16879.63232079611, expected=16669.439453125\n",
            "predicted=16673.415542396564, expected=16687.517578125\n",
            "predicted=16687.181187908085, expected=16697.77734375\n",
            "predicted=16697.586479762802, expected=16711.546875\n",
            "predicted=16711.290693598472, expected=16291.83203125\n",
            "predicted=16299.542542967958, expected=15787.2841796875\n",
            "predicted=15796.43629136417, expected=16189.76953125\n",
            "predicted=16182.193094805396, expected=16610.70703125\n",
            "predicted=16602.843397921126, expected=16604.46484375\n",
            "predicted=16604.579974187818, expected=16521.841796875\n",
            "predicted=16523.36220905898, expected=16464.28125\n",
            "predicted=16465.341019798172, expected=16444.626953125\n",
            "predicted=16444.989204949397, expected=16217.322265625\n",
            "predicted=16221.4848132227, expected=16444.982421875\n",
            "predicted=16440.746313172924, expected=17168.56640625\n",
            "predicted=17155.00841529197, expected=16967.1328125\n",
            "predicted=16970.828119943213, expected=17088.66015625\n",
            "predicted=17086.407703150326, expected=16908.236328125\n",
            "predicted=16911.55435493121, expected=17130.486328125\n",
            "predicted=17126.34460503077, expected=16974.826171875\n",
            "predicted=16977.69953983729, expected=17089.50390625\n",
            "predicted=17087.368973301356, expected=16848.126953125\n",
            "predicted=16852.57964603713, expected=17233.474609375\n"
          ]
        },
        {
          "output_type": "stream",
          "name": "stderr",
          "text": [
            "/usr/local/lib/python3.11/dist-packages/statsmodels/base/model.py:607: ConvergenceWarning: Maximum Likelihood optimization failed to converge. Check mle_retvals\n",
            "  warnings.warn(\"Maximum Likelihood optimization failed to \"\n"
          ]
        },
        {
          "output_type": "stream",
          "name": "stdout",
          "text": [
            "predicted=17226.209114193574, expected=17133.15234375\n"
          ]
        },
        {
          "output_type": "stream",
          "name": "stderr",
          "text": [
            "/usr/local/lib/python3.11/dist-packages/statsmodels/base/model.py:607: ConvergenceWarning: Maximum Likelihood optimization failed to converge. Check mle_retvals\n",
            "  warnings.warn(\"Maximum Likelihood optimization failed to \"\n"
          ]
        },
        {
          "output_type": "stream",
          "name": "stdout",
          "text": [
            "predicted=17135.020380783495, expected=17128.724609375\n",
            "predicted=17128.80727948659, expected=17104.193359375\n",
            "predicted=17104.65111564868, expected=17206.4375\n",
            "predicted=17204.52248729925, expected=17781.318359375\n",
            "predicted=17770.433722369544, expected=17815.650390625\n",
            "predicted=17815.010755977604, expected=17364.865234375\n",
            "predicted=17373.15557420555, expected=16647.484375\n",
            "predicted=16660.40036684585, expected=16795.091796875\n",
            "predicted=16792.35551267586, expected=16757.9765625\n",
            "predicted=16758.66102144156, expected=16439.6796875\n",
            "predicted=16445.497830260952, expected=16906.3046875\n",
            "predicted=16897.520307534956, expected=16817.53515625\n",
            "predicted=16819.18187514209, expected=16830.341796875\n",
            "predicted=16830.103513652117, expected=16796.953125\n",
            "predicted=16797.573536138687, expected=16847.755859375\n",
            "predicted=16846.8094809707, expected=16841.986328125\n",
            "predicted=16842.093629787054, expected=16919.8046875\n",
            "predicted=16918.353875540557, expected=16717.173828125\n",
            "predicted=16720.923271029376, expected=16552.572265625\n",
            "predicted=16555.616836007466, expected=16642.341796875\n",
            "predicted=16640.667816515226, expected=16602.5859375\n",
            "predicted=16603.32456344692, expected=16547.49609375\n",
            "predicted=16548.519044292, expected=16625.080078125\n",
            "predicted=16623.633508652496, expected=16688.470703125\n",
            "predicted=16687.289532745344, expected=16679.857421875\n",
            "predicted=16680.017578248295, expected=16863.23828125\n",
            "predicted=16859.809051042474, expected=16836.736328125\n",
            "predicted=16837.228973532725, expected=16951.96875\n",
            "predicted=16949.81758202208, expected=16955.078125\n",
            "predicted=16955.020269019187, expected=17091.14453125\n",
            "predicted=17088.603081520654, expected=17196.5546875\n",
            "predicted=17194.588789214995, expected=17446.29296875\n",
            "predicted=17441.621409602947, expected=17934.896484375\n",
            "predicted=17925.74152902768, expected=18869.587890625\n"
          ]
        },
        {
          "output_type": "stream",
          "name": "stderr",
          "text": [
            "/usr/local/lib/python3.11/dist-packages/statsmodels/base/model.py:607: ConvergenceWarning: Maximum Likelihood optimization failed to converge. Check mle_retvals\n",
            "  warnings.warn(\"Maximum Likelihood optimization failed to \"\n"
          ]
        },
        {
          "output_type": "stream",
          "name": "stdout",
          "text": [
            "predicted=18852.17527410056, expected=19909.57421875\n",
            "predicted=19890.826055719113, expected=20976.298828125\n",
            "predicted=20957.76990801059, expected=20880.798828125\n",
            "predicted=20882.416232675176, expected=21169.6328125\n",
            "predicted=21164.692909832815, expected=21161.51953125\n"
          ]
        },
        {
          "output_type": "stream",
          "name": "stderr",
          "text": [
            "/usr/local/lib/python3.11/dist-packages/statsmodels/base/model.py:607: ConvergenceWarning: Maximum Likelihood optimization failed to converge. Check mle_retvals\n",
            "  warnings.warn(\"Maximum Likelihood optimization failed to \"\n"
          ]
        },
        {
          "output_type": "stream",
          "name": "stdout",
          "text": [
            "predicted=21161.657337017376, expected=20688.78125\n",
            "predicted=20696.722570253158, expected=21086.79296875\n",
            "predicted=21079.9312864799, expected=22676.552734375\n",
            "predicted=22648.923894157935, expected=22777.625\n",
            "predicted=22775.935197259594, expected=22720.416015625\n",
            "predicted=22721.369347503478, expected=22934.431640625\n",
            "predicted=22930.84327100363, expected=22636.46875\n",
            "predicted=22641.417682159063, expected=23117.859375\n",
            "predicted=23109.699541634935, expected=23032.77734375\n",
            "predicted=23034.20343971427, expected=23078.728515625\n",
            "predicted=23077.95608258208, expected=23031.08984375\n",
            "predicted=23031.889089783985, expected=23774.56640625\n",
            "predicted=23761.873327002228, expected=22840.138671875\n",
            "predicted=22855.791053530986, expected=23139.283203125\n",
            "predicted=23134.10675893918, expected=23723.76953125\n",
            "predicted=23713.638802798578, expected=23471.87109375\n"
          ]
        },
        {
          "output_type": "stream",
          "name": "stderr",
          "text": [
            "/usr/local/lib/python3.11/dist-packages/statsmodels/base/model.py:607: ConvergenceWarning: Maximum Likelihood optimization failed to converge. Check mle_retvals\n",
            "  warnings.warn(\"Maximum Likelihood optimization failed to \"\n"
          ]
        },
        {
          "output_type": "stream",
          "name": "stdout",
          "text": [
            "predicted=23476.175586478057, expected=23449.322265625\n",
            "predicted=23449.70936949352, expected=23331.84765625\n",
            "predicted=23333.860238286365, expected=22955.666015625\n",
            "predicted=22962.068508223965, expected=22760.109375\n",
            "predicted=22763.444182684583, expected=23264.291015625\n",
            "predicted=23255.542854644384, expected=22939.3984375\n",
            "predicted=22944.95827656326, expected=21819.0390625\n",
            "predicted=21837.703436169486, expected=21651.18359375\n",
            "predicted=21654.02326413532, expected=21870.875\n",
            "predicted=21867.121983885994, expected=21788.203125\n",
            "predicted=21789.606482107214, expected=21808.1015625\n",
            "predicted=21807.762990612224, expected=22220.8046875\n",
            "predicted=22213.722390771298, expected=24307.841796875\n",
            "predicted=24271.57471165289, expected=23623.474609375\n",
            "predicted=23635.057927872116, expected=24565.6015625\n",
            "predicted=24548.884724625175, expected=24641.27734375\n",
            "predicted=24639.960490043803, expected=24327.642578125\n",
            "predicted=24333.060431427857, expected=24829.1484375\n",
            "predicted=24820.314085521248, expected=24436.353515625\n",
            "predicted=24443.17760129774, expected=24188.84375\n",
            "predicted=24193.14699760041, expected=23947.4921875\n",
            "predicted=23951.68321370954, expected=23198.126953125\n",
            "predicted=23210.948827998258, expected=23175.375\n",
            "predicted=23175.77000443432, expected=23561.212890625\n",
            "predicted=23554.455104896526, expected=23522.87109375\n",
            "predicted=23523.536868842813, expected=23147.353515625\n",
            "predicted=23153.825695872845, expected=23646.55078125\n",
            "predicted=23637.749882087697, expected=23475.466796875\n",
            "predicted=23478.44648356644, expected=22362.6796875\n",
            "predicted=22381.585298041206, expected=22353.349609375\n",
            "predicted=22353.511806841518, expected=22435.513671875\n",
            "predicted=22434.082404747995, expected=22429.7578125\n",
            "predicted=22429.857885184665, expected=22219.76953125\n",
            "predicted=22223.40393672634, expected=21718.080078125\n",
            "predicted=21726.682382297062, expected=20363.021484375\n",
            "predicted=20385.357279638534, expected=20187.244140625\n",
            "predicted=20190.198442854384, expected=20632.41015625\n",
            "predicted=20624.79691654064, expected=22163.94921875\n",
            "predicted=22137.657200318645, expected=24197.533203125\n",
            "predicted=24165.299128449744, expected=24746.07421875\n",
            "predicted=24737.904338714507, expected=24375.9609375\n",
            "predicted=24381.39901196661, expected=25052.7890625\n",
            "predicted=25042.573260174533, expected=27423.9296875\n",
            "predicted=27388.36637372821, expected=26965.87890625\n",
            "predicted=26972.536291871766, expected=28038.67578125\n",
            "predicted=28022.494044399205, expected=27767.236328125\n",
            "predicted=27771.254722225996, expected=28175.81640625\n",
            "predicted=28169.682283637805, expected=27307.4375\n",
            "predicted=27320.26725823933, expected=28333.97265625\n",
            "predicted=28318.02918762996, expected=27493.28515625\n",
            "predicted=27506.114991817034, expected=27494.70703125\n",
            "predicted=27494.68501018357, expected=27994.330078125\n",
            "predicted=27986.523751418667, expected=27139.888671875\n",
            "predicted=27153.021478209794, expected=27268.130859375\n",
            "predicted=27266.12107728868, expected=28348.44140625\n",
            "predicted=28331.269104558833, expected=28033.5625\n",
            "predicted=28038.474194361723, expected=28478.484375\n",
            "predicted=28471.43473160702, expected=28411.03515625\n",
            "predicted=28412.09488027899, expected=28199.30859375\n",
            "predicted=28202.625944270236, expected=27790.220703125\n",
            "predicted=27796.598104971366, expected=28168.08984375\n"
          ]
        },
        {
          "output_type": "stream",
          "name": "stderr",
          "text": [
            "/usr/local/lib/python3.11/dist-packages/statsmodels/base/model.py:607: ConvergenceWarning: Maximum Likelihood optimization failed to converge. Check mle_retvals\n",
            "  warnings.warn(\"Maximum Likelihood optimization failed to \"\n"
          ]
        },
        {
          "output_type": "stream",
          "name": "stdout",
          "text": [
            "predicted=28162.10100089872, expected=28177.984375\n",
            "predicted=28177.828583825085, expected=28044.140625\n",
            "predicted=28046.242770237397, expected=27925.859375\n",
            "predicted=27927.71706037703, expected=27947.794921875\n",
            "predicted=27947.449543964474, expected=28333.05078125\n",
            "predicted=28326.947187409623, expected=29652.98046875\n",
            "predicted=29631.923780816982, expected=30235.05859375\n",
            "predicted=30226.007638632484, expected=30139.052734375\n",
            "predicted=30140.53022243568, expected=30399.06640625\n",
            "predicted=30395.040127077038, expected=30485.69921875\n",
            "predicted=30484.361987030024, expected=30318.49609375\n",
            "predicted=30321.06695660976, expected=30315.35546875\n",
            "predicted=30315.40388582054, expected=29445.044921875\n",
            "predicted=29458.27058773302, expected=30397.552734375\n",
            "predicted=30382.445151818734, expected=28822.6796875\n",
            "predicted=28847.191450769486, expected=28245.98828125\n",
            "predicted=28254.973124768327, expected=27276.91015625\n",
            "predicted=27291.75196863705, expected=27817.5\n",
            "predicted=27808.916309896427, expected=27591.384765625\n",
            "predicted=27594.933914337085, expected=27525.33984375\n",
            "predicted=27526.379151013447, expected=28307.59765625\n",
            "predicted=28295.090970596946, expected=28422.701171875\n",
            "predicted=28420.885572985993, expected=29473.787109375\n",
            "predicted=29456.977538526276, expected=29340.26171875\n"
          ]
        },
        {
          "output_type": "stream",
          "name": "stderr",
          "text": [
            "/usr/local/lib/python3.11/dist-packages/statsmodels/base/model.py:607: ConvergenceWarning: Maximum Likelihood optimization failed to converge. Check mle_retvals\n",
            "  warnings.warn(\"Maximum Likelihood optimization failed to \"\n"
          ]
        },
        {
          "output_type": "stream",
          "name": "stdout",
          "text": [
            "predicted=29342.35890251511, expected=29248.48828125\n",
            "predicted=29249.930408544464, expected=29268.806640625\n",
            "predicted=29268.486747022274, expected=28091.568359375\n",
            "predicted=28109.73181551459, expected=28680.537109375\n",
            "predicted=28671.06255805413, expected=29006.30859375\n",
            "predicted=29001.10937595033, expected=28847.7109375\n",
            "predicted=28850.223361353834, expected=29534.384765625\n",
            "predicted=29523.331368731273, expected=28904.623046875\n",
            "predicted=28914.60521790973, expected=28454.978515625\n",
            "predicted=28462.09303363914, expected=27694.2734375\n",
            "predicted=27706.172367516112, expected=27658.775390625\n",
            "predicted=27659.337409597112, expected=27621.755859375\n",
            "predicted=27622.341936550714, expected=27000.7890625\n",
            "predicted=27010.512706823476, expected=26804.990234375\n",
            "predicted=26808.07236491264, expected=26784.078125\n",
            "predicted=26784.40833452424, expected=26930.638671875\n",
            "predicted=26928.317183251133, expected=27192.693359375\n",
            "predicted=27188.536872024993, expected=27036.650390625\n",
            "predicted=27039.108510566937, expected=27398.802734375\n",
            "predicted=27393.038080298422, expected=26832.208984375\n",
            "predicted=26841.11067685386, expected=26890.12890625\n",
            "predicted=26889.208057255302, expected=27129.5859375\n",
            "predicted=27125.767313860186, expected=26753.826171875\n",
            "predicted=26759.761383955818, expected=26851.27734375\n",
            "predicted=26849.72368688252, expected=27225.7265625\n",
            "predicted=27219.730842202287, expected=26334.818359375\n",
            "predicted=26348.84301348621, expected=26476.20703125\n",
            "predicted=26473.93357264989, expected=26719.291015625\n",
            "predicted=26715.37768018774, expected=26868.353515625\n",
            "predicted=26865.959703443164, expected=28085.646484375\n",
            "predicted=28065.78964431233, expected=27745.884765625\n",
            "predicted=27751.31265962786, expected=27702.349609375\n",
            "predicted=27703.04854796947, expected=27219.658203125\n"
          ]
        },
        {
          "output_type": "stream",
          "name": "stderr",
          "text": [
            "/usr/local/lib/python3.11/dist-packages/statsmodels/base/model.py:607: ConvergenceWarning: Maximum Likelihood optimization failed to converge. Check mle_retvals\n",
            "  warnings.warn(\"Maximum Likelihood optimization failed to \"\n"
          ]
        },
        {
          "output_type": "stream",
          "name": "stdout",
          "text": [
            "predicted=27227.34386413404, expected=26819.97265625\n",
            "predicted=26826.32267493852, expected=27249.58984375\n",
            "predicted=27242.63879981793, expected=27075.12890625\n",
            "predicted=27077.924508828342, expected=27119.06640625\n",
            "predicted=27118.3594555988, expected=25760.09765625\n",
            "predicted=25781.421769621138, expected=27238.783203125\n",
            "predicted=27213.39668043008, expected=26345.998046875\n",
            "predicted=26361.012516041665, expected=26508.216796875\n",
            "predicted=26505.42860529794, expected=26480.375\n",
            "predicted=26480.85188851893, expected=25851.240234375\n",
            "predicted=25861.891642503662, expected=25940.16796875\n",
            "predicted=25938.640497707955, expected=25902.5\n"
          ]
        },
        {
          "output_type": "stream",
          "name": "stderr",
          "text": [
            "/usr/local/lib/python3.11/dist-packages/statsmodels/base/model.py:607: ConvergenceWarning: Maximum Likelihood optimization failed to converge. Check mle_retvals\n",
            "  warnings.warn(\"Maximum Likelihood optimization failed to \"\n"
          ]
        },
        {
          "output_type": "stream",
          "name": "stdout",
          "text": [
            "predicted=25903.14549235978, expected=25918.728515625\n",
            "predicted=25918.45013021875, expected=25124.67578125\n",
            "predicted=25138.088955518066, expected=25576.39453125\n",
            "predicted=25568.525278406036, expected=26327.462890625\n",
            "predicted=26314.39297533761, expected=26510.67578125\n",
            "predicted=26507.530274369365, expected=26336.212890625\n",
            "predicted=26339.18999924377, expected=26851.029296875\n",
            "predicted=26842.11733102038, expected=28327.48828125\n",
            "predicted=28301.839934313855, expected=30027.296875\n",
            "predicted=29998.893875962858, expected=29912.28125\n",
            "predicted=29914.14970685085, expected=30695.46875\n",
            "predicted=30682.542006324846, expected=30548.6953125\n",
            "predicted=30551.08524571816, expected=30480.26171875\n",
            "predicted=30481.377268631455, expected=30271.130859375\n",
            "predicted=30274.531466385626, expected=30688.1640625\n",
            "predicted=30681.30547340199, expected=30086.24609375\n",
            "predicted=30096.01791899048, expected=30445.3515625\n",
            "predicted=30439.412304530117, expected=30477.251953125\n",
            "predicted=30476.727249360014, expected=30590.078125\n",
            "predicted=30588.220015522966, expected=30620.76953125\n",
            "predicted=30620.26477572268, expected=31156.439453125\n",
            "predicted=31147.560801043244, expected=30777.58203125\n",
            "predicted=30783.78770002936, expected=30514.166015625\n",
            "predicted=30518.482424419526, expected=29909.337890625\n",
            "predicted=29919.170763399045, expected=30342.265625\n",
            "predicted=30335.080896316787, expected=30292.541015625\n",
            "predicted=30293.359979913526, expected=30171.234375\n"
          ]
        },
        {
          "output_type": "stream",
          "name": "stderr",
          "text": [
            "/usr/local/lib/python3.11/dist-packages/statsmodels/base/model.py:607: ConvergenceWarning: Maximum Likelihood optimization failed to converge. Check mle_retvals\n",
            "  warnings.warn(\"Maximum Likelihood optimization failed to \"\n"
          ]
        },
        {
          "output_type": "stream",
          "name": "stdout",
          "text": [
            "predicted=30173.22979199685, expected=30414.470703125\n",
            "predicted=30410.444185729866, expected=30620.951171875\n",
            "predicted=30617.537698965978, expected=30391.646484375\n",
            "predicted=30395.413212095966, expected=31476.048828125\n"
          ]
        },
        {
          "output_type": "stream",
          "name": "stderr",
          "text": [
            "/usr/local/lib/python3.11/dist-packages/statsmodels/base/model.py:607: ConvergenceWarning: Maximum Likelihood optimization failed to converge. Check mle_retvals\n",
            "  warnings.warn(\"Maximum Likelihood optimization failed to \"\n"
          ]
        },
        {
          "output_type": "stream",
          "name": "stdout",
          "text": [
            "predicted=31457.79730435604, expected=30334.068359375\n",
            "predicted=30352.927980554552, expected=30295.806640625\n",
            "predicted=30296.44917569576, expected=30249.1328125\n",
            "predicted=30249.916485884725, expected=30145.888671875\n",
            "predicted=30147.620467697754, expected=29856.5625\n",
            "predicted=29861.398698179084, expected=29913.923828125\n",
            "predicted=29912.959332604474, expected=29792.015625\n",
            "predicted=29794.059598429383, expected=29908.744140625\n",
            "predicted=29906.778911151207, expected=29771.802734375\n",
            "predicted=29774.09917246622, expected=30084.5390625\n",
            "predicted=30079.252518294223, expected=29176.916015625\n",
            "predicted=29192.012569412273, expected=29227.390625\n",
            "predicted=29226.537178901624, expected=29354.97265625\n",
            "predicted=29352.812866664073, expected=29210.689453125\n",
            "predicted=29213.121503959275, expected=29319.24609375\n",
            "predicted=29317.408049842703, expected=29356.91796875\n",
            "predicted=29356.28092150737, expected=29275.30859375\n"
          ]
        },
        {
          "output_type": "stream",
          "name": "stderr",
          "text": [
            "/usr/local/lib/python3.11/dist-packages/statsmodels/base/model.py:607: ConvergenceWarning: Maximum Likelihood optimization failed to converge. Check mle_retvals\n",
            "  warnings.warn(\"Maximum Likelihood optimization failed to \"\n"
          ]
        },
        {
          "output_type": "stream",
          "name": "stdout",
          "text": [
            "predicted=29276.685947687023, expected=29230.111328125\n",
            "predicted=29230.87456198931, expected=29675.732421875\n",
            "predicted=29668.143223047766, expected=29151.958984375\n",
            "predicted=29160.765533717535, expected=29178.6796875\n",
            "predicted=29178.22619233382, expected=29074.091796875\n",
            "predicted=29075.86297427113, expected=29042.126953125\n",
            "predicted=29042.66890674998, expected=29041.85546875\n",
            "predicted=29041.860074146814, expected=29180.578125\n",
            "predicted=29178.219338404695, expected=29765.4921875\n",
            "predicted=29755.48474877141, expected=29561.494140625\n",
            "predicted=29564.944572489687, expected=29429.591796875\n",
            "predicted=29431.82454804542, expected=29397.71484375\n",
            "predicted=29398.2552989107, expected=29415.96484375\n",
            "predicted=29415.6551637505, expected=29282.9140625\n",
            "predicted=29285.166135593547, expected=29408.443359375\n",
            "predicted=29406.308861055095, expected=29170.34765625\n",
            "predicted=29174.37336928691, expected=28701.779296875\n",
            "predicted=28709.657153339773, expected=26664.55078125\n",
            "predicted=26697.335682291872, expected=26049.556640625\n",
            "predicted=26059.46733505699, expected=26096.205078125\n",
            "predicted=26095.443639976216, expected=26189.583984375\n",
            "predicted=26188.058562310453, expected=26124.140625\n",
            "predicted=26125.206630326444, expected=26031.65625\n",
            "predicted=26033.161773981643, expected=26431.640625\n",
            "predicted=26425.064334267, expected=26162.373046875\n",
            "predicted=26166.753809101858, expected=26047.66796875\n",
            "predicted=26049.538357496494, expected=26008.462890625\n",
            "predicted=26009.10302232583, expected=26089.693359375\n"
          ]
        },
        {
          "output_type": "stream",
          "name": "stderr",
          "text": [
            "/usr/local/lib/python3.11/dist-packages/statsmodels/base/model.py:607: ConvergenceWarning: Maximum Likelihood optimization failed to converge. Check mle_retvals\n",
            "  warnings.warn(\"Maximum Likelihood optimization failed to \"\n"
          ]
        },
        {
          "output_type": "stream",
          "name": "stdout",
          "text": [
            "predicted=26088.36394561332, expected=26106.150390625\n",
            "predicted=26105.88139243397, expected=27727.392578125\n",
            "predicted=27700.121779519923, expected=27297.265625\n",
            "predicted=27304.317526671097, expected=25931.47265625\n",
            "predicted=25953.242438165635, expected=25800.724609375\n",
            "predicted=25802.848387006172, expected=25868.798828125\n",
            "predicted=25867.688699463004, expected=25969.56640625\n",
            "predicted=25967.92233794142, expected=25812.416015625\n"
          ]
        },
        {
          "output_type": "stream",
          "name": "stderr",
          "text": [
            "/usr/local/lib/python3.11/dist-packages/statsmodels/base/model.py:607: ConvergenceWarning: Maximum Likelihood optimization failed to converge. Check mle_retvals\n",
            "  warnings.warn(\"Maximum Likelihood optimization failed to \"\n"
          ]
        },
        {
          "output_type": "stream",
          "name": "stdout",
          "text": [
            "predicted=25814.968249368456, expected=25779.982421875\n",
            "predicted=25780.510358283595, expected=25753.236328125\n",
            "predicted=25753.6717258428, expected=26240.1953125\n",
            "predicted=26232.188750885052, expected=25905.654296875\n",
            "predicted=25911.08684013521, expected=25895.677734375\n",
            "predicted=25895.84072126685, expected=25832.2265625\n",
            "predicted=25833.262095997314, expected=25162.654296875\n",
            "predicted=25173.445163834724, expected=25833.34375\n",
            "predicted=25822.152838873466, expected=26228.32421875\n",
            "predicted=26221.804560917775, expected=26539.673828125\n",
            "predicted=26534.555373777504, expected=26608.693359375\n",
            "predicted=26607.564313493727, expected=26568.28125\n",
            "predicted=26568.941021610706, expected=26534.1875\n"
          ]
        },
        {
          "output_type": "stream",
          "name": "stderr",
          "text": [
            "/usr/local/lib/python3.11/dist-packages/statsmodels/base/model.py:607: ConvergenceWarning: Maximum Likelihood optimization failed to converge. Check mle_retvals\n",
            "  warnings.warn(\"Maximum Likelihood optimization failed to \"\n"
          ]
        },
        {
          "output_type": "stream",
          "name": "stdout",
          "text": [
            "predicted=26534.74416748621, expected=26754.28125\n",
            "predicted=26750.670257632097, expected=27211.1171875\n",
            "predicted=27203.60400923967, expected=27132.0078125\n",
            "predicted=27133.296989665214, expected=26567.6328125\n",
            "predicted=26576.740879647226, expected=26579.568359375\n"
          ]
        },
        {
          "output_type": "stream",
          "name": "stderr",
          "text": [
            "/usr/local/lib/python3.11/dist-packages/statsmodels/base/model.py:607: ConvergenceWarning: Maximum Likelihood optimization failed to converge. Check mle_retvals\n",
            "  warnings.warn(\"Maximum Likelihood optimization failed to \"\n"
          ]
        },
        {
          "output_type": "stream",
          "name": "stdout",
          "text": [
            "predicted=26579.373685510516, expected=26579.390625\n",
            "predicted=26579.393523273193, expected=26256.826171875\n",
            "predicted=26262.054641291474, expected=26298.48046875\n",
            "predicted=26297.800539425654, expected=26217.25\n",
            "predicted=26218.572973693525, expected=26352.716796875\n",
            "predicted=26350.501068807927, expected=27021.546875\n",
            "predicted=27010.518750392206, expected=26911.720703125\n",
            "predicted=26913.5080275417, expected=26967.916015625\n",
            "predicted=26966.998612473508, expected=27983.75\n",
            "predicted=27966.897259793852, expected=27530.78515625\n",
            "predicted=27538.161707574774, expected=27429.978515625\n",
            "predicted=27431.62903453195, expected=27799.39453125\n",
            "predicted=27793.291270848345, expected=27415.912109375\n",
            "predicted=27422.178280795157, expected=27946.59765625\n",
            "predicted=27937.75389710488, expected=27968.83984375\n",
            "predicted=27968.47261294212, expected=27935.08984375\n"
          ]
        },
        {
          "output_type": "stream",
          "name": "stderr",
          "text": [
            "/usr/local/lib/python3.11/dist-packages/statsmodels/base/model.py:607: ConvergenceWarning: Maximum Likelihood optimization failed to converge. Check mle_retvals\n",
            "  warnings.warn(\"Maximum Likelihood optimization failed to \"\n"
          ]
        },
        {
          "output_type": "stream",
          "name": "stdout",
          "text": [
            "predicted=27935.646533254177, expected=27583.677734375\n",
            "predicted=27589.440369407377, expected=27391.01953125\n",
            "predicted=27394.183887558123, expected=26873.3203125\n",
            "predicted=26881.75815626036, expected=26756.798828125\n",
            "predicted=26758.709608466383, expected=26862.375\n",
            "predicted=26860.636259157396, expected=26861.70703125\n",
            "predicted=26861.718010637152, expected=27159.65234375\n",
            "predicted=27154.72833094422, expected=28519.466796875\n"
          ]
        },
        {
          "output_type": "stream",
          "name": "stderr",
          "text": [
            "/usr/local/lib/python3.11/dist-packages/statsmodels/base/model.py:607: ConvergenceWarning: Maximum Likelihood optimization failed to converge. Check mle_retvals\n",
            "  warnings.warn(\"Maximum Likelihood optimization failed to \"\n"
          ]
        },
        {
          "output_type": "stream",
          "name": "stdout",
          "text": [
            "predicted=28496.73516560297, expected=28415.748046875\n",
            "predicted=28417.440935027036, expected=28328.341796875\n",
            "predicted=28329.76861552814, expected=28719.806640625\n"
          ]
        },
        {
          "output_type": "stream",
          "name": "stderr",
          "text": [
            "/usr/local/lib/python3.11/dist-packages/statsmodels/base/model.py:607: ConvergenceWarning: Maximum Likelihood optimization failed to converge. Check mle_retvals\n",
            "  warnings.warn(\"Maximum Likelihood optimization failed to \"\n"
          ]
        },
        {
          "output_type": "stream",
          "name": "stdout",
          "text": [
            "predicted=28713.359833766524, expected=29682.94921875\n",
            "predicted=29667.032844259295, expected=29918.412109375\n",
            "predicted=29914.582601221442, expected=29993.896484375\n"
          ]
        },
        {
          "output_type": "stream",
          "name": "stderr",
          "text": [
            "/usr/local/lib/python3.11/dist-packages/statsmodels/base/model.py:607: ConvergenceWarning: Maximum Likelihood optimization failed to converge. Check mle_retvals\n",
            "  warnings.warn(\"Maximum Likelihood optimization failed to \"\n"
          ]
        },
        {
          "output_type": "stream",
          "name": "stdout",
          "text": [
            "predicted=29992.672406689024, expected=33086.234375\n",
            "predicted=33033.86604999608, expected=33901.52734375\n"
          ]
        },
        {
          "output_type": "stream",
          "name": "stderr",
          "text": [
            "/usr/local/lib/python3.11/dist-packages/statsmodels/base/model.py:607: ConvergenceWarning: Maximum Likelihood optimization failed to converge. Check mle_retvals\n",
            "  warnings.warn(\"Maximum Likelihood optimization failed to \"\n"
          ]
        },
        {
          "output_type": "stream",
          "name": "stdout",
          "text": [
            "predicted=33888.65559420621, expected=34502.8203125\n",
            "predicted=34493.41519062681, expected=34156.6484375\n",
            "predicted=34162.002575462524, expected=33909.80078125\n",
            "predicted=33913.620109338866, expected=34089.57421875\n",
            "predicted=34086.77402035959, expected=34538.48046875\n",
            "predicted=34531.468059531355, expected=34502.36328125\n",
            "predicted=34502.92365021421, expected=34667.78125\n",
            "predicted=34665.20719229084, expected=35437.25390625\n",
            "predicted=35425.19628202843, expected=34938.2421875\n",
            "predicted=34945.95605722297, expected=34732.32421875\n",
            "predicted=34735.51655802091, expected=35082.1953125\n",
            "predicted=35076.72417760232, expected=35049.35546875\n",
            "predicted=35049.86629860872, expected=35037.37109375\n",
            "predicted=35037.55756657313, expected=35443.5625\n",
            "predicted=35437.204963367745, expected=35655.27734375\n",
            "predicted=35651.97593523594, expected=36693.125\n",
            "predicted=36676.7980487993, expected=37313.96875\n",
            "predicted=37304.32479399098, expected=37138.05078125\n",
            "predicted=37140.75748530584, expected=37054.51953125\n",
            "predicted=37055.80612877891, expected=36502.35546875\n",
            "predicted=36510.802926156386, expected=35537.640625\n",
            "predicted=35552.231653149036, expected=37880.58203125\n",
            "predicted=37842.658397729894, expected=36154.76953125\n",
            "predicted=36182.27525146131, expected=36596.68359375\n",
            "predicted=36589.382962536874, expected=36585.703125\n",
            "predicted=36585.88342439001, expected=37386.546875\n",
            "predicted=37373.25341241272, expected=37476.95703125\n",
            "predicted=37475.47154314228, expected=35813.8125\n",
            "predicted=35840.53953496657, expected=37432.33984375\n",
            "predicted=37404.46382543856, expected=37289.62109375\n",
            "predicted=37292.02611802368, expected=37720.28125\n",
            "predicted=37712.96520107236, expected=37796.79296875\n",
            "predicted=37795.49962515721, expected=37479.12109375\n",
            "predicted=37484.46455057275, expected=37254.16796875\n",
            "predicted=37257.953859671215, expected=37831.0859375\n",
            "predicted=37821.262689706025, expected=37858.4921875\n",
            "predicted=37858.02896854278, expected=37712.74609375\n",
            "predicted=37715.20403060735, expected=38688.75\n",
            "predicted=38672.03028997669, expected=39476.33203125\n",
            "predicted=39462.96472881306, expected=39978.390625\n",
            "predicted=39969.928824817915, expected=41980.09765625\n",
            "predicted=41946.02785255478, expected=44080.6484375\n",
            "predicted=44046.005554959236, expected=43746.4453125\n",
            "predicted=43751.83025923335, expected=43292.6640625\n",
            "predicted=43299.957907638876, expected=44166.6015625\n",
            "predicted=44152.30404555607, expected=43725.984375\n",
            "predicted=43733.10534126459, expected=43779.69921875\n",
            "predicted=43778.826170449014, expected=41243.83203125\n",
            "predicted=41283.86459890564, expected=41450.22265625\n",
            "predicted=41446.8481376292, expected=42890.7421875\n",
            "predicted=42866.90339223746, expected=43023.97265625\n",
            "predicted=43021.804720429165, expected=41929.7578125\n",
            "predicted=41947.329768217496, expected=42240.1171875\n",
            "predicted=42235.03926543467, expected=41364.6640625\n",
            "predicted=41378.817618993795, expected=42623.5390625\n",
            "predicted=42602.502683794395, expected=42270.52734375\n",
            "predicted=42276.33396905732, expected=43652.25\n",
            "predicted=43628.98696157468, expected=43869.15234375\n",
            "predicted=43865.55704210028, expected=43997.90234375\n",
            "predicted=43995.77075892691, expected=43739.54296875\n",
            "predicted=43743.802785679385, expected=43016.1171875\n",
            "predicted=43027.96673086929, expected=43613.140625\n",
            "predicted=43603.18518314634, expected=42520.40234375\n",
            "predicted=42538.355396100735, expected=43442.85546875\n",
            "predicted=43427.241405213485, expected=42627.85546875\n",
            "predicted=42641.44774413926, expected=42099.40234375\n",
            "predicted=42108.21683615796, expected=42156.90234375\n",
            "predicted=42155.93652582888, expected=42265.1875\n",
            "predicted=42263.36766011963, expected=44167.33203125\n",
            "predicted=44134.75559503189, expected=44957.96875\n",
            "predicted=44944.738561299244, expected=42848.17578125\n",
            "predicted=42882.72343090264, expected=44179.921875\n",
            "predicted=44156.84339376984, expected=44162.69140625\n",
            "predicted=44162.98548386255, expected=43989.1953125\n",
            "predicted=43992.15120818939, expected=43943.09765625\n",
            "predicted=43943.884106318525, expected=46970.50390625\n",
            "predicted=46917.07173828267, expected=46139.73046875\n",
            "predicted=46153.99332590679, expected=46627.77734375\n",
            "predicted=46619.26188372696, expected=46368.5859375\n",
            "predicted=46373.07580971415, expected=42853.16796875\n",
            "predicted=42911.581013450166, expected=42842.3828125\n",
            "predicted=42842.56883537262, expected=41796.26953125\n",
            "predicted=41814.09548576707, expected=42511.96875\n",
            "predicted=42499.45810804564, expected=43154.9453125\n",
            "predicted=43143.75226196332, expected=42742.65234375\n",
            "predicted=42749.75553300925, expected=41262.05859375\n",
            "predicted=41287.141763530126, expected=41618.40625\n",
            "predicted=41612.21617738419, expected=41665.5859375\n",
            "predicted=41664.76949305197, expected=41545.78515625\n",
            "predicted=41547.85430668386, expected=39507.3671875\n"
          ]
        },
        {
          "output_type": "stream",
          "name": "stderr",
          "text": [
            "/usr/local/lib/python3.11/dist-packages/statsmodels/base/model.py:607: ConvergenceWarning: Maximum Likelihood optimization failed to converge. Check mle_retvals\n",
            "  warnings.warn(\"Maximum Likelihood optimization failed to \"\n"
          ]
        },
        {
          "output_type": "stream",
          "name": "stdout",
          "text": [
            "predicted=39541.69840387475, expected=39845.55078125\n",
            "predicted=39839.65980825124, expected=40077.07421875\n",
            "predicted=40073.04908636348, expected=39933.80859375\n",
            "predicted=39936.288490155624, expected=41816.87109375\n",
            "predicted=41783.40663056457, expected=42120.0546875\n",
            "predicted=42114.79186707145, expected=42035.59375\n",
            "predicted=42037.05347780349, expected=43288.24609375\n",
            "predicted=43266.24538017792, expected=42952.609375\n",
            "predicted=42958.4129032115, expected=42582.60546875\n",
            "predicted=42588.99519806148, expected=43075.7734375\n",
            "predicted=43067.16167632357, expected=43185.859375\n",
            "predicted=43183.94621276709, expected=42992.25\n",
            "predicted=42995.60353222142, expected=42583.58203125\n",
            "predicted=42590.63931826739, expected=42658.66796875\n",
            "predicted=42657.36383614197, expected=43084.671875\n",
            "predicted=43077.244646403546, expected=44318.22265625\n",
            "predicted=44296.59702377003, expected=45301.56640625\n",
            "predicted=45284.512801156554, expected=47147.19921875\n",
            "predicted=47115.25957568563, expected=47771.27734375\n",
            "predicted=47760.69103966738, expected=48293.91796875\n",
            "predicted=48285.07838697574, expected=49958.22265625\n",
            "predicted=49929.88703609013, expected=49742.44140625\n",
            "predicted=49746.05277185724, expected=51826.6953125\n",
            "predicted=51790.94891554727, expected=51938.5546875\n",
            "predicted=51936.675174815806, expected=52160.203125\n",
            "predicted=52156.475469300596, expected=51662.99609375\n",
            "predicted=51671.30556726269, expected=52122.546875\n",
            "predicted=52114.78870764513, expected=51779.14453125\n",
            "predicted=51784.90209393615, expected=52284.875\n",
            "predicted=52276.320687213956, expected=51839.1796875\n",
            "predicted=51846.65871024407, expected=51304.97265625\n",
            "predicted=51313.91896284356, expected=50731.94921875\n",
            "predicted=50741.52727679699, expected=51571.1015625\n",
            "predicted=51556.85094758529, expected=51733.23828125\n"
          ]
        },
        {
          "output_type": "stream",
          "name": "stderr",
          "text": [
            "/usr/local/lib/python3.11/dist-packages/statsmodels/base/model.py:607: ConvergenceWarning: Maximum Likelihood optimization failed to converge. Check mle_retvals\n",
            "  warnings.warn(\"Maximum Likelihood optimization failed to \"\n"
          ]
        },
        {
          "output_type": "stream",
          "name": "stdout",
          "text": [
            "predicted=51730.504636203696, expected=54522.40234375\n",
            "predicted=54474.326280411915, expected=57085.37109375\n",
            "predicted=57042.69091113799, expected=62504.7890625\n",
            "predicted=62417.557741553195, expected=61198.3828125\n",
            "predicted=61218.776764108734, expected=62440.6328125\n",
            "predicted=62420.73304077332, expected=62029.84765625\n",
            "predicted=62036.35315197388, expected=63167.37109375\n",
            "predicted=63149.106988284395, expected=68330.4140625\n",
            "predicted=68246.64942067803, expected=63801.19921875\n",
            "predicted=63874.41119893448, expected=66106.8046875\n",
            "predicted=66066.41629071117, expected=66925.484375\n",
            "predicted=66911.38410494164, expected=68300.09375\n"
          ]
        },
        {
          "output_type": "stream",
          "name": "stderr",
          "text": [
            "/usr/local/lib/python3.11/dist-packages/statsmodels/base/model.py:607: ConvergenceWarning: Maximum Likelihood optimization failed to converge. Check mle_retvals\n",
            "  warnings.warn(\"Maximum Likelihood optimization failed to \"\n"
          ]
        },
        {
          "output_type": "stream",
          "name": "stdout",
          "text": [
            "predicted=68276.39881990777, expected=68498.8828125\n",
            "predicted=68495.48809125792, expected=69019.7890625\n",
            "predicted=69010.87555114596, expected=72123.90625\n",
            "predicted=72070.05689984349, expected=71481.2890625\n",
            "predicted=71492.19982208055, expected=73083.5\n",
            "predicted=73055.8111337629, expected=71396.59375\n",
            "predicted=71425.27904765247, expected=69403.7734375\n",
            "predicted=69437.30215599886, expected=65315.1171875\n",
            "predicted=65381.37388933411, expected=68390.625\n",
            "predicted=68336.30207936512, expected=67548.59375\n",
            "predicted=67563.14035990866, expected=61912.7734375\n",
            "predicted=62005.37547586332, expected=67913.671875\n",
            "predicted=67795.60073112158, expected=65491.390625\n",
            "predicted=65537.73037601323, expected=63778.76171875\n",
            "predicted=63811.33653332997, expected=64062.203125\n"
          ]
        },
        {
          "output_type": "stream",
          "name": "stderr",
          "text": [
            "/usr/local/lib/python3.11/dist-packages/statsmodels/base/model.py:607: ConvergenceWarning: Maximum Likelihood optimization failed to converge. Check mle_retvals\n",
            "  warnings.warn(\"Maximum Likelihood optimization failed to \"\n"
          ]
        },
        {
          "output_type": "stream",
          "name": "stdout",
          "text": [
            "predicted=64056.723266325935, expected=67234.171875\n",
            "predicted=67171.66413932636, expected=69958.8125\n",
            "predicted=69906.47940065019, expected=69987.8359375\n",
            "predicted=69987.28936500478, expected=69455.34375\n",
            "predicted=69465.33249121015, expected=70744.953125\n",
            "predicted=70720.41363193077, expected=69892.828125\n",
            "predicted=69908.8402476701, expected=69645.3046875\n",
            "predicted=69649.97312299443, expected=71333.6484375\n",
            "predicted=71301.34345794759, expected=69702.1484375\n",
            "predicted=69732.83524307127, expected=65446.97265625\n",
            "predicted=65524.18814963112, expected=65980.8125\n",
            "predicted=65970.73100713648, expected=68508.84375\n",
            "predicted=68460.57356055178, expected=67837.640625\n",
            "predicted=67850.2100560271, expected=68896.109375\n",
            "predicted=68876.00666432286, expected=69362.5546875\n",
            "predicted=69353.74423689421, expected=71631.359375\n",
            "predicted=71588.07301236498, expected=69139.015625\n",
            "predicted=69185.58515071202, expected=70587.8828125\n",
            "predicted=70559.83789117754, expected=70060.609375\n",
            "predicted=70070.69137187136, expected=67195.8671875\n",
            "predicted=67249.54471574584, expected=63821.47265625\n",
            "predicted=63882.90344082345, expected=65738.7265625\n",
            "predicted=65701.8081053359, expected=63426.2109375\n",
            "predicted=63469.825375674474, expected=63811.86328125\n",
            "predicted=63804.42309738983, expected=61276.69140625\n",
            "predicted=61324.61914186329, expected=63512.75390625\n",
            "predicted=63468.197076880686, expected=63843.5703125\n",
            "predicted=63837.09077732507, expected=64994.44140625\n",
            "predicted=64971.78213731502, expected=64926.64453125\n",
            "predicted=64927.96724512618, expected=66837.6796875\n",
            "predicted=66799.83128939016, expected=66407.2734375\n",
            "predicted=66415.66623970513, expected=64276.8984375\n",
            "predicted=64317.817535037604, expected=64481.70703125\n",
            "predicted=64477.699853584476, expected=63755.3203125\n",
            "predicted=63769.43697246312, expected=63419.140625\n",
            "predicted=63425.689043774066, expected=63113.23046875\n"
          ]
        },
        {
          "output_type": "stream",
          "name": "stderr",
          "text": [
            "/usr/local/lib/python3.11/dist-packages/statsmodels/base/model.py:607: ConvergenceWarning: Maximum Likelihood optimization failed to converge. Check mle_retvals\n",
            "  warnings.warn(\"Maximum Likelihood optimization failed to \"\n"
          ]
        },
        {
          "output_type": "stream",
          "name": "stdout",
          "text": [
            "predicted=63119.18894051104, expected=63841.12109375\n",
            "predicted=63826.82131733102, expected=60636.85546875\n",
            "predicted=60698.26557079694, expected=58254.01171875\n",
            "predicted=58298.91370535791, expected=59123.43359375\n",
            "predicted=59106.50028723135, expected=62889.8359375\n",
            "predicted=62815.520159925865, expected=63891.47265625\n",
            "predicted=63872.36546603886, expected=64031.1328125\n",
            "predicted=64028.48750422724, expected=63161.94921875\n"
          ]
        },
        {
          "output_type": "stream",
          "name": "stderr",
          "text": [
            "/usr/local/lib/python3.11/dist-packages/statsmodels/base/model.py:607: ConvergenceWarning: Maximum Likelihood optimization failed to converge. Check mle_retvals\n",
            "  warnings.warn(\"Maximum Likelihood optimization failed to \"\n"
          ]
        },
        {
          "output_type": "stream",
          "name": "stdout",
          "text": [
            "predicted=63178.29013205076, expected=62334.81640625\n",
            "predicted=62350.3392656157, expected=61187.94140625\n",
            "predicted=61209.349658368155, expected=63049.9609375\n",
            "predicted=63014.15171184763, expected=60792.77734375\n",
            "predicted=60835.28647913136, expected=60793.7109375\n",
            "predicted=60793.69304180113, expected=61448.39453125\n"
          ]
        },
        {
          "output_type": "stream",
          "name": "stderr",
          "text": [
            "/usr/local/lib/python3.11/dist-packages/statsmodels/base/model.py:607: ConvergenceWarning: Maximum Likelihood optimization failed to converge. Check mle_retvals\n",
            "  warnings.warn(\"Maximum Likelihood optimization failed to \"\n"
          ]
        },
        {
          "output_type": "stream",
          "name": "stdout",
          "text": [
            "predicted=61435.779235740185, expected=62901.44921875\n",
            "predicted=62873.352631716276, expected=61552.7890625\n",
            "predicted=61578.434058245664, expected=66267.4921875\n",
            "predicted=66171.95941517493, expected=65231.58203125\n",
            "predicted=65251.89909722178, expected=67051.875\n",
            "predicted=67015.24633803913, expected=66940.8046875\n",
            "predicted=66943.0087227884, expected=66278.3671875\n",
            "predicted=66291.45675480286, expected=71448.1953125\n",
            "predicted=71340.89441760984, expected=70136.53125\n",
            "predicted=70162.8823868727, expected=69122.3359375\n",
            "predicted=69142.69325533876, expected=67929.5625\n",
            "predicted=67953.40811124103, expected=68526.1015625\n",
            "predicted=68514.00380971102, expected=69265.9453125\n",
            "predicted=69250.9413140121, expected=68518.09375\n",
            "predicted=68533.11804268685, expected=69394.5546875\n",
            "predicted=69376.71759529042, expected=68296.21875\n",
            "predicted=68318.30428613424, expected=67578.09375\n",
            "predicted=67592.54658750737, expected=68364.9921875\n",
            "predicted=68348.96291237307, expected=67491.4140625\n",
            "predicted=67509.02335866581, expected=67706.9375\n",
            "predicted=67702.55705971822, expected=67751.6015625\n",
            "predicted=67750.69492535866, expected=68804.78125\n",
            "predicted=68783.24996301944, expected=70567.765625\n",
            "predicted=70531.69401843884, expected=71082.8203125\n",
            "predicted=71072.39537425179, expected=70757.1640625\n",
            "predicted=70763.71946194839, expected=69342.5859375\n",
            "predicted=69370.81698126353, expected=69305.7734375\n",
            "predicted=69306.51509334672, expected=69647.9921875\n",
            "predicted=69641.07892356091, expected=69512.28125\n"
          ]
        },
        {
          "output_type": "stream",
          "name": "stderr",
          "text": [
            "/usr/local/lib/python3.11/dist-packages/statsmodels/base/model.py:607: ConvergenceWarning: Maximum Likelihood optimization failed to converge. Check mle_retvals\n",
            "  warnings.warn(\"Maximum Likelihood optimization failed to \"\n"
          ]
        },
        {
          "output_type": "stream",
          "name": "stdout",
          "text": [
            "predicted=69515.01382421405, expected=67332.03125\n",
            "predicted=67375.26307937941, expected=68241.1875\n",
            "predicted=68222.67833419387, expected=66756.3984375\n",
            "predicted=66786.19455664288, expected=66011.09375\n"
          ]
        },
        {
          "output_type": "stream",
          "name": "stderr",
          "text": [
            "/usr/local/lib/python3.11/dist-packages/statsmodels/base/model.py:607: ConvergenceWarning: Maximum Likelihood optimization failed to converge. Check mle_retvals\n",
            "  warnings.warn(\"Maximum Likelihood optimization failed to \"\n"
          ]
        },
        {
          "output_type": "stream",
          "name": "stdout",
          "text": [
            "predicted=66026.0903896188, expected=66191.0\n",
            "predicted=66187.35414149724, expected=66639.046875\n",
            "predicted=66629.95086605864, expected=66490.296875\n",
            "predicted=66493.30389838651, expected=65140.74609375\n",
            "predicted=65167.77145308528, expected=64960.296875\n",
            "predicted=64963.939617344986, expected=64828.65625\n",
            "predicted=64831.31450407919, expected=64096.19921875\n",
            "predicted=64110.91889334299, expected=64252.578125\n",
            "predicted=64249.413346470494, expected=63180.796875\n",
            "predicted=63202.29246679863, expected=60277.4140625\n",
            "predicted=60334.318463119314, expected=61804.640625\n",
            "predicted=61773.27021142126, expected=60811.27734375\n",
            "predicted=60831.353759231104, expected=61604.80078125\n",
            "predicted=61588.49879896845, expected=60320.13671875\n",
            "predicted=60346.16246044385, expected=60887.37890625\n",
            "predicted=60875.69248385054, expected=62678.29296875\n",
            "predicted=62641.142942961735, expected=62851.98046875\n",
            "predicted=62848.42689647222, expected=62029.015625\n"
          ]
        },
        {
          "output_type": "stream",
          "name": "stderr",
          "text": [
            "/usr/local/lib/python3.11/dist-packages/statsmodels/base/model.py:607: ConvergenceWarning: Maximum Likelihood optimization failed to converge. Check mle_retvals\n",
            "  warnings.warn(\"Maximum Likelihood optimization failed to \"\n"
          ]
        },
        {
          "output_type": "stream",
          "name": "stdout",
          "text": [
            "predicted=62045.72812277558, expected=60173.921875\n",
            "predicted=60211.12593375766, expected=56977.703125\n",
            "predicted=57039.97031417558, expected=56662.375\n",
            "predicted=56668.64480626357, expected=58303.5390625\n",
            "predicted=58270.30436025387, expected=55849.109375\n",
            "predicted=55897.69652833616, expected=56705.09765625\n",
            "predicted=56687.55221448605, expected=58009.2265625\n",
            "predicted=57982.491861769915, expected=57742.49609375\n",
            "predicted=57747.89657960089, expected=57344.9140625\n",
            "predicted=57352.95219759487, expected=57899.46484375\n",
            "predicted=57888.154541943084, expected=59231.953125\n",
            "predicted=59204.662646640245, expected=60787.79296875\n",
            "predicted=60756.07271077043, expected=64870.15234375\n",
            "predicted=64786.7931088181, expected=65097.1484375\n",
            "predicted=65092.66464204379, expected=64118.79296875\n",
            "predicted=64137.9527546819, expected=63974.06640625\n",
            "predicted=63976.91751607356, expected=66710.15625\n",
            "predicted=66655.02647645911, expected=67163.6484375\n",
            "predicted=67154.69587835087, expected=68154.5234375\n",
            "predicted=68134.90719705953, expected=67585.25\n",
            "predicted=67596.40716524584, expected=65927.671875\n",
            "predicted=65959.82679854128, expected=65372.1328125\n",
            "predicted=65382.97144748742, expected=65777.2265625\n",
            "predicted=65769.2619663158, expected=67912.0625\n",
            "predicted=67869.64548634352, expected=67813.3359375\n",
            "predicted=67815.26630044311, expected=68255.8671875\n",
            "predicted=68247.17987714813, expected=66819.9140625\n",
            "predicted=66847.76162995223, expected=66201.015625\n"
          ]
        },
        {
          "output_type": "stream",
          "name": "stderr",
          "text": [
            "/usr/local/lib/python3.11/dist-packages/statsmodels/base/model.py:607: ConvergenceWarning: Maximum Likelihood optimization failed to converge. Check mle_retvals\n",
            "  warnings.warn(\"Maximum Likelihood optimization failed to \"\n"
          ]
        },
        {
          "output_type": "stream",
          "name": "stdout",
          "text": [
            "predicted=66213.06264091576, expected=64619.25\n",
            "predicted=64649.742507997726, expected=65357.5\n",
            "predicted=65342.97792979551, expected=61415.06640625\n",
            "predicted=61490.41034489975, expected=60680.09375\n",
            "predicted=60694.36843269847, expected=58116.9765625\n",
            "predicted=58165.732141057895, expected=53991.45703125\n",
            "predicted=54066.14106320365, expected=56034.31640625\n",
            "predicted=55994.14439600826, expected=55027.4609375\n",
            "predicted=55046.86361620062, expected=61710.13671875\n",
            "predicted=61569.785604841505, expected=60880.11328125\n",
            "predicted=60896.7100888802, expected=60945.8125\n",
            "predicted=60944.489205551865, expected=58719.484375\n"
          ]
        },
        {
          "output_type": "stream",
          "name": "stderr",
          "text": [
            "/usr/local/lib/python3.11/dist-packages/statsmodels/base/model.py:607: ConvergenceWarning: Maximum Likelihood optimization failed to converge. Check mle_retvals\n",
            "  warnings.warn(\"Maximum Likelihood optimization failed to \"\n"
          ]
        },
        {
          "output_type": "stream",
          "name": "stdout",
          "text": [
            "predicted=58763.508321970156, expected=59354.515625\n",
            "predicted=59341.610677162826, expected=60609.56640625\n"
          ]
        },
        {
          "output_type": "stream",
          "name": "stderr",
          "text": [
            "/usr/local/lib/python3.11/dist-packages/statsmodels/base/model.py:607: ConvergenceWarning: Maximum Likelihood optimization failed to converge. Check mle_retvals\n",
            "  warnings.warn(\"Maximum Likelihood optimization failed to \"\n"
          ]
        },
        {
          "output_type": "stream",
          "name": "stdout",
          "text": [
            "predicted=60583.99324974329, expected=58737.26953125\n",
            "predicted=58774.69697654687, expected=57560.09765625\n",
            "predicted=57583.603278664166, expected=58894.10546875\n",
            "predicted=58866.77407793747, expected=59478.97265625\n",
            "predicted=59467.09416330821, expected=58483.96484375\n",
            "predicted=58503.94298978453, expected=59493.453125\n",
            "predicted=59472.78539160367, expected=59012.79296875\n",
            "predicted=59022.52593289617, expected=61175.19140625\n",
            "predicted=61130.320733315384, expected=60381.9140625\n",
            "predicted=60398.056050982625, expected=64094.35546875\n",
            "predicted=64015.48283709908, expected=64178.9921875\n",
            "predicted=64177.24704803227, expected=64333.54296875\n",
            "predicted=64330.35466579268, expected=62880.66015625\n",
            "predicted=62910.279466197375, expected=59504.1328125\n",
            "predicted=59571.03012276277, expected=59027.625\n",
            "predicted=59037.23882213035, expected=59388.1796875\n",
            "predicted=59380.851253453424, expected=59119.4765625\n",
            "predicted=59124.91118965618, expected=58969.8984375\n",
            "predicted=58972.92632177467, expected=57325.48828125\n",
            "predicted=57358.33383814925, expected=59112.48046875\n",
            "predicted=59075.42719932608, expected=57431.0234375\n",
            "predicted=57465.17802544828, expected=57971.5390625\n",
            "predicted=57960.3241441328, expected=56160.48828125\n",
            "predicted=56197.42173212095, expected=53948.75390625\n",
            "predicted=53993.100941855635, expected=54139.6875\n",
            "predicted=54135.77179816165, expected=54841.56640625\n",
            "predicted=54827.112732554524, expected=57019.53515625\n",
            "predicted=56974.33827589624, expected=57648.7109375\n",
            "predicted=57635.890073294395, expected=57343.171875\n",
            "predicted=57349.351912438855, expected=58127.01171875\n",
            "predicted=58110.99850487746, expected=60571.30078125\n",
            "predicted=60520.97365691073, expected=60005.12109375\n",
            "predicted=60016.53426594536, expected=59182.8359375\n",
            "predicted=59199.354172170184, expected=58192.5078125\n",
            "predicted=58212.3245663951, expected=60308.5390625\n",
            "predicted=60264.83286687385, expected=61649.6796875\n",
            "predicted=61622.38623634813, expected=62940.45703125\n",
            "predicted=62914.32778940655, expected=63192.9765625\n",
            "predicted=63187.91110857823, expected=63394.83984375\n",
            "predicted=63390.79268682957, expected=63648.7109375\n",
            "predicted=63643.61973138039, expected=63329.80078125\n",
            "predicted=63336.16936776419, expected=64301.96875\n",
            "predicted=64282.346129980004, expected=63143.14453125\n"
          ]
        },
        {
          "output_type": "stream",
          "name": "stderr",
          "text": [
            "/usr/local/lib/python3.11/dist-packages/statsmodels/base/model.py:607: ConvergenceWarning: Maximum Likelihood optimization failed to converge. Check mle_retvals\n",
            "  warnings.warn(\"Maximum Likelihood optimization failed to \"\n"
          ]
        },
        {
          "output_type": "stream",
          "name": "stdout",
          "text": [
            "predicted=63166.218083641346, expected=65181.01953125\n",
            "predicted=65139.19960441263, expected=65790.6640625\n",
            "predicted=65778.3289326542, expected=65887.6484375\n",
            "predicted=65885.69393919852, expected=65635.3046875\n",
            "predicted=65640.37716875022, expected=63329.5\n",
            "predicted=63375.06522436502, expected=60837.0078125\n",
            "predicted=60885.43216496781, expected=60632.78515625\n",
            "predicted=60636.81837979009, expected=60759.40234375\n",
            "predicted=60756.89490068001, expected=62067.4765625\n",
            "predicted=62041.33963624888, expected=62089.94921875\n",
            "predicted=62089.50483953036, expected=62818.953125\n"
          ]
        },
        {
          "output_type": "stream",
          "name": "stderr",
          "text": [
            "/usr/local/lib/python3.11/dist-packages/statsmodels/base/model.py:607: ConvergenceWarning: Maximum Likelihood optimization failed to converge. Check mle_retvals\n",
            "  warnings.warn(\"Maximum Likelihood optimization failed to \"\n"
          ]
        },
        {
          "output_type": "stream",
          "name": "stdout",
          "text": [
            "predicted=62804.45821523521, expected=62236.66015625\n",
            "predicted=62248.13197719745, expected=62131.96875\n",
            "predicted=62134.03865278787, expected=60582.1015625\n",
            "predicted=60612.3786640861, expected=60274.5\n",
            "predicted=60280.56016959735, expected=62445.08984375\n",
            "predicted=62401.39158497828, expected=63193.0234375\n",
            "predicted=63178.205465022125, expected=62851.375\n",
            "predicted=62858.09074518729, expected=66046.125\n"
          ]
        },
        {
          "output_type": "stream",
          "name": "stderr",
          "text": [
            "/usr/local/lib/python3.11/dist-packages/statsmodels/base/model.py:607: ConvergenceWarning: Maximum Likelihood optimization failed to converge. Check mle_retvals\n",
            "  warnings.warn(\"Maximum Likelihood optimization failed to \"\n"
          ]
        },
        {
          "output_type": "stream",
          "name": "stdout",
          "text": [
            "predicted=65981.43919855628, expected=67041.109375\n",
            "predicted=67021.46064161103, expected=67612.71875\n",
            "predicted=67601.48160482592, expected=67399.8359375\n",
            "predicted=67403.99823602947, expected=68418.7890625\n",
            "predicted=68398.67869045332, expected=68362.734375\n",
            "predicted=68363.83223810847, expected=69001.703125\n",
            "predicted=68989.12535502765, expected=67367.8515625\n",
            "predicted=67399.56445693669, expected=67361.40625\n",
            "predicted=67361.53281044132, expected=66432.1953125\n",
            "predicted=66450.31798107874, expected=68161.0546875\n",
            "predicted=68126.55138236682, expected=66642.4140625\n",
            "predicted=66672.18598424176, expected=67014.6953125\n",
            "predicted=67007.2869191447, expected=67929.296875\n",
            "predicted=67911.03922958243, expected=69907.7578125\n"
          ]
        },
        {
          "output_type": "stream",
          "name": "stderr",
          "text": [
            "/usr/local/lib/python3.11/dist-packages/statsmodels/base/model.py:607: ConvergenceWarning: Maximum Likelihood optimization failed to converge. Check mle_retvals\n",
            "  warnings.warn(\"Maximum Likelihood optimization failed to \"\n"
          ]
        },
        {
          "output_type": "stream",
          "name": "stdout",
          "text": [
            "predicted=69868.12885627759, expected=72720.4921875\n",
            "predicted=72664.52229003682, expected=72339.5390625\n",
            "predicted=72346.96929064005, expected=70215.1875\n",
            "predicted=70256.05785238, expected=69482.46875\n"
          ]
        },
        {
          "output_type": "stream",
          "name": "stderr",
          "text": [
            "/usr/local/lib/python3.11/dist-packages/statsmodels/base/model.py:607: ConvergenceWarning: Maximum Likelihood optimization failed to converge. Check mle_retvals\n",
            "  warnings.warn(\"Maximum Likelihood optimization failed to \"\n"
          ]
        },
        {
          "output_type": "stream",
          "name": "stdout",
          "text": [
            "predicted=69496.65151342207, expected=69289.2734375\n",
            "predicted=69293.02594399544, expected=68741.1171875\n",
            "predicted=68751.73486469303, expected=67811.5078125\n",
            "predicted=67829.44366021235, expected=69359.5625\n",
            "predicted=69329.06416486409, expected=75639.078125\n"
          ]
        },
        {
          "output_type": "stream",
          "name": "stderr",
          "text": [
            "/usr/local/lib/python3.11/dist-packages/statsmodels/base/model.py:607: ConvergenceWarning: Maximum Likelihood optimization failed to converge. Check mle_retvals\n",
            "  warnings.warn(\"Maximum Likelihood optimization failed to \"\n"
          ]
        },
        {
          "output_type": "stream",
          "name": "stdout",
          "text": [
            "predicted=75514.05102425112, expected=75904.859375\n",
            "predicted=75899.80150611227, expected=76545.4765625\n",
            "predicted=76533.26006105574, expected=76778.8671875\n",
            "predicted=76774.42939586319, expected=80474.1875\n",
            "predicted=80402.50715379824, expected=88701.484375\n",
            "predicted=88545.97415533743, expected=87955.8125\n",
            "predicted=87969.29611606547, expected=90584.1640625\n",
            "predicted=90535.61365524863, expected=87250.4296875\n",
            "predicted=87310.7341716336, expected=91066.0078125\n",
            "predicted=90992.97775730657, expected=90558.4765625\n",
            "predicted=90567.98432576541, expected=89845.8515625\n",
            "predicted=89859.17989098586, expected=90542.640625\n",
            "predicted=90529.49977276573, expected=92343.7890625\n",
            "predicted=92309.6773064053, expected=94339.4921875\n"
          ]
        },
        {
          "output_type": "stream",
          "name": "stderr",
          "text": [
            "/usr/local/lib/python3.11/dist-packages/statsmodels/base/model.py:607: ConvergenceWarning: Maximum Likelihood optimization failed to converge. Check mle_retvals\n",
            "  warnings.warn(\"Maximum Likelihood optimization failed to \"\n"
          ]
        },
        {
          "output_type": "stream",
          "name": "stdout",
          "text": [
            "predicted=94301.83820979501, expected=98504.7265625\n"
          ]
        },
        {
          "output_type": "stream",
          "name": "stderr",
          "text": [
            "/usr/local/lib/python3.11/dist-packages/statsmodels/base/model.py:607: ConvergenceWarning: Maximum Likelihood optimization failed to converge. Check mle_retvals\n",
            "  warnings.warn(\"Maximum Likelihood optimization failed to \"\n"
          ]
        },
        {
          "output_type": "stream",
          "name": "stdout",
          "text": [
            "predicted=98426.09408533818, expected=98997.6640625\n",
            "predicted=98988.55526213576, expected=97777.28125\n",
            "predicted=97799.65536902087, expected=98013.8203125\n",
            "predicted=98009.45070304566, expected=93102.296875\n",
            "predicted=93190.77220851179, expected=91985.3203125\n",
            "predicted=92005.68651738571, expected=95962.53125\n",
            "predicted=95887.64218346134, expected=95652.46875\n",
            "predicted=95658.18485534529, expected=97461.5234375\n",
            "predicted=97427.78967123354, expected=96449.0546875\n",
            "predicted=96467.70436834004, expected=97279.7890625\n",
            "predicted=97264.32876872939, expected=95865.3046875\n",
            "predicted=95891.36535787472, expected=96002.1640625\n",
            "predicted=95999.62209017218, expected=98768.53125\n",
            "predicted=98716.48956130203, expected=96593.5703125\n",
            "predicted=96633.74844153634, expected=99920.7109375\n",
            "predicted=99857.02882362486, expected=99923.3359375\n",
            "predicted=99923.28653115821, expected=101236.015625\n",
            "predicted=101211.15095680927, expected=97432.71875\n",
            "predicted=97503.33643482464, expected=96675.4296875\n",
            "predicted=96689.65397928287, expected=101173.03125\n",
            "predicted=101085.99635957796, expected=100043.0\n",
            "predicted=100064.37571964055, expected=101459.2578125\n",
            "predicted=101432.08909757664, expected=101372.96875\n",
            "predicted=101374.6121681211, expected=104298.6953125\n",
            "predicted=104242.1542946445, expected=106029.71875\n",
            "predicted=105996.63043081667, expected=106140.6015625\n",
            "predicted=106138.49848939508, expected=100041.5390625\n",
            "predicted=100153.9074278878, expected=97490.953125\n"
          ]
        },
        {
          "output_type": "stream",
          "name": "stderr",
          "text": [
            "/usr/local/lib/python3.11/dist-packages/statsmodels/base/model.py:607: ConvergenceWarning: Maximum Likelihood optimization failed to converge. Check mle_retvals\n",
            "  warnings.warn(\"Maximum Likelihood optimization failed to \"\n"
          ]
        },
        {
          "output_type": "stream",
          "name": "stdout",
          "text": [
            "predicted=97537.92144922215, expected=97755.9296875\n",
            "predicted=97750.97820889467, expected=97224.7265625\n",
            "predicted=97234.61474326231, expected=95104.9375\n",
            "predicted=95144.02530741734, expected=94686.2421875\n",
            "predicted=94694.02105824782, expected=98676.09375\n",
            "predicted=98600.14371884384, expected=99299.1953125\n",
            "predicted=99287.57156375267, expected=95795.515625\n",
            "predicted=95859.68744721591, expected=94164.859375\n",
            "predicted=94194.79582220691, expected=95163.9296875\n",
            "predicted=95145.30155106098, expected=93530.2265625\n",
            "predicted=93560.33226169924, expected=92643.2109375\n",
            "predicted=92659.58936485187, expected=93429.203125\n",
            "predicted=93414.54901011992, expected=94419.7578125\n",
            "predicted=94401.28882539342, expected=96886.875\n",
            "predicted=96840.66785466029, expected=98107.4296875\n",
            "predicted=98084.7999144593, expected=98236.2265625\n",
            "predicted=98233.8521774649, expected=98314.9609375\n",
            "predicted=98313.50984115667, expected=102078.0859375\n",
            "predicted=102007.49506252159, expected=96922.703125\n"
          ]
        },
        {
          "output_type": "stream",
          "name": "stderr",
          "text": [
            "/usr/local/lib/python3.11/dist-packages/statsmodels/base/model.py:607: ConvergenceWarning: Maximum Likelihood optimization failed to converge. Check mle_retvals\n",
            "  warnings.warn(\"Maximum Likelihood optimization failed to \"\n"
          ]
        },
        {
          "output_type": "stream",
          "name": "stdout",
          "text": [
            "predicted=97017.18507235673, expected=95043.5234375\n",
            "predicted=95078.1193006019, expected=92484.0390625\n"
          ]
        },
        {
          "output_type": "stream",
          "name": "stderr",
          "text": [
            "/usr/local/lib/python3.11/dist-packages/statsmodels/base/model.py:607: ConvergenceWarning: Maximum Likelihood optimization failed to converge. Check mle_retvals\n",
            "  warnings.warn(\"Maximum Likelihood optimization failed to \"\n"
          ]
        },
        {
          "output_type": "stream",
          "name": "stdout",
          "text": [
            "predicted=92530.70725450505, expected=94701.453125\n",
            "predicted=94659.71362624389, expected=94566.59375\n",
            "predicted=94569.10186520604, expected=94488.4375\n",
            "predicted=94489.89145813636, expected=94516.5234375\n",
            "predicted=94516.00065911999, expected=96534.046875\n",
            "predicted=96496.11121923832, expected=100504.4921875\n",
            "predicted=100429.82792778191, expected=99756.90625\n",
            "predicted=99770.68002138822, expected=104462.0390625\n",
            "predicted=104372.71984752196, expected=104408.0703125\n",
            "predicted=104409.07157675177, expected=101089.609375\n",
            "predicted=101150.20937927978, expected=102016.6640625\n",
            "predicted=101999.33511460073, expected=106146.265625\n",
            "predicted=106068.21743969365, expected=103653.0703125\n",
            "predicted=103699.19748032236, expected=103960.171875\n",
            "predicted=103954.41132566448, expected=104819.484375\n",
            "predicted=104803.32806017117, expected=104714.6484375\n",
            "predicted=104716.61074708393, expected=102682.5\n",
            "predicted=102720.18360115912, expected=102087.6875\n",
            "predicted=102098.77825736426, expected=101332.4765625\n",
            "predicted=101346.54034076753, expected=103703.2109375\n",
            "predicted=103658.31490901747, expected=104735.3046875\n",
            "predicted=104715.93476102666, expected=102405.0234375\n",
            "predicted=102448.16820971502, expected=100655.90625\n",
            "predicted=100688.2377369879, expected=97688.9765625\n",
            "predicted=97743.17317133976, expected=101405.421875\n",
            "predicted=101334.42757120405, expected=97871.8203125\n",
            "predicted=97937.85190585413, expected=96615.4453125\n",
            "predicted=96639.06516527192, expected=96593.296875\n"
          ]
        },
        {
          "output_type": "stream",
          "name": "stderr",
          "text": [
            "/usr/local/lib/python3.11/dist-packages/statsmodels/base/model.py:607: ConvergenceWarning: Maximum Likelihood optimization failed to converge. Check mle_retvals\n",
            "  warnings.warn(\"Maximum Likelihood optimization failed to \"\n"
          ]
        },
        {
          "output_type": "stream",
          "name": "stdout",
          "text": [
            "predicted=96593.71584178755, expected=96529.0859375\n",
            "predicted=96530.30031068002, expected=96482.453125\n",
            "predicted=96483.33513153081, expected=96500.09375\n",
            "predicted=96499.7599882038, expected=97437.5546875\n",
            "predicted=97419.73554840914, expected=95747.4296875\n",
            "predicted=95779.18569621432, expected=97885.859375\n",
            "predicted=97844.72873807668, expected=96623.8671875\n",
            "predicted=96647.79607357905, expected=97508.96875\n",
            "predicted=97491.98286933695, expected=97580.3515625\n",
            "predicted=97578.98739906575, expected=96175.03125\n",
            "predicted=96201.69041308295, expected=95773.3828125\n",
            "predicted=95781.03571297257, expected=95539.546875\n",
            "predicted=95544.00563845369, expected=96635.609375\n",
            "predicted=96614.56130129767, expected=98333.9375\n",
            "predicted=98301.29640879153, expected=96125.546875\n",
            "predicted=96167.33298949574, expected=96577.7578125\n",
            "predicted=96569.07659858436, expected=96273.921875\n",
            "predicted=96279.73316828442, expected=91418.171875\n",
            "predicted=91508.69350636599, expected=88736.171875\n",
            "predicted=88785.87813001464, expected=84347.0234375\n",
            "predicted=84426.23010159064, expected=84704.2265625\n",
            "predicted=84697.5916840745, expected=84373.0078125\n"
          ]
        },
        {
          "output_type": "stream",
          "name": "stderr",
          "text": [
            "/usr/local/lib/python3.11/dist-packages/statsmodels/base/model.py:607: ConvergenceWarning: Maximum Likelihood optimization failed to converge. Check mle_retvals\n",
            "  warnings.warn(\"Maximum Likelihood optimization failed to \"\n"
          ]
        },
        {
          "output_type": "stream",
          "name": "stdout",
          "text": [
            "predicted=84379.13656978814, expected=86031.9140625\n",
            "predicted=86000.83905808741, expected=94248.3515625\n",
            "predicted=94092.01928208319, expected=86065.671875\n",
            "predicted=86220.69301351486, expected=87222.1953125\n"
          ]
        },
        {
          "output_type": "stream",
          "name": "stderr",
          "text": [
            "/usr/local/lib/python3.11/dist-packages/statsmodels/base/model.py:607: ConvergenceWarning: Maximum Likelihood optimization failed to converge. Check mle_retvals\n",
            "  warnings.warn(\"Maximum Likelihood optimization failed to \"\n"
          ]
        },
        {
          "output_type": "stream",
          "name": "stdout",
          "text": [
            "predicted=87198.88761181074, expected=90623.5625\n",
            "predicted=90554.52889897862, expected=89961.7265625\n",
            "predicted=89974.89594123427, expected=86742.671875\n",
            "predicted=86805.646913565, expected=86154.59375\n",
            "predicted=86166.23551933489, expected=80601.0390625\n",
            "predicted=80707.29894311492, expected=78532.0\n",
            "predicted=78571.65475890865, expected=82862.2109375\n",
            "predicted=82774.70535288514, expected=83722.359375\n",
            "predicted=83705.4452297632, expected=81066.703125\n",
            "predicted=81118.01528756869, expected=83969.1015625\n",
            "predicted=83910.48864459475, expected=84343.109375\n",
            "predicted=84335.68234181168, expected=82579.6875\n",
            "predicted=82614.30095531585, expected=84075.6875\n"
          ]
        }
      ]
    },
    {
      "cell_type": "code",
      "source": [
        "# Cálculo das métricas de avaliação\n",
        "mse = mean_squared_error(test['y'], predictions)\n",
        "rmse = np.sqrt(mse)\n",
        "mae = mean_absolute_error(test['y'], predictions)\n",
        "r2 = r2_score(test['y'], predictions)\n",
        "\n",
        "# Calcular MAPE (Mean Absolute Percentage Error)\n",
        "mape = np.mean(np.abs((test['y'] - predictions) / test)) * 100\n",
        "\n",
        "# Calcular SMAPE (Symmetric Mean Absolute Percentage Error)\n",
        "smape = np.mean(2 * np.abs(test['y'] - predictions) /\n",
        "               (np.abs(test['y']) + np.abs(predictions))) * 100\n",
        "\n",
        "# Exibir as métricas\n",
        "print(f\"MSE: {mse}\")\n",
        "print(f\"RMSE: {rmse}\")\n",
        "print(f\"MAE: {mae}\")\n",
        "print(f\"R²: {r2}\")\n",
        "print(f\"MAPE: {mape}\")\n",
        "print(f\"SMAPE: {smape}\")"
      ],
      "metadata": {
        "colab": {
          "base_uri": "https://localhost:8080/"
        },
        "id": "pzKyySHT00Zo",
        "outputId": "7ce05aa5-b432-4dfc-ba55-75fe8b9096ec"
      },
      "execution_count": 34,
      "outputs": [
        {
          "output_type": "stream",
          "name": "stdout",
          "text": [
            "MSE: 1972414.2004353444\n",
            "RMSE: 1404.4266447327693\n",
            "MAE: 877.3476024727969\n",
            "R²: 0.9966668437497852\n",
            "MAPE: nan\n",
            "SMAPE: 1.9348935691102136\n"
          ]
        }
      ]
    },
    {
      "cell_type": "code",
      "source": [
        "train['y'].plot(legend=True, label='TRAIN DATA')\n",
        "test['y'].plot(legend=True, label='TEST DATA')\n",
        "pd.DataFrame({'ds':test.index, 'y':predictions}).set_index('ds')['y'].plot(legend=True, label='PREDICT DATA', figsize=(12, 6))\n",
        ""
      ],
      "metadata": {
        "colab": {
          "base_uri": "https://localhost:8080/",
          "height": 559
        },
        "id": "F0EfN7Bl9REq",
        "outputId": "b47288a1-3b7f-41c3-c08f-21e7261233cb"
      },
      "execution_count": 35,
      "outputs": [
        {
          "output_type": "execute_result",
          "data": {
            "text/plain": [
              "<Axes: xlabel='ds'>"
            ]
          },
          "metadata": {},
          "execution_count": 35
        },
        {
          "output_type": "display_data",
          "data": {
            "text/plain": [
              "<Figure size 1200x600 with 1 Axes>"
            ],
            "image/png": "[encoded data removed]"
          },
          "metadata": {}
        }
      ]
    },
    {
      "cell_type": "code",
      "source": [
        "model_fit.summary()"
      ],
      "metadata": {
        "id": "n0waYx9LRct0",
        "colab": {
          "base_uri": "https://localhost:8080/",
          "height": 396
        },
        "outputId": "8af16776-9370-4a06-e4ba-60eb59b745bc"
      },
      "execution_count": 36,
      "outputs": [
        {
          "output_type": "execute_result",
          "data": {
            "text/plain": [
              "<class 'statsmodels.iolib.summary.Summary'>\n",
              "\"\"\"\n",
              "                               SARIMAX Results                                \n",
              "==============================================================================\n",
              "Dep. Variable:                      y   No. Observations:                 3834\n",
              "Model:                 ARIMA(1, 1, 0)   Log Likelihood                7268.301\n",
              "Date:                Tue, 25 Mar 2025   AIC                         -14532.601\n",
              "Time:                        21:34:19   BIC                         -14520.098\n",
              "Sample:                             0   HQIC                        -14528.159\n",
              "                               - 3834                                         \n",
              "Covariance Type:                  opg                                         \n",
              "==============================================================================\n",
              "                 coef    std err          z      P>|z|      [0.025      0.975]\n",
              "------------------------------------------------------------------------------\n",
              "ar.L1         -0.0198      0.010     -1.984      0.047      -0.039      -0.000\n",
              "sigma2         0.0013   1.18e-05    112.063      0.000       0.001       0.001\n",
              "===================================================================================\n",
              "Ljung-Box (L1) (Q):                   0.01   Jarque-Bera (JB):             21144.61\n",
              "Prob(Q):                              0.94   Prob(JB):                         0.00\n",
              "Heteroskedasticity (H):               0.52   Skew:                            -0.73\n",
              "Prob(H) (two-sided):                  0.00   Kurtosis:                        14.41\n",
              "===================================================================================\n",
              "\n",
              "Warnings:\n",
              "[1] Covariance matrix calculated using the outer product of gradients (complex-step).\n",
              "\"\"\""
            ],
            "text/html": [
              "<table class=\"simpletable\">\n",
              "<caption>SARIMAX Results</caption>\n",
              "<tr>\n",
              "  <th>Dep. Variable:</th>           <td>y</td>        <th>  No. Observations:  </th>    <td>3834</td>   \n",
              "</tr>\n",
              "<tr>\n",
              "  <th>Model:</th>            <td>ARIMA(1, 1, 0)</td>  <th>  Log Likelihood     </th>  <td>7268.301</td> \n",
              "</tr>\n",
              "<tr>\n",
              "  <th>Date:</th>            <td>Tue, 25 Mar 2025</td> <th>  AIC                </th> <td>-14532.601</td>\n",
              "</tr>\n",
              "<tr>\n",
              "  <th>Time:</th>                <td>21:34:19</td>     <th>  BIC                </th> <td>-14520.098</td>\n",
              "</tr>\n",
              "<tr>\n",
              "  <th>Sample:</th>                  <td>0</td>        <th>  HQIC               </th> <td>-14528.159</td>\n",
              "</tr>\n",
              "<tr>\n",
              "  <th></th>                      <td> - 3834</td>     <th>                     </th>      <td> </td>    \n",
              "</tr>\n",
              "<tr>\n",
              "  <th>Covariance Type:</th>        <td>opg</td>       <th>                     </th>      <td> </td>    \n",
              "</tr>\n",
              "</table>\n",
              "<table class=\"simpletable\">\n",
              "<tr>\n",
              "     <td></td>       <th>coef</th>     <th>std err</th>      <th>z</th>      <th>P>|z|</th>  <th>[0.025</th>    <th>0.975]</th>  \n",
              "</tr>\n",
              "<tr>\n",
              "  <th>ar.L1</th>  <td>   -0.0198</td> <td>    0.010</td> <td>   -1.984</td> <td> 0.047</td> <td>   -0.039</td> <td>   -0.000</td>\n",
              "</tr>\n",
              "<tr>\n",
              "  <th>sigma2</th> <td>    0.0013</td> <td> 1.18e-05</td> <td>  112.063</td> <td> 0.000</td> <td>    0.001</td> <td>    0.001</td>\n",
              "</tr>\n",
              "</table>\n",
              "<table class=\"simpletable\">\n",
              "<tr>\n",
              "  <th>Ljung-Box (L1) (Q):</th>     <td>0.01</td> <th>  Jarque-Bera (JB):  </th> <td>21144.61</td>\n",
              "</tr>\n",
              "<tr>\n",
              "  <th>Prob(Q):</th>                <td>0.94</td> <th>  Prob(JB):          </th>   <td>0.00</td>  \n",
              "</tr>\n",
              "<tr>\n",
              "  <th>Heteroskedasticity (H):</th> <td>0.52</td> <th>  Skew:              </th>   <td>-0.73</td> \n",
              "</tr>\n",
              "<tr>\n",
              "  <th>Prob(H) (two-sided):</th>    <td>0.00</td> <th>  Kurtosis:          </th>   <td>14.41</td> \n",
              "</tr>\n",
              "</table><br/><br/>Warnings:<br/>[1] Covariance matrix calculated using the outer product of gradients (complex-step)."
            ],
            "text/latex": "\\begin{center}\n\\begin{tabular}{lclc}\n\\toprule\n\\textbf{Dep. Variable:}          &        y         & \\textbf{  No. Observations:  } &    3834     \\\\\n\\textbf{Model:}                  &  ARIMA(1, 1, 0)  & \\textbf{  Log Likelihood     } &  7268.301   \\\\\n\\textbf{Date:}                   & Tue, 25 Mar 2025 & \\textbf{  AIC                } & -14532.601  \\\\\n\\textbf{Time:}                   &     21:34:19     & \\textbf{  BIC                } & -14520.098  \\\\\n\\textbf{Sample:}                 &        0         & \\textbf{  HQIC               } & -14528.159  \\\\\n\\textbf{}                        &      - 3834      & \\textbf{                     } &             \\\\\n\\textbf{Covariance Type:}        &       opg        & \\textbf{                     } &             \\\\\n\\bottomrule\n\\end{tabular}\n\\begin{tabular}{lcccccc}\n                & \\textbf{coef} & \\textbf{std err} & \\textbf{z} & \\textbf{P$> |$z$|$} & \\textbf{[0.025} & \\textbf{0.975]}  \\\\\n\\midrule\n\\textbf{ar.L1}  &      -0.0198  &        0.010     &    -1.984  &         0.047        &       -0.039    &       -0.000     \\\\\n\\textbf{sigma2} &       0.0013  &     1.18e-05     &   112.063  &         0.000        &        0.001    &        0.001     \\\\\n\\bottomrule\n\\end{tabular}\n\\begin{tabular}{lclc}\n\\textbf{Ljung-Box (L1) (Q):}     & 0.01 & \\textbf{  Jarque-Bera (JB):  } & 21144.61  \\\\\n\\textbf{Prob(Q):}                & 0.94 & \\textbf{  Prob(JB):          } &   0.00    \\\\\n\\textbf{Heteroskedasticity (H):} & 0.52 & \\textbf{  Skew:              } &  -0.73    \\\\\n\\textbf{Prob(H) (two-sided):}    & 0.00 & \\textbf{  Kurtosis:          } &  14.41    \\\\\n\\bottomrule\n\\end{tabular}\n%\\caption{SARIMAX Results}\n\\end{center}\n\nWarnings: \\newline\n [1] Covariance matrix calculated using the outer product of gradients (complex-step)."
          },
          "metadata": {},
          "execution_count": 36
        }
      ]
    }
  ]
}