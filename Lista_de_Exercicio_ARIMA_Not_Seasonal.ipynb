{
  "nbformat": 4,
  "nbformat_minor": 0,
  "metadata": {
    "colab": {
      "provenance": [],
      "toc_visible": true,
      "authorship_tag": "ABX9TyPcXYtSzdCjFZysqxpzbEfm",
      "include_colab_link": true
    },
    "kernelspec": {
      "name": "python3",
      "display_name": "Python 3"
    },
    "language_info": {
      "name": "python"
    }
  },
  "cells": [
    {
      "cell_type": "markdown",
      "metadata": {
        "id": "view-in-github",
        "colab_type": "text"
      },
      "source": [
        "<a href=\"https://colab.research.google.com/github/MariaGabrielaAlvesZuppardo/SeriesTemporaisCin/blob/main/Lista_de_Exercicio_ARIMA_Not_Seasonal.ipynb\" target=\"_parent\"><img src=\"https://colab.research.google.com/assets/colab-badge.svg\" alt=\"Open In Colab\"/></a>"
      ]
    },
    {
      "cell_type": "code",
      "source": [
        "!pip install yfinance"
      ],
      "metadata": {
        "colab": {
          "base_uri": "https://localhost:8080/"
        },
        "id": "N0kYP_yebcry",
        "outputId": "e4c4f72d-d3bc-49c5-d222-7dc5f5f07334"
      },
      "execution_count": 1,
      "outputs": [
        {
          "output_type": "stream",
          "name": "stdout",
          "text": [
            "Requirement already satisfied: yfinance in /usr/local/lib/python3.11/dist-packages (0.2.55)\n",
            "Requirement already satisfied: pandas>=1.3.0 in /usr/local/lib/python3.11/dist-packages (from yfinance) (2.2.2)\n",
            "Requirement already satisfied: numpy>=1.16.5 in /usr/local/lib/python3.11/dist-packages (from yfinance) (2.0.2)\n",
            "Requirement already satisfied: requests>=2.31 in /usr/local/lib/python3.11/dist-packages (from yfinance) (2.32.3)\n",
            "Requirement already satisfied: multitasking>=0.0.7 in /usr/local/lib/python3.11/dist-packages (from yfinance) (0.0.11)\n",
            "Requirement already satisfied: platformdirs>=2.0.0 in /usr/local/lib/python3.11/dist-packages (from yfinance) (4.3.7)\n",
            "Requirement already satisfied: pytz>=2022.5 in /usr/local/lib/python3.11/dist-packages (from yfinance) (2025.1)\n",
            "Requirement already satisfied: frozendict>=2.3.4 in /usr/local/lib/python3.11/dist-packages (from yfinance) (2.4.6)\n",
            "Requirement already satisfied: peewee>=3.16.2 in /usr/local/lib/python3.11/dist-packages (from yfinance) (3.17.9)\n",
            "Requirement already satisfied: beautifulsoup4>=4.11.1 in /usr/local/lib/python3.11/dist-packages (from yfinance) (4.13.3)\n",
            "Requirement already satisfied: soupsieve>1.2 in /usr/local/lib/python3.11/dist-packages (from beautifulsoup4>=4.11.1->yfinance) (2.6)\n",
            "Requirement already satisfied: typing-extensions>=4.0.0 in /usr/local/lib/python3.11/dist-packages (from beautifulsoup4>=4.11.1->yfinance) (4.12.2)\n",
            "Requirement already satisfied: python-dateutil>=2.8.2 in /usr/local/lib/python3.11/dist-packages (from pandas>=1.3.0->yfinance) (2.8.2)\n",
            "Requirement already satisfied: tzdata>=2022.7 in /usr/local/lib/python3.11/dist-packages (from pandas>=1.3.0->yfinance) (2025.1)\n",
            "Requirement already satisfied: charset-normalizer<4,>=2 in /usr/local/lib/python3.11/dist-packages (from requests>=2.31->yfinance) (3.4.1)\n",
            "Requirement already satisfied: idna<4,>=2.5 in /usr/local/lib/python3.11/dist-packages (from requests>=2.31->yfinance) (3.10)\n",
            "Requirement already satisfied: urllib3<3,>=1.21.1 in /usr/local/lib/python3.11/dist-packages (from requests>=2.31->yfinance) (2.3.0)\n",
            "Requirement already satisfied: certifi>=2017.4.17 in /usr/local/lib/python3.11/dist-packages (from requests>=2.31->yfinance) (2025.1.31)\n",
            "Requirement already satisfied: six>=1.5 in /usr/local/lib/python3.11/dist-packages (from python-dateutil>=2.8.2->pandas>=1.3.0->yfinance) (1.17.0)\n"
          ]
        }
      ]
    },
    {
      "cell_type": "code",
      "source": [
        "!pip install pmdarima statsmodels scikit-learn"
      ],
      "metadata": {
        "colab": {
          "base_uri": "https://localhost:8080/"
        },
        "id": "HbQk8rQn2kXe",
        "outputId": "91b49cb5-088f-4835-db5d-eabbd2af3e2f"
      },
      "execution_count": 2,
      "outputs": [
        {
          "output_type": "stream",
          "name": "stdout",
          "text": [
            "Requirement already satisfied: pmdarima in /usr/local/lib/python3.11/dist-packages (2.0.4)\n",
            "Requirement already satisfied: statsmodels in /usr/local/lib/python3.11/dist-packages (0.14.4)\n",
            "Requirement already satisfied: scikit-learn in /usr/local/lib/python3.11/dist-packages (1.6.1)\n",
            "Requirement already satisfied: joblib>=0.11 in /usr/local/lib/python3.11/dist-packages (from pmdarima) (1.4.2)\n",
            "Requirement already satisfied: Cython!=0.29.18,!=0.29.31,>=0.29 in /usr/local/lib/python3.11/dist-packages (from pmdarima) (3.0.12)\n",
            "Requirement already satisfied: numpy>=1.21.2 in /usr/local/lib/python3.11/dist-packages (from pmdarima) (2.0.2)\n",
            "Requirement already satisfied: pandas>=0.19 in /usr/local/lib/python3.11/dist-packages (from pmdarima) (2.2.2)\n",
            "Requirement already satisfied: scipy>=1.3.2 in /usr/local/lib/python3.11/dist-packages (from pmdarima) (1.14.1)\n",
            "Requirement already satisfied: urllib3 in /usr/local/lib/python3.11/dist-packages (from pmdarima) (2.3.0)\n",
            "Requirement already satisfied: setuptools!=50.0.0,>=38.6.0 in /usr/local/lib/python3.11/dist-packages (from pmdarima) (75.1.0)\n",
            "Requirement already satisfied: packaging>=17.1 in /usr/local/lib/python3.11/dist-packages (from pmdarima) (24.2)\n",
            "Requirement already satisfied: patsy>=0.5.6 in /usr/local/lib/python3.11/dist-packages (from statsmodels) (1.0.1)\n",
            "Requirement already satisfied: threadpoolctl>=3.1.0 in /usr/local/lib/python3.11/dist-packages (from scikit-learn) (3.6.0)\n",
            "Requirement already satisfied: python-dateutil>=2.8.2 in /usr/local/lib/python3.11/dist-packages (from pandas>=0.19->pmdarima) (2.8.2)\n",
            "Requirement already satisfied: pytz>=2020.1 in /usr/local/lib/python3.11/dist-packages (from pandas>=0.19->pmdarima) (2025.1)\n",
            "Requirement already satisfied: tzdata>=2022.7 in /usr/local/lib/python3.11/dist-packages (from pandas>=0.19->pmdarima) (2025.1)\n",
            "Requirement already satisfied: six>=1.5 in /usr/local/lib/python3.11/dist-packages (from python-dateutil>=2.8.2->pandas>=0.19->pmdarima) (1.17.0)\n"
          ]
        }
      ]
    },
    {
      "cell_type": "code",
      "source": [
        "#!pip install --upgrade scikit-learn pmdarima"
      ],
      "metadata": {
        "id": "TIwAl0Bm0Ss2"
      },
      "execution_count": 3,
      "outputs": []
    },
    {
      "cell_type": "code",
      "source": [
        "import yfinance as yf\n",
        "import pandas as pd\n",
        "import numpy as np\n",
        "from pandas import DataFrame\n",
        "from datetime import datetime\n",
        "from sklearn.metrics import mean_absolute_error, mean_squared_error, r2_score\n",
        "from math import sqrt\n",
        "from statsmodels.graphics.tsaplots import plot_acf, plot_pacf\n",
        "from statsmodels.tsa.stattools import adfuller\n",
        "from statsmodels.tsa.ar_model import AutoReg\n",
        "from statsmodels.tsa.arima.model import ARIMA\n",
        "import matplotlib.pyplot as plt"
      ],
      "metadata": {
        "id": "ePPvhsEk2Fiu"
      },
      "execution_count": 4,
      "outputs": []
    },
    {
      "cell_type": "markdown",
      "source": [
        "# Load Data"
      ],
      "metadata": {
        "id": "Lcl6w9dittLh"
      }
    },
    {
      "cell_type": "code",
      "source": [
        "start_date = datetime(2007, 3, 18)\n",
        "end_date = datetime (2025, 3, 18)\n",
        "ticker = 'BTC-USD'\n",
        "df =yf.download(ticker, start=start_date, end=end_date)['Close']\n",
        "df = df.rename(columns={ticker:'y'})\n",
        "df = df.resample('ME').last()\n"
      ],
      "metadata": {
        "id": "vml1rQU9-c00",
        "colab": {
          "base_uri": "https://localhost:8080/"
        },
        "outputId": "46889bef-a86e-41a5-c174-cd7b585ed82f"
      },
      "execution_count": null,
      "outputs": [
        {
          "output_type": "stream",
          "name": "stdout",
          "text": [
            "YF.download() has changed argument auto_adjust default to True\n"
          ]
        },
        {
          "output_type": "stream",
          "name": "stderr",
          "text": [
            "\r[*********************100%***********************]  1 of 1 completed"
          ]
        }
      ]
    },
    {
      "cell_type": "code",
      "source": [
        "df.plot()"
      ],
      "metadata": {
        "id": "uBgotDaf2-iG"
      },
      "execution_count": null,
      "outputs": []
    },
    {
      "cell_type": "markdown",
      "source": [
        "## Train / Test"
      ],
      "metadata": {
        "id": "7bEQk5OyTmda"
      }
    },
    {
      "cell_type": "code",
      "source": [
        "size = int(len(df) * 0.7)\n",
        "train, test = df[0:size], df[size:len(df)]\n",
        "h = len(test)\n",
        "print(train.shape)\n",
        "print(test.shape)\n",
        "train.head()"
      ],
      "metadata": {
        "id": "zDpcofmFTqAd"
      },
      "execution_count": null,
      "outputs": []
    },
    {
      "cell_type": "markdown",
      "source": [
        "# Analysis"
      ],
      "metadata": {
        "id": "nMDunmQbj_Lm"
      }
    },
    {
      "cell_type": "code",
      "source": [
        "def adf_test(series,title=''):\n",
        "    \"\"\"\n",
        "    Pass in a time series and an optional title, returns an ADF report\n",
        "    \"\"\"\n",
        "    print(f'Augmented Dickey-Fuller Test: {title}')\n",
        "    dftest = adfuller(series.dropna(),autolag='AIC')\n",
        "\n",
        "    labels = ['ADF test statistic','p-value','# lags used','# observations']\n",
        "    out = pd.Series(dftest[0:4],index=labels)\n",
        "\n",
        "    for key,val in dftest[4].items():\n",
        "        out[f'critical value ({key})']=val\n",
        "\n",
        "    print(out.to_string())\n",
        "\n",
        "    if dftest[1] <= 0.05:\n",
        "        print(\"Reject the null hypothesis\")\n",
        "        print(\"Data has no unit root and is stationary\")\n",
        "    else:\n",
        "        print(\"Fail to reject the null hypothesis\")\n",
        "        print(\"Data has a unit root and is non-stationary\")\n",
        "\n",
        "def ljungbox_test(serie):\n",
        "    \"\"\"\n",
        "    Aplica o teste de Ljung-Box para verificar autocorrelação nos resíduos.\n",
        "    \"\"\"\n",
        "    from statsmodels.stats.diagnostic import acorr_ljungbox\n",
        "\n",
        "    ljung_box_results = acorr_ljungbox(serie, return_df=True, lags=[20])\n",
        "\n",
        "    p_value = ljung_box_results['lb_pvalue'].values[0]\n",
        "    print('\\nLJung-Box Test\\nH0:has no autocorrelation\\n')\n",
        "    alpha = 0.05\n",
        "    print(f'p-valor = {round(p_value,2)}\\nalpha = {round(alpha,2)}')\n",
        "    if p_value < alpha:\n",
        "        print('Data has autocorrelation')\n",
        "    else:\n",
        "        print('Data has no autocorrelation')\n"
      ],
      "metadata": {
        "id": "gLAGLha0e3OJ"
      },
      "execution_count": null,
      "outputs": []
    },
    {
      "cell_type": "code",
      "source": [
        "adf_test(train)"
      ],
      "metadata": {
        "id": "rKoVI2VoaHZQ"
      },
      "execution_count": null,
      "outputs": []
    },
    {
      "cell_type": "markdown",
      "source": [
        "## Definindo 'd'"
      ],
      "metadata": {
        "id": "FGnBcOYVmiZx"
      }
    },
    {
      "cell_type": "markdown",
      "source": [
        "### 1ª diff"
      ],
      "metadata": {
        "id": "wPE-HycTuDQk"
      }
    },
    {
      "cell_type": "code",
      "source": [
        "diff1 = train.copy()\n",
        "diff1['y'] = diff1['y'].diff(1)\n",
        "diff1.dropna(inplace=True)\n",
        "diff1.head()"
      ],
      "metadata": {
        "id": "PBvX_I37yVd2"
      },
      "execution_count": null,
      "outputs": []
    },
    {
      "cell_type": "code",
      "source": [
        "fig, axes = plt.subplots(2, 2, )\n",
        "axes[0, 0].plot(train); axes[0, 0].set_title('Original Series with Logarithm')\n",
        "plot_acf(train, ax=axes[0, 1],lags=20)\n",
        "\n",
        "axes[1, 0].plot(diff1); axes[1, 0].set_title('1st Order Differencing')\n",
        "plot_acf(diff1, ax=axes[1, 1],lags=20)\n",
        "\n",
        "# Rotaciona os rótulos do eixo X apenas nos gráficos à esquerda\n",
        "for ax in axes[:, 0]:\n",
        "    for label in ax.get_xticklabels():\n",
        "        label.set_rotation(45)\n",
        "\n",
        "plt.tight_layout()\n",
        "plt.show()"
      ],
      "metadata": {
        "id": "_9hQ-qVyXmg_"
      },
      "execution_count": null,
      "outputs": []
    },
    {
      "cell_type": "code",
      "source": [
        "adf_test(diff1)"
      ],
      "metadata": {
        "id": "D5OCYtYKaQZX"
      },
      "execution_count": null,
      "outputs": []
    },
    {
      "cell_type": "markdown",
      "source": [
        "* A série já parece bastante estacionária visualmente.\n",
        "\n",
        "* A ACF mostra poucos lags significativos (quase todos dentro da banda de confiança).\n",
        "\n",
        "* Isso indica que a 1ª diferenciação pode ser suficiente."
      ],
      "metadata": {
        "id": "YUSjhzbFllNI"
      }
    },
    {
      "cell_type": "markdown",
      "source": [
        "### 2ª diff"
      ],
      "metadata": {
        "id": "CYRoJsH2uGDv"
      }
    },
    {
      "cell_type": "code",
      "source": [
        "diff2 = diff1.copy()\n",
        "diff2['y'] = diff2['y'].diff(1)\n",
        "diff2.dropna(inplace=True)\n",
        "diff2.head()"
      ],
      "metadata": {
        "id": "4AhLn7s0tPvq"
      },
      "execution_count": null,
      "outputs": []
    },
    {
      "cell_type": "code",
      "source": [
        "fig, axes = plt.subplots(1, 2)\n",
        "axes[0].plot(diff2); axes[0].set_title('2st Differencing')\n",
        "axes[1].set(ylim=(0,5))\n",
        "plot_acf(diff2, ax=axes[1],lags=20)\n",
        "\n",
        "# Rotaciona os rótulos do eixo X apenas nos gráficos à esquerda\n",
        "for label in axes[0].get_xticklabels():\n",
        "    label.set_rotation(45)\n",
        "plt.tight_layout()\n",
        "plt.show()"
      ],
      "metadata": {
        "id": "SZWylweoB8hl"
      },
      "execution_count": null,
      "outputs": []
    },
    {
      "cell_type": "markdown",
      "source": [
        "* A 2ª diferenciação ganhou ainda mais oscilação.\n",
        "* Mais lags se tornam significativos negativamente, o que pode indicar superdiferenciação.\n",
        "\n",
        "### Conclusão\n",
        "\n",
        "* A 1ª diferenciação é suficiente"
      ],
      "metadata": {
        "id": "ibtM3pLLw69o"
      }
    },
    {
      "cell_type": "code",
      "source": [
        "d = 1"
      ],
      "metadata": {
        "id": "4RBjdCZzmfTT"
      },
      "execution_count": null,
      "outputs": []
    },
    {
      "cell_type": "markdown",
      "source": [
        "## Definindo 'p'"
      ],
      "metadata": {
        "id": "z7KzUZKZmnKa"
      }
    },
    {
      "cell_type": "code",
      "source": [
        "fig, axes = plt.subplots(1, 2)\n",
        "axes[0].plot(diff1); axes[0].set_title('1st Differencing')\n",
        "axes[1].set(ylim=(0,5))\n",
        "plot_pacf(diff1, ax=axes[1],lags=20)\n",
        "\n",
        "# Rotaciona os rótulos do eixo X apenas nos gráficos à esquerda\n",
        "for label in axes[0].get_xticklabels():\n",
        "    label.set_rotation(45)\n",
        "plt.tight_layout()\n",
        "plt.show()"
      ],
      "metadata": {
        "id": "eumr_jaPnfHR"
      },
      "execution_count": null,
      "outputs": []
    },
    {
      "cell_type": "code",
      "source": [
        "p = 5"
      ],
      "metadata": {
        "id": "5V1ZFtaEr2sq"
      },
      "execution_count": null,
      "outputs": []
    },
    {
      "cell_type": "markdown",
      "source": [
        "## Definindo 'q'"
      ],
      "metadata": {
        "id": "DPXNtzJdsJlJ"
      }
    },
    {
      "cell_type": "code",
      "source": [
        "fig, axes = plt.subplots(1, 2)\n",
        "axes[0].plot(diff1); axes[0].set_title('1st Differencing')\n",
        "axes[1].set(ylim=(0,1.2))\n",
        "plot_acf(diff1, ax=axes[1], lags=20)\n",
        "\n",
        "# Rotaciona os rótulos do eixo X apenas nos gráficos à esquerda\n",
        "for label in axes[0].get_xticklabels():\n",
        "    label.set_rotation(45)\n",
        "plt.tight_layout()\n",
        "\n",
        "plt.show()"
      ],
      "metadata": {
        "id": "8x-SOTUhsMFa"
      },
      "execution_count": null,
      "outputs": []
    },
    {
      "cell_type": "code",
      "source": [
        "ljungbox_test(diff1)"
      ],
      "metadata": {
        "id": "DRbUt9HBqNX5"
      },
      "execution_count": null,
      "outputs": []
    },
    {
      "cell_type": "code",
      "source": [
        "q = 7"
      ],
      "metadata": {
        "id": "YmIixjP1wQoq"
      },
      "execution_count": null,
      "outputs": []
    },
    {
      "cell_type": "markdown",
      "source": [
        "# Modelo ARIMA"
      ],
      "metadata": {
        "id": "pOKsgMPX4SMP"
      }
    },
    {
      "cell_type": "markdown",
      "source": [
        "## Arima(5,1,7)"
      ],
      "metadata": {
        "id": "eJcTtA7O-ebc"
      }
    },
    {
      "cell_type": "code",
      "source": [
        "arima_517 = ARIMA(train, order=(5,1,7))\n",
        "fitted_517 = arima_517.fit()"
      ],
      "metadata": {
        "id": "MPKZ4Cfd-ebd"
      },
      "execution_count": null,
      "outputs": []
    },
    {
      "cell_type": "code",
      "source": [
        "# summary of fit model\n",
        "print(fitted_517.summary())\n",
        "# residuals\n",
        "resid_517 = DataFrame(fitted_517.resid)\n",
        "# summary stats of residuals\n",
        "print(resid_517.describe())"
      ],
      "metadata": {
        "id": "jQO0Jofo-ebe"
      },
      "execution_count": null,
      "outputs": []
    },
    {
      "cell_type": "code",
      "source": [
        "fig = fitted_517.plot_diagnostics(figsize=(14,10))\n",
        "plt.show()"
      ],
      "metadata": {
        "id": "QkwUvlYh-ebe"
      },
      "execution_count": null,
      "outputs": []
    },
    {
      "cell_type": "code",
      "source": [
        "predictions_517 = predictions = fitted_517.forecast(len(test))\n",
        "train['y'].plot(legend=True, label='TRAIN')\n",
        "test['y'].plot(legend=True, label='TEST')\n",
        "pd.DataFrame({'ds':test.index, 'y':predictions_517}).set_index('ds')['y'].plot(legend=True, label='PREDICTIONS', figsize=(12, 6))\n"
      ],
      "metadata": {
        "id": "GyGfut3X-ebe"
      },
      "execution_count": null,
      "outputs": []
    },
    {
      "cell_type": "markdown",
      "source": [
        "# Modelo AR"
      ],
      "metadata": {
        "id": "8uRc2U1Z3shz"
      }
    },
    {
      "cell_type": "markdown",
      "source": [
        "## AR(5)"
      ],
      "metadata": {
        "id": "Mk2hDaLP3xDC"
      }
    },
    {
      "cell_type": "code",
      "source": [
        "ar5 = ARIMA(train, order=(5,0,0))\n",
        "fitted_ar5 = ar5.fit()"
      ],
      "metadata": {
        "id": "NtNc__cd3vli"
      },
      "execution_count": null,
      "outputs": []
    },
    {
      "cell_type": "code",
      "source": [
        "# summary of fit model\n",
        "print(fitted_ar5.summary())\n",
        "# residuals\n",
        "resid_ar5 = DataFrame(fitted_ar5.resid)\n",
        "# summary stats of residuals\n",
        "print(resid_ar5.describe())\n",
        "predictions_ar5 = predictions = fitted_ar5.forecast(len(test))\n",
        "fig = fitted_ar5.plot_diagnostics(figsize=(14,10))\n",
        "plt.show()"
      ],
      "metadata": {
        "id": "UcSEpVae35h5"
      },
      "execution_count": null,
      "outputs": []
    },
    {
      "cell_type": "code",
      "source": [
        "predictions_ar5 = predictions = fitted_ar5.forecast(len(test))\n",
        "train['y'].plot(legend=True, label='TRAIN')\n",
        "test['y'].plot(legend=True, label='TEST')\n",
        "pd.DataFrame({'ds':test.index, 'y':predictions_ar5}).set_index('ds')['y'].plot(legend=True, label='PREDICTIONS', figsize=(12, 6))\n"
      ],
      "metadata": {
        "id": "1AhVrqLT4CF7"
      },
      "execution_count": null,
      "outputs": []
    },
    {
      "cell_type": "markdown",
      "source": [
        "# Modelo MA"
      ],
      "metadata": {
        "id": "eRaKtKhH1zVR"
      }
    },
    {
      "cell_type": "markdown",
      "source": [
        "## MA(7)"
      ],
      "metadata": {
        "id": "JHP6WXVd25-A"
      }
    },
    {
      "cell_type": "code",
      "source": [
        "ma7 = ARIMA(train, order=(0,0,7))\n",
        "fitted_ma7 = ma7.fit()\n"
      ],
      "metadata": {
        "id": "G3VgMpD925-B"
      },
      "execution_count": null,
      "outputs": []
    },
    {
      "cell_type": "code",
      "source": [
        "# summary of fit model\n",
        "print(fitted_ma7.summary())\n",
        "# residuals\n",
        "resid_ma7 = DataFrame(fitted_ma7.resid)\n",
        "# summary stats of residuals\n",
        "print(resid_ma7.describe())\n",
        "predictions_ma7 = predictions = fitted_ma7.forecast(len(test))\n",
        "fig = fitted_ma7.plot_diagnostics(figsize=(14,10))\n",
        "plt.show()"
      ],
      "metadata": {
        "id": "ZTR7lZGg25-B"
      },
      "execution_count": null,
      "outputs": []
    },
    {
      "cell_type": "code",
      "source": [
        "predictions_ma7 = predictions = fitted_ma7.forecast(len(test))\n",
        "train['y'].plot(legend=True, label='TRAIN')\n",
        "test['y'].plot(legend=True, label='TEST')\n",
        "pd.DataFrame({'ds':test.index, 'y':predictions_ma7}).set_index('ds')['y'].plot(legend=True, label='PREDICTIONS', figsize=(12, 6))\n"
      ],
      "metadata": {
        "id": "SJYV8R4B3iBR"
      },
      "execution_count": null,
      "outputs": []
    },
    {
      "cell_type": "markdown",
      "source": [
        "# Conclusion"
      ],
      "metadata": {
        "id": "BIZo0sWh0TIY"
      }
    },
    {
      "cell_type": "code",
      "source": [
        "def metrics(test, predictions):\n",
        "  # Cálculo das métricas de avaliação\n",
        "  mse = mean_squared_error(test['y'], predictions)\n",
        "  rmse = np.sqrt(mse)\n",
        "  mae = mean_absolute_error(test['y'], predictions)\n",
        "  r2 = r2_score(test['y'], predictions)\n",
        "\n",
        "  # Calcular MAPE (Mean Absolute Percentage Error)\n",
        "  mape = np.mean(np.abs((test['y'] - predictions) / test['y'])) * 100\n",
        "\n",
        "  # Calcular SMAPE (Symmetric Mean Absolute Percentage Error)\n",
        "  smape = np.mean(2 * np.abs(test['y'] - predictions) /\n",
        "                (np.abs(test['y']) + np.abs(predictions))) * 100\n",
        "\n",
        "  # Exibir as métricas\n",
        "  print(f\"MSE: {mse}\")\n",
        "  print(f\"RMSE: {rmse}\")\n",
        "  print(f\"MAE: {mae}\")\n",
        "  print(f\"R²: {r2}\")\n",
        "  print(f\"MAPE: {mape}\")\n",
        "  print(f\"SMAPE: {smape}\")\n"
      ],
      "metadata": {
        "id": "XSC6ak0y0UZ4"
      },
      "execution_count": null,
      "outputs": []
    },
    {
      "cell_type": "code",
      "source": [
        "print('\\nARIMA(5,1,7)')\n",
        "metrics(test, predictions_517)\n",
        "\n",
        "print('\\nAR(5)')\n",
        "metrics(test, predictions_ar5)\n",
        "\n",
        "print('\\nMA(7)')\n",
        "metrics(test, predictions_ma7)"
      ],
      "metadata": {
        "id": "fuLqwnhp0WiS"
      },
      "execution_count": null,
      "outputs": []
    }
  ]
}