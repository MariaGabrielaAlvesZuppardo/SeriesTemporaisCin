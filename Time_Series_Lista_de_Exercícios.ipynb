{
  "nbformat": 4,
  "nbformat_minor": 0,
  "metadata": {
    "colab": {
      "provenance": [],
      "toc_visible": true,
      "authorship_tag": "ABX9TyN16Ti/XS561DIgiT73tYXq",
      "include_colab_link": true
    },
    "kernelspec": {
      "name": "python3",
      "display_name": "Python 3"
    },
    "language_info": {
      "name": "python"
    }
  },
  "cells": [
    {
      "cell_type": "markdown",
      "metadata": {
        "id": "view-in-github",
        "colab_type": "text"
      },
      "source": [
        "<a href=\"https://colab.research.google.com/github/MariaGabrielaAlvesZuppardo/SeriesTemporaisCin/blob/main/Time_Series_Lista_de_Exerc%C3%ADcios.ipynb\" target=\"_parent\"><img src=\"https://colab.research.google.com/assets/colab-badge.svg\" alt=\"Open In Colab\"/></a>"
      ]
    },
    {
      "cell_type": "markdown",
      "source": [
        "# Utils"
      ],
      "metadata": {
        "id": "eg_OLX4CZpLa"
      }
    },
    {
      "cell_type": "markdown",
      "source": [
        "## Data Loader"
      ],
      "metadata": {
        "id": "I13UK7Zf7NON"
      }
    },
    {
      "cell_type": "code",
      "source": [
        "!pip install yfinance"
      ],
      "metadata": {
        "colab": {
          "base_uri": "https://localhost:8080/"
        },
        "id": "N0kYP_yebcry",
        "outputId": "587e766d-cf55-4a95-947a-f6a1e15f950b"
      },
      "execution_count": 68,
      "outputs": [
        {
          "output_type": "stream",
          "name": "stdout",
          "text": [
            "Requirement already satisfied: yfinance in /usr/local/lib/python3.11/dist-packages (0.2.54)\n",
            "Requirement already satisfied: pandas>=1.3.0 in /usr/local/lib/python3.11/dist-packages (from yfinance) (2.2.2)\n",
            "Requirement already satisfied: numpy>=1.16.5 in /usr/local/lib/python3.11/dist-packages (from yfinance) (2.0.2)\n",
            "Requirement already satisfied: requests>=2.31 in /usr/local/lib/python3.11/dist-packages (from yfinance) (2.32.3)\n",
            "Requirement already satisfied: multitasking>=0.0.7 in /usr/local/lib/python3.11/dist-packages (from yfinance) (0.0.11)\n",
            "Requirement already satisfied: platformdirs>=2.0.0 in /usr/local/lib/python3.11/dist-packages (from yfinance) (4.3.6)\n",
            "Requirement already satisfied: pytz>=2022.5 in /usr/local/lib/python3.11/dist-packages (from yfinance) (2025.1)\n",
            "Requirement already satisfied: frozendict>=2.3.4 in /usr/local/lib/python3.11/dist-packages (from yfinance) (2.4.6)\n",
            "Requirement already satisfied: peewee>=3.16.2 in /usr/local/lib/python3.11/dist-packages (from yfinance) (3.17.9)\n",
            "Requirement already satisfied: beautifulsoup4>=4.11.1 in /usr/local/lib/python3.11/dist-packages (from yfinance) (4.13.3)\n",
            "Requirement already satisfied: soupsieve>1.2 in /usr/local/lib/python3.11/dist-packages (from beautifulsoup4>=4.11.1->yfinance) (2.6)\n",
            "Requirement already satisfied: typing-extensions>=4.0.0 in /usr/local/lib/python3.11/dist-packages (from beautifulsoup4>=4.11.1->yfinance) (4.12.2)\n",
            "Requirement already satisfied: python-dateutil>=2.8.2 in /usr/local/lib/python3.11/dist-packages (from pandas>=1.3.0->yfinance) (2.8.2)\n",
            "Requirement already satisfied: tzdata>=2022.7 in /usr/local/lib/python3.11/dist-packages (from pandas>=1.3.0->yfinance) (2025.1)\n",
            "Requirement already satisfied: charset-normalizer<4,>=2 in /usr/local/lib/python3.11/dist-packages (from requests>=2.31->yfinance) (3.4.1)\n",
            "Requirement already satisfied: idna<4,>=2.5 in /usr/local/lib/python3.11/dist-packages (from requests>=2.31->yfinance) (3.10)\n",
            "Requirement already satisfied: urllib3<3,>=1.21.1 in /usr/local/lib/python3.11/dist-packages (from requests>=2.31->yfinance) (2.3.0)\n",
            "Requirement already satisfied: certifi>=2017.4.17 in /usr/local/lib/python3.11/dist-packages (from requests>=2.31->yfinance) (2025.1.31)\n",
            "Requirement already satisfied: six>=1.5 in /usr/local/lib/python3.11/dist-packages (from python-dateutil>=2.8.2->pandas>=1.3.0->yfinance) (1.17.0)\n"
          ]
        }
      ]
    },
    {
      "cell_type": "code",
      "source": [
        "import pandas as pd\n",
        "import numpy as np\n",
        "from pandas import DataFrame\n",
        "from datetime import datetime\n",
        "from dateutil.relativedelta import relativedelta  # Para calcular data de um ano atrás\n",
        "from typing import Literal # Para anotação dos argumentos de funções\n",
        "\n",
        "class DataLoader:\n",
        "  '''\n",
        "  Esta classe carrega dos dados de precificação de ativos e os coloca em um\n",
        "  mesmo padrão a ser usado em todo o projeto, qual seja, um DataFrame com a\n",
        "  seguinte estrutura:\n",
        "    #   Column     Dtype            Descrição\n",
        "    ---  ------    -----            ---------\n",
        "    0   ds         datetime64[ns]   Data da observação\n",
        "    1   y          float64          Observação (variável alvo)\n",
        "    2   unique_id  str              Identificador da série temporal\n",
        "\n",
        "  '''\n",
        "  FREQ_VALUES = ['d', 'W','ME','Q','y']\n",
        "\n",
        "  @staticmethod\n",
        "  def stand(df: pd.DataFrame, symbol:str, col_ds='date', col_y='close', value_id=None) -> pd.DataFrame:\n",
        "    '''\n",
        "    Esta função padroniza o DataFrame para que fique\n",
        "    no formato esperado pelo restante deste notebook.\n",
        "    '''\n",
        "\n",
        "    # Garantir que \"date\" seja uma coluna normal\n",
        "    df = df.reset_index()\n",
        "    # Converter nomes das colunas para minúsculas\n",
        "    df.columns = df.columns.str.lower()\n",
        "    col_ds = col_ds.lower()\n",
        "    col_y = col_y.lower()\n",
        "    # Padronizando no nome das colunas\n",
        "    df.drop(columns=df.columns.difference([col_ds, col_y]), inplace=True)\n",
        "\n",
        "    df.rename(columns={col_ds: 'ds', col_y: 'y'}, inplace=True)\n",
        "\n",
        "    df['y'] = df['y'].astype(float)\n",
        "    # Converter a coluna 'ds' para datetime, caso não esteja nesse formato\n",
        "    df['ds'] = pd.to_datetime(df['ds'])\n",
        "\n",
        "    df['unique_id'] = symbol if value_id is None else value_id\n",
        "    # Convertendo a coluna 'coluna' para string\n",
        "    df['unique_id'] = df['unique_id'].astype(str)\n",
        "    return df\n",
        "\n",
        "\n",
        "  # Carregar dados a partir do sistema de arquivos\n",
        "  def from_csv(self, path, symbol='ativo', col_ds='ds', col_y='y', value_id='ativo', delimiter=',', decimal='.', dayfirst=False):\n",
        "      df = pd.read_csv(path, parse_dates=[col_ds], index_col=col_ds, delimiter=delimiter, decimal=decimal, dayfirst=dayfirst)\n",
        "      df = self.stand(df, symbol=symbol, col_ds=col_ds, col_y=col_y, value_id=value_id)\n",
        "\n",
        "      return df\n",
        "\n",
        "  # Carregar os dados a partir do Yahoo Finance.\n",
        "  class __YahooFinance:\n",
        "    @staticmethod\n",
        "    def get(symbol:str, start_date:datetime, end_date:datetime = None) -> DataFrame:\n",
        "      '''\n",
        "      Esta função carrega os dados diários de um ativo a partir do Yahoo Finance.\n",
        "      '''\n",
        "      import yfinance as yf\n",
        "      df = yf.download(tickers=symbol, start=start_date, end=end_date)\n",
        "      # Garantir que as colunas não sejam MultiIndex\n",
        "      if isinstance(df.columns, pd.MultiIndex):\n",
        "          # Remove o segundo nível do MultiIndex,\n",
        "          # pois ele contém apenas o símbolo do ativo,\n",
        "          # não acrescentando valor semântico aqui,\n",
        "          # já que só trabalhamos com um ativo por vez.\n",
        "          df = df.droplevel(1, axis=1)\n",
        "      # Remove o nome do MultiIndex (\"Price\")\n",
        "      df.columns.name = None\n",
        "\n",
        "      return df\n",
        "\n",
        "  def from_yahoo(self, symbol:str, start_date:datetime, end_date:datetime = None, col_y='close', value_id=None) -> DataFrame:\n",
        "    df = self.__YahooFinance.get(symbol=symbol, start_date=start_date, end_date = end_date)\n",
        "    df = self.stand(df, symbol=symbol, col_y=col_y, value_id=value_id)\n",
        "\n",
        "    return df\n",
        "\n",
        "\n",
        "  @staticmethod\n",
        "  def infer_freq(df:pd.DataFrame) -> str:\n",
        "    \"\"\"\n",
        "    Infere a frequência dos dados com base na diferença mais comum entre as datas.\n",
        "\n",
        "    Parâmetros:\n",
        "    df (pd.DataFrame): DataFrame contendo uma coluna de datas.\n",
        "\n",
        "    Retorna:\n",
        "    str: Frequência inferida ('d', 'W', 'ME', 'Q', 'y').\n",
        "\n",
        "    Lança:\n",
        "    ValueError: Se não for possível inferir a frequência.\n",
        "    \"\"\"\n",
        "    if 'y' not in df.columns:\n",
        "        raise ValueError(f\"A coluna 'y' não existe no DataFrame.\")\n",
        "\n",
        "    if 'ds' not in df.columns:\n",
        "        raise ValueError(f\"A coluna 'ds' não existe no DataFrame.\")\n",
        "\n",
        "    # Verifica se a coluna é do tipo datetime\n",
        "    if df['ds'].dtype != 'datetime64[ns]':\n",
        "        raise ValueError(f\"A coluna 'ds' não é do tipo datetime64: {df['ds'].dtype}\")\n",
        "\n",
        "    # Calcular a diferença entre datas consecutivas\n",
        "    dias = df['ds'].dropna().diff().mode()[0].days\n",
        "\n",
        "    if dias == 1:\n",
        "        return 'd'  # Diário\n",
        "    elif dias == 7:\n",
        "        return 'W'  # Semanal\n",
        "    elif dias in [28, 29, 30, 31]:  # Considerando variações mensais\n",
        "        return 'ME'  # Mensal\n",
        "    elif dias in [90, 91, 92, 93]:  # Considerando variações trimestrais\n",
        "        return 'Q'  # Trimestral\n",
        "    elif dias in [365, 366]:  # Considerando anos bissextos\n",
        "        return 'y'  # Anual\n",
        "    else:\n",
        "        raise ValueError(f\"Não foi possível inferir a frequência. Diferença mais comum: {dias} dias.\")\n",
        "\n",
        "  @staticmethod\n",
        "  def resample(df:pd.DataFrame, freq:Literal['d','W','ME','Q','y']) -> pd.DataFrame:\n",
        "\n",
        "    if freq not in  DataLoader.FREQ_VALUES:\n",
        "      raise Exception(f'Valor de freq ({freq}) inválido! Use um dos seguintes valores: {DataLoader.FREQ_VALUES}.')\n",
        "\n",
        "    df = df.copy()\n",
        "\n",
        "    # Inferindo a frequencia atual do dataframe.\n",
        "    actual_freq = DataLoader.infer_freq(df)\n",
        "\n",
        "    # Setando o índice e a frequência da coluna 'ds'.\n",
        "    df = df.set_index('ds').asfreq(actual_freq)\n",
        "\n",
        "    # Alterando o dataframe para a frequência solicitada.\n",
        "    df = df.resample(freq).last() #df.groupby(pd.Grouper(key='ds', freq=actual_freq))['y'].sum()\n",
        "\n",
        "    df = df.reset_index()\n",
        "\n",
        "    return df\n",
        "\n",
        "  @staticmethod\n",
        "  def find_target(df, col_y):\n",
        "    return next((col for col in df.columns if col == col_y or col.endswith('_'+col_y) or col.startswith(col_y+'_')))\n",
        "\n",
        "loader = DataLoader()"
      ],
      "metadata": {
        "id": "ZTvXEa8g7R0v"
      },
      "execution_count": 69,
      "outputs": []
    },
    {
      "cell_type": "code",
      "source": [
        "start_date = datetime(2010, 3, 18)\n",
        "end_date = datetime (2025, 3, 18)\n",
        "\n",
        "df =loader.from_yahoo(symbol='BTC-USD', start_date=start_date, end_date = end_date)\n",
        "df = loader.resample(df, freq='ME')"
      ],
      "metadata": {
        "id": "vml1rQU9-c00",
        "colab": {
          "base_uri": "https://localhost:8080/"
        },
        "outputId": "8b354a40-0f48-4b98-f17e-10f7506f14fc"
      },
      "execution_count": 70,
      "outputs": [
        {
          "output_type": "stream",
          "name": "stderr",
          "text": [
            "\r[*********************100%***********************]  1 of 1 completed\n"
          ]
        }
      ]
    },
    {
      "cell_type": "code",
      "source": [
        "df"
      ],
      "metadata": {
        "id": "eq_8245BqPil",
        "colab": {
          "base_uri": "https://localhost:8080/",
          "height": 424
        },
        "outputId": "0c9d1154-75cf-480f-d8d6-5dfbb6440a59"
      },
      "execution_count": 71,
      "outputs": [
        {
          "output_type": "execute_result",
          "data": {
            "text/plain": [
              "            ds              y unique_id\n",
              "0   2014-09-30     386.944000   BTC-USD\n",
              "1   2014-10-31     338.321014   BTC-USD\n",
              "2   2014-11-30     378.046997   BTC-USD\n",
              "3   2014-12-31     320.192993   BTC-USD\n",
              "4   2015-01-31     217.464005   BTC-USD\n",
              "..         ...            ...       ...\n",
              "122 2024-11-30   96449.054688   BTC-USD\n",
              "123 2024-12-31   93429.203125   BTC-USD\n",
              "124 2025-01-31  102405.023438   BTC-USD\n",
              "125 2025-02-28   84373.007812   BTC-USD\n",
              "126 2025-03-31   84075.687500   BTC-USD\n",
              "\n",
              "[127 rows x 3 columns]"
            ],
            "text/html": [
              "\n",
              "  <div id=\"df-015609da-16a9-42a1-98d9-17dbee746998\" class=\"colab-df-container\">\n",
              "    <div>\n",
              "<style scoped>\n",
              "    .dataframe tbody tr th:only-of-type {\n",
              "        vertical-align: middle;\n",
              "    }\n",
              "\n",
              "    .dataframe tbody tr th {\n",
              "        vertical-align: top;\n",
              "    }\n",
              "\n",
              "    .dataframe thead th {\n",
              "        text-align: right;\n",
              "    }\n",
              "</style>\n",
              "<table border=\"1\" class=\"dataframe\">\n",
              "  <thead>\n",
              "    <tr style=\"text-align: right;\">\n",
              "      <th></th>\n",
              "      <th>ds</th>\n",
              "      <th>y</th>\n",
              "      <th>unique_id</th>\n",
              "    </tr>\n",
              "  </thead>\n",
              "  <tbody>\n",
              "    <tr>\n",
              "      <th>0</th>\n",
              "      <td>2014-09-30</td>\n",
              "      <td>386.944000</td>\n",
              "      <td>BTC-USD</td>\n",
              "    </tr>\n",
              "    <tr>\n",
              "      <th>1</th>\n",
              "      <td>2014-10-31</td>\n",
              "      <td>338.321014</td>\n",
              "      <td>BTC-USD</td>\n",
              "    </tr>\n",
              "    <tr>\n",
              "      <th>2</th>\n",
              "      <td>2014-11-30</td>\n",
              "      <td>378.046997</td>\n",
              "      <td>BTC-USD</td>\n",
              "    </tr>\n",
              "    <tr>\n",
              "      <th>3</th>\n",
              "      <td>2014-12-31</td>\n",
              "      <td>320.192993</td>\n",
              "      <td>BTC-USD</td>\n",
              "    </tr>\n",
              "    <tr>\n",
              "      <th>4</th>\n",
              "      <td>2015-01-31</td>\n",
              "      <td>217.464005</td>\n",
              "      <td>BTC-USD</td>\n",
              "    </tr>\n",
              "    <tr>\n",
              "      <th>...</th>\n",
              "      <td>...</td>\n",
              "      <td>...</td>\n",
              "      <td>...</td>\n",
              "    </tr>\n",
              "    <tr>\n",
              "      <th>122</th>\n",
              "      <td>2024-11-30</td>\n",
              "      <td>96449.054688</td>\n",
              "      <td>BTC-USD</td>\n",
              "    </tr>\n",
              "    <tr>\n",
              "      <th>123</th>\n",
              "      <td>2024-12-31</td>\n",
              "      <td>93429.203125</td>\n",
              "      <td>BTC-USD</td>\n",
              "    </tr>\n",
              "    <tr>\n",
              "      <th>124</th>\n",
              "      <td>2025-01-31</td>\n",
              "      <td>102405.023438</td>\n",
              "      <td>BTC-USD</td>\n",
              "    </tr>\n",
              "    <tr>\n",
              "      <th>125</th>\n",
              "      <td>2025-02-28</td>\n",
              "      <td>84373.007812</td>\n",
              "      <td>BTC-USD</td>\n",
              "    </tr>\n",
              "    <tr>\n",
              "      <th>126</th>\n",
              "      <td>2025-03-31</td>\n",
              "      <td>84075.687500</td>\n",
              "      <td>BTC-USD</td>\n",
              "    </tr>\n",
              "  </tbody>\n",
              "</table>\n",
              "<p>127 rows × 3 columns</p>\n",
              "</div>\n",
              "    <div class=\"colab-df-buttons\">\n",
              "\n",
              "  <div class=\"colab-df-container\">\n",
              "    <button class=\"colab-df-convert\" onclick=\"convertToInteractive('df-015609da-16a9-42a1-98d9-17dbee746998')\"\n",
              "            title=\"Convert this dataframe to an interactive table.\"\n",
              "            style=\"display:none;\">\n",
              "\n",
              "  <svg xmlns=\"http://www.w3.org/2000/svg\" height=\"24px\" viewBox=\"0 -960 960 960\">\n",
              "    <path d=\"M120-120v-720h720v720H120Zm60-500h600v-160H180v160Zm220 220h160v-160H400v160Zm0 220h160v-160H400v160ZM180-400h160v-160H180v160Zm440 0h160v-160H620v160ZM180-180h160v-160H180v160Zm440 0h160v-160H620v160Z\"/>\n",
              "  </svg>\n",
              "    </button>\n",
              "\n",
              "  <style>\n",
              "    .colab-df-container {\n",
              "      display:flex;\n",
              "      gap: 12px;\n",
              "    }\n",
              "\n",
              "    .colab-df-convert {\n",
              "      background-color: #E8F0FE;\n",
              "      border: none;\n",
              "      border-radius: 50%;\n",
              "      cursor: pointer;\n",
              "      display: none;\n",
              "      fill: #1967D2;\n",
              "      height: 32px;\n",
              "      padding: 0 0 0 0;\n",
              "      width: 32px;\n",
              "    }\n",
              "\n",
              "    .colab-df-convert:hover {\n",
              "      background-color: #E2EBFA;\n",
              "      box-shadow: 0px 1px 2px rgba(60, 64, 67, 0.3), 0px 1px 3px 1px rgba(60, 64, 67, 0.15);\n",
              "      fill: #174EA6;\n",
              "    }\n",
              "\n",
              "    .colab-df-buttons div {\n",
              "      margin-bottom: 4px;\n",
              "    }\n",
              "\n",
              "    [theme=dark] .colab-df-convert {\n",
              "      background-color: #3B4455;\n",
              "      fill: #D2E3FC;\n",
              "    }\n",
              "\n",
              "    [theme=dark] .colab-df-convert:hover {\n",
              "      background-color: #434B5C;\n",
              "      box-shadow: 0px 1px 3px 1px rgba(0, 0, 0, 0.15);\n",
              "      filter: drop-shadow(0px 1px 2px rgba(0, 0, 0, 0.3));\n",
              "      fill: #FFFFFF;\n",
              "    }\n",
              "  </style>\n",
              "\n",
              "    <script>\n",
              "      const buttonEl =\n",
              "        document.querySelector('#df-015609da-16a9-42a1-98d9-17dbee746998 button.colab-df-convert');\n",
              "      buttonEl.style.display =\n",
              "        google.colab.kernel.accessAllowed ? 'block' : 'none';\n",
              "\n",
              "      async function convertToInteractive(key) {\n",
              "        const element = document.querySelector('#df-015609da-16a9-42a1-98d9-17dbee746998');\n",
              "        const dataTable =\n",
              "          await google.colab.kernel.invokeFunction('convertToInteractive',\n",
              "                                                    [key], {});\n",
              "        if (!dataTable) return;\n",
              "\n",
              "        const docLinkHtml = 'Like what you see? Visit the ' +\n",
              "          '<a target=\"_blank\" href=https://colab.research.google.com/notebooks/data_table.ipynb>data table notebook</a>'\n",
              "          + ' to learn more about interactive tables.';\n",
              "        element.innerHTML = '';\n",
              "        dataTable['output_type'] = 'display_data';\n",
              "        await google.colab.output.renderOutput(dataTable, element);\n",
              "        const docLink = document.createElement('div');\n",
              "        docLink.innerHTML = docLinkHtml;\n",
              "        element.appendChild(docLink);\n",
              "      }\n",
              "    </script>\n",
              "  </div>\n",
              "\n",
              "\n",
              "<div id=\"df-14bc6f54-23e8-4fac-9cbf-15a7bc9eeb5b\">\n",
              "  <button class=\"colab-df-quickchart\" onclick=\"quickchart('df-14bc6f54-23e8-4fac-9cbf-15a7bc9eeb5b')\"\n",
              "            title=\"Suggest charts\"\n",
              "            style=\"display:none;\">\n",
              "\n",
              "<svg xmlns=\"http://www.w3.org/2000/svg\" height=\"24px\"viewBox=\"0 0 24 24\"\n",
              "     width=\"24px\">\n",
              "    <g>\n",
              "        <path d=\"M19 3H5c-1.1 0-2 .9-2 2v14c0 1.1.9 2 2 2h14c1.1 0 2-.9 2-2V5c0-1.1-.9-2-2-2zM9 17H7v-7h2v7zm4 0h-2V7h2v10zm4 0h-2v-4h2v4z\"/>\n",
              "    </g>\n",
              "</svg>\n",
              "  </button>\n",
              "\n",
              "<style>\n",
              "  .colab-df-quickchart {\n",
              "      --bg-color: #E8F0FE;\n",
              "      --fill-color: #1967D2;\n",
              "      --hover-bg-color: #E2EBFA;\n",
              "      --hover-fill-color: #174EA6;\n",
              "      --disabled-fill-color: #AAA;\n",
              "      --disabled-bg-color: #DDD;\n",
              "  }\n",
              "\n",
              "  [theme=dark] .colab-df-quickchart {\n",
              "      --bg-color: #3B4455;\n",
              "      --fill-color: #D2E3FC;\n",
              "      --hover-bg-color: #434B5C;\n",
              "      --hover-fill-color: #FFFFFF;\n",
              "      --disabled-bg-color: #3B4455;\n",
              "      --disabled-fill-color: #666;\n",
              "  }\n",
              "\n",
              "  .colab-df-quickchart {\n",
              "    background-color: var(--bg-color);\n",
              "    border: none;\n",
              "    border-radius: 50%;\n",
              "    cursor: pointer;\n",
              "    display: none;\n",
              "    fill: var(--fill-color);\n",
              "    height: 32px;\n",
              "    padding: 0;\n",
              "    width: 32px;\n",
              "  }\n",
              "\n",
              "  .colab-df-quickchart:hover {\n",
              "    background-color: var(--hover-bg-color);\n",
              "    box-shadow: 0 1px 2px rgba(60, 64, 67, 0.3), 0 1px 3px 1px rgba(60, 64, 67, 0.15);\n",
              "    fill: var(--button-hover-fill-color);\n",
              "  }\n",
              "\n",
              "  .colab-df-quickchart-complete:disabled,\n",
              "  .colab-df-quickchart-complete:disabled:hover {\n",
              "    background-color: var(--disabled-bg-color);\n",
              "    fill: var(--disabled-fill-color);\n",
              "    box-shadow: none;\n",
              "  }\n",
              "\n",
              "  .colab-df-spinner {\n",
              "    border: 2px solid var(--fill-color);\n",
              "    border-color: transparent;\n",
              "    border-bottom-color: var(--fill-color);\n",
              "    animation:\n",
              "      spin 1s steps(1) infinite;\n",
              "  }\n",
              "\n",
              "  @keyframes spin {\n",
              "    0% {\n",
              "      border-color: transparent;\n",
              "      border-bottom-color: var(--fill-color);\n",
              "      border-left-color: var(--fill-color);\n",
              "    }\n",
              "    20% {\n",
              "      border-color: transparent;\n",
              "      border-left-color: var(--fill-color);\n",
              "      border-top-color: var(--fill-color);\n",
              "    }\n",
              "    30% {\n",
              "      border-color: transparent;\n",
              "      border-left-color: var(--fill-color);\n",
              "      border-top-color: var(--fill-color);\n",
              "      border-right-color: var(--fill-color);\n",
              "    }\n",
              "    40% {\n",
              "      border-color: transparent;\n",
              "      border-right-color: var(--fill-color);\n",
              "      border-top-color: var(--fill-color);\n",
              "    }\n",
              "    60% {\n",
              "      border-color: transparent;\n",
              "      border-right-color: var(--fill-color);\n",
              "    }\n",
              "    80% {\n",
              "      border-color: transparent;\n",
              "      border-right-color: var(--fill-color);\n",
              "      border-bottom-color: var(--fill-color);\n",
              "    }\n",
              "    90% {\n",
              "      border-color: transparent;\n",
              "      border-bottom-color: var(--fill-color);\n",
              "    }\n",
              "  }\n",
              "</style>\n",
              "\n",
              "  <script>\n",
              "    async function quickchart(key) {\n",
              "      const quickchartButtonEl =\n",
              "        document.querySelector('#' + key + ' button');\n",
              "      quickchartButtonEl.disabled = true;  // To prevent multiple clicks.\n",
              "      quickchartButtonEl.classList.add('colab-df-spinner');\n",
              "      try {\n",
              "        const charts = await google.colab.kernel.invokeFunction(\n",
              "            'suggestCharts', [key], {});\n",
              "      } catch (error) {\n",
              "        console.error('Error during call to suggestCharts:', error);\n",
              "      }\n",
              "      quickchartButtonEl.classList.remove('colab-df-spinner');\n",
              "      quickchartButtonEl.classList.add('colab-df-quickchart-complete');\n",
              "    }\n",
              "    (() => {\n",
              "      let quickchartButtonEl =\n",
              "        document.querySelector('#df-14bc6f54-23e8-4fac-9cbf-15a7bc9eeb5b button');\n",
              "      quickchartButtonEl.style.display =\n",
              "        google.colab.kernel.accessAllowed ? 'block' : 'none';\n",
              "    })();\n",
              "  </script>\n",
              "</div>\n",
              "\n",
              "  <div id=\"id_41531870-aa33-4b21-928f-54e356331887\">\n",
              "    <style>\n",
              "      .colab-df-generate {\n",
              "        background-color: #E8F0FE;\n",
              "        border: none;\n",
              "        border-radius: 50%;\n",
              "        cursor: pointer;\n",
              "        display: none;\n",
              "        fill: #1967D2;\n",
              "        height: 32px;\n",
              "        padding: 0 0 0 0;\n",
              "        width: 32px;\n",
              "      }\n",
              "\n",
              "      .colab-df-generate:hover {\n",
              "        background-color: #E2EBFA;\n",
              "        box-shadow: 0px 1px 2px rgba(60, 64, 67, 0.3), 0px 1px 3px 1px rgba(60, 64, 67, 0.15);\n",
              "        fill: #174EA6;\n",
              "      }\n",
              "\n",
              "      [theme=dark] .colab-df-generate {\n",
              "        background-color: #3B4455;\n",
              "        fill: #D2E3FC;\n",
              "      }\n",
              "\n",
              "      [theme=dark] .colab-df-generate:hover {\n",
              "        background-color: #434B5C;\n",
              "        box-shadow: 0px 1px 3px 1px rgba(0, 0, 0, 0.15);\n",
              "        filter: drop-shadow(0px 1px 2px rgba(0, 0, 0, 0.3));\n",
              "        fill: #FFFFFF;\n",
              "      }\n",
              "    </style>\n",
              "    <button class=\"colab-df-generate\" onclick=\"generateWithVariable('df')\"\n",
              "            title=\"Generate code using this dataframe.\"\n",
              "            style=\"display:none;\">\n",
              "\n",
              "  <svg xmlns=\"http://www.w3.org/2000/svg\" height=\"24px\"viewBox=\"0 0 24 24\"\n",
              "       width=\"24px\">\n",
              "    <path d=\"M7,19H8.4L18.45,9,17,7.55,7,17.6ZM5,21V16.75L18.45,3.32a2,2,0,0,1,2.83,0l1.4,1.43a1.91,1.91,0,0,1,.58,1.4,1.91,1.91,0,0,1-.58,1.4L9.25,21ZM18.45,9,17,7.55Zm-12,3A5.31,5.31,0,0,0,4.9,8.1,5.31,5.31,0,0,0,1,6.5,5.31,5.31,0,0,0,4.9,4.9,5.31,5.31,0,0,0,6.5,1,5.31,5.31,0,0,0,8.1,4.9,5.31,5.31,0,0,0,12,6.5,5.46,5.46,0,0,0,6.5,12Z\"/>\n",
              "  </svg>\n",
              "    </button>\n",
              "    <script>\n",
              "      (() => {\n",
              "      const buttonEl =\n",
              "        document.querySelector('#id_41531870-aa33-4b21-928f-54e356331887 button.colab-df-generate');\n",
              "      buttonEl.style.display =\n",
              "        google.colab.kernel.accessAllowed ? 'block' : 'none';\n",
              "\n",
              "      buttonEl.onclick = () => {\n",
              "        google.colab.notebook.generateWithVariable('df');\n",
              "      }\n",
              "      })();\n",
              "    </script>\n",
              "  </div>\n",
              "\n",
              "    </div>\n",
              "  </div>\n"
            ],
            "application/vnd.google.colaboratory.intrinsic+json": {
              "type": "dataframe",
              "variable_name": "df",
              "summary": "{\n  \"name\": \"df\",\n  \"rows\": 127,\n  \"fields\": [\n    {\n      \"column\": \"ds\",\n      \"properties\": {\n        \"dtype\": \"date\",\n        \"min\": \"2014-09-30 00:00:00\",\n        \"max\": \"2025-03-31 00:00:00\",\n        \"num_unique_values\": 127,\n        \"samples\": [\n          \"2016-11-30 00:00:00\",\n          \"2023-12-31 00:00:00\",\n          \"2021-06-30 00:00:00\"\n        ],\n        \"semantic_type\": \"\",\n        \"description\": \"\"\n      }\n    },\n    {\n      \"column\": \"y\",\n      \"properties\": {\n        \"dtype\": \"number\",\n        \"std\": 24696.40377471305,\n        \"min\": 217.46400451660156,\n        \"max\": 102405.0234375,\n        \"num_unique_values\": 127,\n        \"samples\": [\n          745.6909790039062,\n          42265.1875,\n          35040.8359375\n        ],\n        \"semantic_type\": \"\",\n        \"description\": \"\"\n      }\n    },\n    {\n      \"column\": \"unique_id\",\n      \"properties\": {\n        \"dtype\": \"category\",\n        \"num_unique_values\": 1,\n        \"samples\": [\n          \"BTC-USD\"\n        ],\n        \"semantic_type\": \"\",\n        \"description\": \"\"\n      }\n    }\n  ]\n}"
            }
          },
          "metadata": {},
          "execution_count": 71
        }
      ]
    },
    {
      "cell_type": "markdown",
      "source": [
        "## Train e Test"
      ],
      "metadata": {
        "id": "7bEQk5OyTmda"
      }
    },
    {
      "cell_type": "code",
      "source": [
        "df.sort_values(by='ds', ascending=True, inplace=True)\n",
        "size = int(len(df) * 0.7)\n",
        "train, test = df[0:size], df[size:len(df)]\n",
        "train['unique_id'] = 'train'\n",
        "test['unique_id'] = 'test'\n",
        "print(train.shape)\n",
        "print(test.shape)"
      ],
      "metadata": {
        "colab": {
          "base_uri": "https://localhost:8080/"
        },
        "id": "zDpcofmFTqAd",
        "outputId": "c09d4951-71eb-4b6f-9fab-85e09b76c32d"
      },
      "execution_count": 72,
      "outputs": [
        {
          "output_type": "stream",
          "name": "stdout",
          "text": [
            "(88, 3)\n",
            "(39, 3)\n"
          ]
        }
      ]
    },
    {
      "cell_type": "markdown",
      "source": [
        "## Plotter"
      ],
      "metadata": {
        "id": "3DA-oDTKZ-MD"
      }
    },
    {
      "cell_type": "code",
      "source": [
        "import pandas as pd\n",
        "import numpy as np\n",
        "import matplotlib.pyplot as plt\n",
        "\n",
        "class Plotter:\n",
        "  \"\"\"\n",
        "  Classe responsável por gerar gráficos de séries temporais utilizando Matplotlib e Plotly.\n",
        "\n",
        "  Métodos:\n",
        "  --------\n",
        "  - `plotly()`: Plota séries temporais interativas com Plotly, melhor de ver em desktops.\n",
        "  - `__stand()`: Padroniza a estrutura dos DataFrames.\n",
        "  \"\"\"\n",
        "\n",
        "\n",
        "  def plotly(self, dfs=[], title='Séries Temporais', col_ds='ds', col_y='y', colors=None):\n",
        "      \"\"\"\n",
        "      Plota múltiplas séries temporais utilizando Plotly.\n",
        "\n",
        "      Parâmetros:\n",
        "      -----------\n",
        "      dfs : list of pandas.DataFrame, opcional\n",
        "          Lista de pd.DataFrames ou pd.Series, contendo séries temporais. Cada elemento da lista\n",
        "          deve ter pelo menos duas colunas:\n",
        "          - Uma coluna representando a variável temporal (definida por `col_ds`).\n",
        "          - Uma coluna com os valores da série temporal (definida por `col_y`).\n",
        "      title (str): Título do gráfico. Padrão: 'Séries Temporais'.\n",
        "      col_ds (str): Nome da coluna com as datas. Padrão: 'ds'.\n",
        "      col_y (str): Nome da coluna com os valores numéricos. Padrão: 'y'.\n",
        "      colors : Lista de cores para diferenciar as séries temporais no gráfico. Se fornecida, cada série será atribuída\n",
        "        a uma cor da lista de forma cíclica. Caso contrário, cores padrão do Plotly serão usadas.\n",
        "      \"\"\"\n",
        "      import plotly.graph_objects as go\n",
        "\n",
        "      # Normaliza 'dfs' como DataFrames\n",
        "      dfs = self.__stand(dfs, col_ds=col_ds, col_y=col_y)\n",
        "      # Criando figura\n",
        "      fig = go.Figure()\n",
        "      # O comando a seguir percorre a lista dfs e adiciona\n",
        "      # a coluna 'unique_id' em cada um, caso ela não exista.\n",
        "      for i, df in enumerate(dfs, start=0):\n",
        "        #unique_id = df.get(col_unique_id, i)\n",
        "        #df[col_unique_id] = unique_id\n",
        "        # Obtém a cor da linha principal, se fornecida\n",
        "        color = colors[i % len(colors)] if colors else None\n",
        "\n",
        "        # Adiciona a linha principal da série\n",
        "        # Identificando o nome completo da coluna alvo\n",
        "        col_target = DataLoader.find_target(df, col_y)\n",
        "        fig.add_trace(go.Scatter(\n",
        "            x=df[col_ds], y=df[col_target],\n",
        "            mode=\"lines\", name=col_target, line=dict(width=1, color=color)\n",
        "        ))\n",
        "\n",
        "\n",
        "        # Intervalo de Confiança\n",
        "        col_upper=next((col for col in df.columns if '-hi-' in col),None)\n",
        "        col_lower= next((col for col in df.columns if '-lo-' in col),None)\n",
        "        # Se os dois extremos do intervalo de confiança foram definidos,\n",
        "        # adicione-o como uma faixa preenchida.\n",
        "        if (col_upper is not None and col_lower is not None):\n",
        "\n",
        "          # Definindo a cor da sobra do intervalo de confiança, a partir da cor da linha principal\n",
        "          shadow_color = None\n",
        "          if (color is not None):\n",
        "            from matplotlib import colors as mcolors\n",
        "            rgba = mcolors.to_rgba(color, alpha=0.2)  # Define opacidade de 20%\n",
        "            shadow_color = f'rgba({int(rgba[0]*255)}, {int(rgba[1]*255)}, {int(rgba[2]*255)}, {rgba[3]})'\n",
        "\n",
        "          fig.add_trace(go.Scatter(\n",
        "              x=df[col_ds], y=df[col_upper],\n",
        "              mode='lines', line=dict(width=0), # Linha invisível\n",
        "              showlegend=False\n",
        "          ))\n",
        "\n",
        "          fig.add_trace(go.Scatter(\n",
        "              x=df[col_ds], y=df[col_lower],\n",
        "              mode='lines', line=dict(width=0), # Linha invisível\n",
        "              fill='tonexty', fillcolor=shadow_color, # Sombra no tom da linha principal\n",
        "              showlegend=True, name=col_lower.replace('-lo-','_level_')\n",
        "          ))\n",
        "      # Ajustando legenda para o topo\n",
        "      fig.update_layout(margin=dict(l=10, r=10, t=50, b=50), legend_font_size=12)\n",
        "\n",
        "      fig.show()\n",
        "\n",
        "  def __stand(self, dfs, col_ds, col_y) -> pd.DataFrame:\n",
        "    \"\"\"\n",
        "    Padroniza a estrutura de dados fornecida.\n",
        "\n",
        "    Parâmetros:\n",
        "    -----------\n",
        "    dfs : list of pandas.DataFrame or list of pandas.Series\n",
        "    \"\"\"\n",
        "\n",
        "    for i, df in enumerate(dfs, start=1):\n",
        "      if isinstance(df, pd.Series):\n",
        "        #print(f'before to_frame() \\n {df}')\n",
        "        df = df.to_frame()\n",
        "        #print(f'after to_frame() \\n {df}')\n",
        "        dfs[i-1] = df\n",
        "      if not isinstance(df, pd.DataFrame):\n",
        "        raise Exception(f\"A variável dfs[{i-1}] não é do tipo DataFrame ou Series:\\n{print(type(dfs[i-1]))}\\n{dfs[i-1]}\")\n",
        "      df = df.reset_index()\n",
        "      dfs[i-1] = df\n",
        "\n",
        "      cols = [col for col in df.columns if col == col_y or col.endswith('_'+col_y) or col.startswith(col_y+'_')]\n",
        "      if len(cols)!=1:\n",
        "        raise Exception(f\"A variável dfs[{i-1}] não contém apenas uma coluna '{col_y}' ou '*-{col_y}':{df.columns}\\n{dfs[i-1]}\")\n",
        "      if col_ds not in df.columns:\n",
        "        raise Exception(f\"A variável dfs[{i-1}] não contém a coluna '{col_ds}':{df.columns}\\n{dfs[i-1]}\")\n",
        "\n",
        "    return dfs\n",
        "\n",
        "plotter=Plotter()"
      ],
      "metadata": {
        "id": "BEf3w84_Zo6D"
      },
      "execution_count": 73,
      "outputs": []
    },
    {
      "cell_type": "code",
      "source": [
        "plotter.plotly([train])"
      ],
      "metadata": {
        "colab": {
          "base_uri": "https://localhost:8080/",
          "height": 542
        },
        "id": "SKIyJ_X15Oy7",
        "outputId": "dcaaedac-6aa2-4024-d7b4-cf0690791258"
      },
      "execution_count": 74,
      "outputs": [
        {
          "output_type": "display_data",
          "data": {
            "text/html": [
              "<html>\n",
              "<head><meta charset=\"utf-8\" /></head>\n",
              "<body>\n",
              "    <div>            <script src=\"https://cdnjs.cloudflare.com/ajax/libs/mathjax/2.7.5/MathJax.js?config=TeX-AMS-MML_SVG\"></script><script type=\"text/javascript\">if (window.MathJax && window.MathJax.Hub && window.MathJax.Hub.Config) {window.MathJax.Hub.Config({SVG: {font: \"STIX-Web\"}});}</script>                <script type=\"text/javascript\">window.PlotlyConfig = {MathJaxConfig: 'local'};</script>\n",
              "        <script charset=\"utf-8\" src=\"https://cdn.plot.ly/plotly-2.35.2.min.js\"></script>                <div id=\"6ce92e96-28c6-4fe5-bb8f-d25161f275b9\" class=\"plotly-graph-div\" style=\"height:525px; width:100%;\"></div>            <script type=\"text/javascript\">                                    window.PLOTLYENV=window.PLOTLYENV || {};                                    if (document.getElementById(\"6ce92e96-28c6-4fe5-bb8f-d25161f275b9\")) {                    Plotly.newPlot(                        \"6ce92e96-28c6-4fe5-bb8f-d25161f275b9\",                        [{\"line\":{\"width\":1},\"mode\":\"lines\",\"name\":\"y\",\"x\":[\"2014-09-30T00:00:00\",\"2014-10-31T00:00:00\",\"2014-11-30T00:00:00\",\"2014-12-31T00:00:00\",\"2015-01-31T00:00:00\",\"2015-02-28T00:00:00\",\"2015-03-31T00:00:00\",\"2015-04-30T00:00:00\",\"2015-05-31T00:00:00\",\"2015-06-30T00:00:00\",\"2015-07-31T00:00:00\",\"2015-08-31T00:00:00\",\"2015-09-30T00:00:00\",\"2015-10-31T00:00:00\",\"2015-11-30T00:00:00\",\"2015-12-31T00:00:00\",\"2016-01-31T00:00:00\",\"2016-02-29T00:00:00\",\"2016-03-31T00:00:00\",\"2016-04-30T00:00:00\",\"2016-05-31T00:00:00\",\"2016-06-30T00:00:00\",\"2016-07-31T00:00:00\",\"2016-08-31T00:00:00\",\"2016-09-30T00:00:00\",\"2016-10-31T00:00:00\",\"2016-11-30T00:00:00\",\"2016-12-31T00:00:00\",\"2017-01-31T00:00:00\",\"2017-02-28T00:00:00\",\"2017-03-31T00:00:00\",\"2017-04-30T00:00:00\",\"2017-05-31T00:00:00\",\"2017-06-30T00:00:00\",\"2017-07-31T00:00:00\",\"2017-08-31T00:00:00\",\"2017-09-30T00:00:00\",\"2017-10-31T00:00:00\",\"2017-11-30T00:00:00\",\"2017-12-31T00:00:00\",\"2018-01-31T00:00:00\",\"2018-02-28T00:00:00\",\"2018-03-31T00:00:00\",\"2018-04-30T00:00:00\",\"2018-05-31T00:00:00\",\"2018-06-30T00:00:00\",\"2018-07-31T00:00:00\",\"2018-08-31T00:00:00\",\"2018-09-30T00:00:00\",\"2018-10-31T00:00:00\",\"2018-11-30T00:00:00\",\"2018-12-31T00:00:00\",\"2019-01-31T00:00:00\",\"2019-02-28T00:00:00\",\"2019-03-31T00:00:00\",\"2019-04-30T00:00:00\",\"2019-05-31T00:00:00\",\"2019-06-30T00:00:00\",\"2019-07-31T00:00:00\",\"2019-08-31T00:00:00\",\"2019-09-30T00:00:00\",\"2019-10-31T00:00:00\",\"2019-11-30T00:00:00\",\"2019-12-31T00:00:00\",\"2020-01-31T00:00:00\",\"2020-02-29T00:00:00\",\"2020-03-31T00:00:00\",\"2020-04-30T00:00:00\",\"2020-05-31T00:00:00\",\"2020-06-30T00:00:00\",\"2020-07-31T00:00:00\",\"2020-08-31T00:00:00\",\"2020-09-30T00:00:00\",\"2020-10-31T00:00:00\",\"2020-11-30T00:00:00\",\"2020-12-31T00:00:00\",\"2021-01-31T00:00:00\",\"2021-02-28T00:00:00\",\"2021-03-31T00:00:00\",\"2021-04-30T00:00:00\",\"2021-05-31T00:00:00\",\"2021-06-30T00:00:00\",\"2021-07-31T00:00:00\",\"2021-08-31T00:00:00\",\"2021-09-30T00:00:00\",\"2021-10-31T00:00:00\",\"2021-11-30T00:00:00\",\"2021-12-31T00:00:00\"],\"y\":[386.9440002441406,338.3210144042969,378.0469970703125,320.1929931640625,217.46400451660156,254.26300048828125,244.2239990234375,236.14500427246094,230.19000244140625,263.0719909667969,284.6499938964844,230.05599975585938,236.05999755859375,314.1659851074219,377.3210144042969,430.5669860839844,368.7669982910156,437.6969909667969,416.72900390625,448.3179931640625,531.385986328125,673.3369750976562,624.6810302734375,575.4719848632812,609.7349853515625,700.9719848632812,745.6909790039062,963.7429809570312,970.4030151367188,1179.969970703125,1071.7900390625,1347.8900146484375,2286.409912109375,2480.840087890625,2875.340087890625,4703.39013671875,4338.7099609375,6468.39990234375,10233.599609375,14156.400390625,10221.099609375,10397.900390625,6973.52978515625,9240.5498046875,7494.169921875,6404.0,7780.43994140625,7037.580078125,6625.56005859375,6317.60986328125,4017.2685546875,3742.700439453125,3457.792724609375,3854.785400390625,4105.404296875,5350.7265625,8574.501953125,10817.1552734375,10085.6279296875,9630.6640625,8293.8681640625,9199.5849609375,7569.6298828125,7193.59912109375,9350.529296875,8599.5087890625,6438.64453125,8658.5537109375,9461.05859375,9137.9931640625,11323.466796875,11680.8203125,10784.4912109375,13780.9951171875,19625.8359375,29001.720703125,33114.359375,45137.76953125,58918.83203125,57750.17578125,37332.85546875,35040.8359375,41626.1953125,47166.6875,43790.89453125,61318.95703125,57005.42578125,46306.4453125],\"type\":\"scatter\"}],                        {\"template\":{\"data\":{\"histogram2dcontour\":[{\"type\":\"histogram2dcontour\",\"colorbar\":{\"outlinewidth\":0,\"ticks\":\"\"},\"colorscale\":[[0.0,\"#0d0887\"],[0.1111111111111111,\"#46039f\"],[0.2222222222222222,\"#7201a8\"],[0.3333333333333333,\"#9c179e\"],[0.4444444444444444,\"#bd3786\"],[0.5555555555555556,\"#d8576b\"],[0.6666666666666666,\"#ed7953\"],[0.7777777777777778,\"#fb9f3a\"],[0.8888888888888888,\"#fdca26\"],[1.0,\"#f0f921\"]]}],\"choropleth\":[{\"type\":\"choropleth\",\"colorbar\":{\"outlinewidth\":0,\"ticks\":\"\"}}],\"histogram2d\":[{\"type\":\"histogram2d\",\"colorbar\":{\"outlinewidth\":0,\"ticks\":\"\"},\"colorscale\":[[0.0,\"#0d0887\"],[0.1111111111111111,\"#46039f\"],[0.2222222222222222,\"#7201a8\"],[0.3333333333333333,\"#9c179e\"],[0.4444444444444444,\"#bd3786\"],[0.5555555555555556,\"#d8576b\"],[0.6666666666666666,\"#ed7953\"],[0.7777777777777778,\"#fb9f3a\"],[0.8888888888888888,\"#fdca26\"],[1.0,\"#f0f921\"]]}],\"heatmap\":[{\"type\":\"heatmap\",\"colorbar\":{\"outlinewidth\":0,\"ticks\":\"\"},\"colorscale\":[[0.0,\"#0d0887\"],[0.1111111111111111,\"#46039f\"],[0.2222222222222222,\"#7201a8\"],[0.3333333333333333,\"#9c179e\"],[0.4444444444444444,\"#bd3786\"],[0.5555555555555556,\"#d8576b\"],[0.6666666666666666,\"#ed7953\"],[0.7777777777777778,\"#fb9f3a\"],[0.8888888888888888,\"#fdca26\"],[1.0,\"#f0f921\"]]}],\"heatmapgl\":[{\"type\":\"heatmapgl\",\"colorbar\":{\"outlinewidth\":0,\"ticks\":\"\"},\"colorscale\":[[0.0,\"#0d0887\"],[0.1111111111111111,\"#46039f\"],[0.2222222222222222,\"#7201a8\"],[0.3333333333333333,\"#9c179e\"],[0.4444444444444444,\"#bd3786\"],[0.5555555555555556,\"#d8576b\"],[0.6666666666666666,\"#ed7953\"],[0.7777777777777778,\"#fb9f3a\"],[0.8888888888888888,\"#fdca26\"],[1.0,\"#f0f921\"]]}],\"contourcarpet\":[{\"type\":\"contourcarpet\",\"colorbar\":{\"outlinewidth\":0,\"ticks\":\"\"}}],\"contour\":[{\"type\":\"contour\",\"colorbar\":{\"outlinewidth\":0,\"ticks\":\"\"},\"colorscale\":[[0.0,\"#0d0887\"],[0.1111111111111111,\"#46039f\"],[0.2222222222222222,\"#7201a8\"],[0.3333333333333333,\"#9c179e\"],[0.4444444444444444,\"#bd3786\"],[0.5555555555555556,\"#d8576b\"],[0.6666666666666666,\"#ed7953\"],[0.7777777777777778,\"#fb9f3a\"],[0.8888888888888888,\"#fdca26\"],[1.0,\"#f0f921\"]]}],\"surface\":[{\"type\":\"surface\",\"colorbar\":{\"outlinewidth\":0,\"ticks\":\"\"},\"colorscale\":[[0.0,\"#0d0887\"],[0.1111111111111111,\"#46039f\"],[0.2222222222222222,\"#7201a8\"],[0.3333333333333333,\"#9c179e\"],[0.4444444444444444,\"#bd3786\"],[0.5555555555555556,\"#d8576b\"],[0.6666666666666666,\"#ed7953\"],[0.7777777777777778,\"#fb9f3a\"],[0.8888888888888888,\"#fdca26\"],[1.0,\"#f0f921\"]]}],\"mesh3d\":[{\"type\":\"mesh3d\",\"colorbar\":{\"outlinewidth\":0,\"ticks\":\"\"}}],\"scatter\":[{\"fillpattern\":{\"fillmode\":\"overlay\",\"size\":10,\"solidity\":0.2},\"type\":\"scatter\"}],\"parcoords\":[{\"type\":\"parcoords\",\"line\":{\"colorbar\":{\"outlinewidth\":0,\"ticks\":\"\"}}}],\"scatterpolargl\":[{\"type\":\"scatterpolargl\",\"marker\":{\"colorbar\":{\"outlinewidth\":0,\"ticks\":\"\"}}}],\"bar\":[{\"error_x\":{\"color\":\"#2a3f5f\"},\"error_y\":{\"color\":\"#2a3f5f\"},\"marker\":{\"line\":{\"color\":\"#E5ECF6\",\"width\":0.5},\"pattern\":{\"fillmode\":\"overlay\",\"size\":10,\"solidity\":0.2}},\"type\":\"bar\"}],\"scattergeo\":[{\"type\":\"scattergeo\",\"marker\":{\"colorbar\":{\"outlinewidth\":0,\"ticks\":\"\"}}}],\"scatterpolar\":[{\"type\":\"scatterpolar\",\"marker\":{\"colorbar\":{\"outlinewidth\":0,\"ticks\":\"\"}}}],\"histogram\":[{\"marker\":{\"pattern\":{\"fillmode\":\"overlay\",\"size\":10,\"solidity\":0.2}},\"type\":\"histogram\"}],\"scattergl\":[{\"type\":\"scattergl\",\"marker\":{\"colorbar\":{\"outlinewidth\":0,\"ticks\":\"\"}}}],\"scatter3d\":[{\"type\":\"scatter3d\",\"line\":{\"colorbar\":{\"outlinewidth\":0,\"ticks\":\"\"}},\"marker\":{\"colorbar\":{\"outlinewidth\":0,\"ticks\":\"\"}}}],\"scattermapbox\":[{\"type\":\"scattermapbox\",\"marker\":{\"colorbar\":{\"outlinewidth\":0,\"ticks\":\"\"}}}],\"scatterternary\":[{\"type\":\"scatterternary\",\"marker\":{\"colorbar\":{\"outlinewidth\":0,\"ticks\":\"\"}}}],\"scattercarpet\":[{\"type\":\"scattercarpet\",\"marker\":{\"colorbar\":{\"outlinewidth\":0,\"ticks\":\"\"}}}],\"carpet\":[{\"aaxis\":{\"endlinecolor\":\"#2a3f5f\",\"gridcolor\":\"white\",\"linecolor\":\"white\",\"minorgridcolor\":\"white\",\"startlinecolor\":\"#2a3f5f\"},\"baxis\":{\"endlinecolor\":\"#2a3f5f\",\"gridcolor\":\"white\",\"linecolor\":\"white\",\"minorgridcolor\":\"white\",\"startlinecolor\":\"#2a3f5f\"},\"type\":\"carpet\"}],\"table\":[{\"cells\":{\"fill\":{\"color\":\"#EBF0F8\"},\"line\":{\"color\":\"white\"}},\"header\":{\"fill\":{\"color\":\"#C8D4E3\"},\"line\":{\"color\":\"white\"}},\"type\":\"table\"}],\"barpolar\":[{\"marker\":{\"line\":{\"color\":\"#E5ECF6\",\"width\":0.5},\"pattern\":{\"fillmode\":\"overlay\",\"size\":10,\"solidity\":0.2}},\"type\":\"barpolar\"}],\"pie\":[{\"automargin\":true,\"type\":\"pie\"}]},\"layout\":{\"autotypenumbers\":\"strict\",\"colorway\":[\"#636efa\",\"#EF553B\",\"#00cc96\",\"#ab63fa\",\"#FFA15A\",\"#19d3f3\",\"#FF6692\",\"#B6E880\",\"#FF97FF\",\"#FECB52\"],\"font\":{\"color\":\"#2a3f5f\"},\"hovermode\":\"closest\",\"hoverlabel\":{\"align\":\"left\"},\"paper_bgcolor\":\"white\",\"plot_bgcolor\":\"#E5ECF6\",\"polar\":{\"bgcolor\":\"#E5ECF6\",\"angularaxis\":{\"gridcolor\":\"white\",\"linecolor\":\"white\",\"ticks\":\"\"},\"radialaxis\":{\"gridcolor\":\"white\",\"linecolor\":\"white\",\"ticks\":\"\"}},\"ternary\":{\"bgcolor\":\"#E5ECF6\",\"aaxis\":{\"gridcolor\":\"white\",\"linecolor\":\"white\",\"ticks\":\"\"},\"baxis\":{\"gridcolor\":\"white\",\"linecolor\":\"white\",\"ticks\":\"\"},\"caxis\":{\"gridcolor\":\"white\",\"linecolor\":\"white\",\"ticks\":\"\"}},\"coloraxis\":{\"colorbar\":{\"outlinewidth\":0,\"ticks\":\"\"}},\"colorscale\":{\"sequential\":[[0.0,\"#0d0887\"],[0.1111111111111111,\"#46039f\"],[0.2222222222222222,\"#7201a8\"],[0.3333333333333333,\"#9c179e\"],[0.4444444444444444,\"#bd3786\"],[0.5555555555555556,\"#d8576b\"],[0.6666666666666666,\"#ed7953\"],[0.7777777777777778,\"#fb9f3a\"],[0.8888888888888888,\"#fdca26\"],[1.0,\"#f0f921\"]],\"sequentialminus\":[[0.0,\"#0d0887\"],[0.1111111111111111,\"#46039f\"],[0.2222222222222222,\"#7201a8\"],[0.3333333333333333,\"#9c179e\"],[0.4444444444444444,\"#bd3786\"],[0.5555555555555556,\"#d8576b\"],[0.6666666666666666,\"#ed7953\"],[0.7777777777777778,\"#fb9f3a\"],[0.8888888888888888,\"#fdca26\"],[1.0,\"#f0f921\"]],\"diverging\":[[0,\"#8e0152\"],[0.1,\"#c51b7d\"],[0.2,\"#de77ae\"],[0.3,\"#f1b6da\"],[0.4,\"#fde0ef\"],[0.5,\"#f7f7f7\"],[0.6,\"#e6f5d0\"],[0.7,\"#b8e186\"],[0.8,\"#7fbc41\"],[0.9,\"#4d9221\"],[1,\"#276419\"]]},\"xaxis\":{\"gridcolor\":\"white\",\"linecolor\":\"white\",\"ticks\":\"\",\"title\":{\"standoff\":15},\"zerolinecolor\":\"white\",\"automargin\":true,\"zerolinewidth\":2},\"yaxis\":{\"gridcolor\":\"white\",\"linecolor\":\"white\",\"ticks\":\"\",\"title\":{\"standoff\":15},\"zerolinecolor\":\"white\",\"automargin\":true,\"zerolinewidth\":2},\"scene\":{\"xaxis\":{\"backgroundcolor\":\"#E5ECF6\",\"gridcolor\":\"white\",\"linecolor\":\"white\",\"showbackground\":true,\"ticks\":\"\",\"zerolinecolor\":\"white\",\"gridwidth\":2},\"yaxis\":{\"backgroundcolor\":\"#E5ECF6\",\"gridcolor\":\"white\",\"linecolor\":\"white\",\"showbackground\":true,\"ticks\":\"\",\"zerolinecolor\":\"white\",\"gridwidth\":2},\"zaxis\":{\"backgroundcolor\":\"#E5ECF6\",\"gridcolor\":\"white\",\"linecolor\":\"white\",\"showbackground\":true,\"ticks\":\"\",\"zerolinecolor\":\"white\",\"gridwidth\":2}},\"shapedefaults\":{\"line\":{\"color\":\"#2a3f5f\"}},\"annotationdefaults\":{\"arrowcolor\":\"#2a3f5f\",\"arrowhead\":0,\"arrowwidth\":1},\"geo\":{\"bgcolor\":\"white\",\"landcolor\":\"#E5ECF6\",\"subunitcolor\":\"white\",\"showland\":true,\"showlakes\":true,\"lakecolor\":\"white\"},\"title\":{\"x\":0.05},\"mapbox\":{\"style\":\"light\"}}},\"margin\":{\"l\":10,\"r\":10,\"t\":50,\"b\":50},\"legend\":{\"font\":{\"size\":12}}},                        {\"responsive\": true}                    ).then(function(){\n",
              "                            \n",
              "var gd = document.getElementById('6ce92e96-28c6-4fe5-bb8f-d25161f275b9');\n",
              "var x = new MutationObserver(function (mutations, observer) {{\n",
              "        var display = window.getComputedStyle(gd).display;\n",
              "        if (!display || display === 'none') {{\n",
              "            console.log([gd, 'removed!']);\n",
              "            Plotly.purge(gd);\n",
              "            observer.disconnect();\n",
              "        }}\n",
              "}});\n",
              "\n",
              "// Listen for the removal of the full notebook cells\n",
              "var notebookContainer = gd.closest('#notebook-container');\n",
              "if (notebookContainer) {{\n",
              "    x.observe(notebookContainer, {childList: true});\n",
              "}}\n",
              "\n",
              "// Listen for the clearing of the current output cell\n",
              "var outputEl = gd.closest('.output');\n",
              "if (outputEl) {{\n",
              "    x.observe(outputEl, {childList: true});\n",
              "}}\n",
              "\n",
              "                        })                };                            </script>        </div>\n",
              "</body>\n",
              "</html>"
            ]
          },
          "metadata": {}
        }
      ]
    },
    {
      "cell_type": "markdown",
      "source": [
        "# Correlation"
      ],
      "metadata": {
        "id": "WyncyLM5rf6Y"
      }
    },
    {
      "cell_type": "code",
      "source": [
        "!pip install pmdarima statsmodels scikit-learn"
      ],
      "metadata": {
        "colab": {
          "base_uri": "https://localhost:8080/"
        },
        "id": "qZ6zBdJJbSDD",
        "outputId": "56533e65-1623-4eaa-9a86-88553bde7610"
      },
      "execution_count": 75,
      "outputs": [
        {
          "output_type": "stream",
          "name": "stdout",
          "text": [
            "Requirement already satisfied: pmdarima in /usr/local/lib/python3.11/dist-packages (2.0.4)\n",
            "Requirement already satisfied: statsmodels in /usr/local/lib/python3.11/dist-packages (0.14.4)\n",
            "Requirement already satisfied: scikit-learn in /usr/local/lib/python3.11/dist-packages (1.6.1)\n",
            "Requirement already satisfied: joblib>=0.11 in /usr/local/lib/python3.11/dist-packages (from pmdarima) (1.4.2)\n",
            "Requirement already satisfied: Cython!=0.29.18,!=0.29.31,>=0.29 in /usr/local/lib/python3.11/dist-packages (from pmdarima) (3.0.12)\n",
            "Requirement already satisfied: numpy>=1.21.2 in /usr/local/lib/python3.11/dist-packages (from pmdarima) (2.0.2)\n",
            "Requirement already satisfied: pandas>=0.19 in /usr/local/lib/python3.11/dist-packages (from pmdarima) (2.2.2)\n",
            "Requirement already satisfied: scipy>=1.3.2 in /usr/local/lib/python3.11/dist-packages (from pmdarima) (1.14.1)\n",
            "Requirement already satisfied: urllib3 in /usr/local/lib/python3.11/dist-packages (from pmdarima) (2.3.0)\n",
            "Requirement already satisfied: setuptools!=50.0.0,>=38.6.0 in /usr/local/lib/python3.11/dist-packages (from pmdarima) (75.1.0)\n",
            "Requirement already satisfied: packaging>=17.1 in /usr/local/lib/python3.11/dist-packages (from pmdarima) (24.2)\n",
            "Requirement already satisfied: patsy>=0.5.6 in /usr/local/lib/python3.11/dist-packages (from statsmodels) (1.0.1)\n",
            "Requirement already satisfied: threadpoolctl>=3.1.0 in /usr/local/lib/python3.11/dist-packages (from scikit-learn) (3.6.0)\n",
            "Requirement already satisfied: python-dateutil>=2.8.2 in /usr/local/lib/python3.11/dist-packages (from pandas>=0.19->pmdarima) (2.8.2)\n",
            "Requirement already satisfied: pytz>=2020.1 in /usr/local/lib/python3.11/dist-packages (from pandas>=0.19->pmdarima) (2025.1)\n",
            "Requirement already satisfied: tzdata>=2022.7 in /usr/local/lib/python3.11/dist-packages (from pandas>=0.19->pmdarima) (2025.1)\n",
            "Requirement already satisfied: six>=1.5 in /usr/local/lib/python3.11/dist-packages (from python-dateutil>=2.8.2->pandas>=0.19->pmdarima) (1.17.0)\n"
          ]
        }
      ]
    },
    {
      "cell_type": "code",
      "source": [
        "from statsmodels.graphics.tsaplots import plot_acf, plot_pacf\n",
        "plot_acf(train['y'])\n",
        "plot_pacf(train['y'])"
      ],
      "metadata": {
        "colab": {
          "base_uri": "https://localhost:8080/",
          "height": 1000
        },
        "id": "CyXFAGhXyPvH",
        "outputId": "91d9f53d-c3fb-49a1-d98a-63bf4dab38a4"
      },
      "execution_count": 76,
      "outputs": [
        {
          "output_type": "execute_result",
          "data": {
            "text/plain": [
              "<Figure size 640x480 with 1 Axes>"
            ],
            "image/png": "[encoded data removed]"
          },
          "metadata": {},
          "execution_count": 76
        },
        {
          "output_type": "display_data",
          "data": {
            "text/plain": [
              "<Figure size 640x480 with 1 Axes>"
            ],
            "image/png": "[encoded data removed]"
          },
          "metadata": {}
        },
        {
          "output_type": "display_data",
          "data": {
            "text/plain": [
              "<Figure size 640x480 with 1 Axes>"
            ],
            "image/png": "[encoded data removed]"
          },
          "metadata": {}
        }
      ]
    },
    {
      "cell_type": "markdown",
      "source": [
        "# Diferenciações"
      ],
      "metadata": {
        "id": "MRwTDT-ej_bK"
      }
    },
    {
      "cell_type": "code",
      "source": [
        "diff1 = train['y'].diff(1).dropna()\n",
        "diff1\n"
      ],
      "metadata": {
        "colab": {
          "base_uri": "https://localhost:8080/",
          "height": 458
        },
        "id": "MORcKbYvjqXV",
        "outputId": "9696aa3d-792a-42d1-f9d9-8bf2f527dc7e"
      },
      "execution_count": 77,
      "outputs": [
        {
          "output_type": "execute_result",
          "data": {
            "text/plain": [
              "1       -48.622986\n",
              "2        39.725983\n",
              "3       -57.854004\n",
              "4      -102.728989\n",
              "5        36.798996\n",
              "          ...     \n",
              "83     5540.492188\n",
              "84    -3375.792969\n",
              "85    17528.062500\n",
              "86    -4313.531250\n",
              "87   -10698.980469\n",
              "Name: y, Length: 87, dtype: float64"
            ],
            "text/html": [
              "<div>\n",
              "<style scoped>\n",
              "    .dataframe tbody tr th:only-of-type {\n",
              "        vertical-align: middle;\n",
              "    }\n",
              "\n",
              "    .dataframe tbody tr th {\n",
              "        vertical-align: top;\n",
              "    }\n",
              "\n",
              "    .dataframe thead th {\n",
              "        text-align: right;\n",
              "    }\n",
              "</style>\n",
              "<table border=\"1\" class=\"dataframe\">\n",
              "  <thead>\n",
              "    <tr style=\"text-align: right;\">\n",
              "      <th></th>\n",
              "      <th>y</th>\n",
              "    </tr>\n",
              "  </thead>\n",
              "  <tbody>\n",
              "    <tr>\n",
              "      <th>1</th>\n",
              "      <td>-48.622986</td>\n",
              "    </tr>\n",
              "    <tr>\n",
              "      <th>2</th>\n",
              "      <td>39.725983</td>\n",
              "    </tr>\n",
              "    <tr>\n",
              "      <th>3</th>\n",
              "      <td>-57.854004</td>\n",
              "    </tr>\n",
              "    <tr>\n",
              "      <th>4</th>\n",
              "      <td>-102.728989</td>\n",
              "    </tr>\n",
              "    <tr>\n",
              "      <th>5</th>\n",
              "      <td>36.798996</td>\n",
              "    </tr>\n",
              "    <tr>\n",
              "      <th>...</th>\n",
              "      <td>...</td>\n",
              "    </tr>\n",
              "    <tr>\n",
              "      <th>83</th>\n",
              "      <td>5540.492188</td>\n",
              "    </tr>\n",
              "    <tr>\n",
              "      <th>84</th>\n",
              "      <td>-3375.792969</td>\n",
              "    </tr>\n",
              "    <tr>\n",
              "      <th>85</th>\n",
              "      <td>17528.062500</td>\n",
              "    </tr>\n",
              "    <tr>\n",
              "      <th>86</th>\n",
              "      <td>-4313.531250</td>\n",
              "    </tr>\n",
              "    <tr>\n",
              "      <th>87</th>\n",
              "      <td>-10698.980469</td>\n",
              "    </tr>\n",
              "  </tbody>\n",
              "</table>\n",
              "<p>87 rows × 1 columns</p>\n",
              "</div><br><label><b>dtype:</b> float64</label>"
            ]
          },
          "metadata": {},
          "execution_count": 77
        }
      ]
    },
    {
      "cell_type": "code",
      "source": [
        "plot_acf(diff1, title='1a Diferenciação')"
      ],
      "metadata": {
        "colab": {
          "base_uri": "https://localhost:8080/",
          "height": 887
        },
        "id": "oxopCYwmkSdi",
        "outputId": "8409a5d6-c998-441e-c65b-51747fe74afa"
      },
      "execution_count": 78,
      "outputs": [
        {
          "output_type": "execute_result",
          "data": {
            "text/plain": [
              "<Figure size 640x480 with 1 Axes>"
            ],
            "image/png": "[encoded data removed]"
          },
          "metadata": {},
          "execution_count": 78
        },
        {
          "output_type": "display_data",
          "data": {
            "text/plain": [
              "<Figure size 640x480 with 1 Axes>"
            ],
            "image/png": "[encoded data removed]"
          },
          "metadata": {}
        }
      ]
    },
    {
      "cell_type": "code",
      "source": [
        "diff2 = diff1.diff(1).dropna()\n",
        "diff2\n"
      ],
      "metadata": {
        "colab": {
          "base_uri": "https://localhost:8080/",
          "height": 458
        },
        "id": "ziU8BlBwEMfD",
        "outputId": "b836cdcb-1b94-4550-d830-2d69b8690aca"
      },
      "execution_count": 79,
      "outputs": [
        {
          "output_type": "execute_result",
          "data": {
            "text/plain": [
              "2        88.348969\n",
              "3       -97.579987\n",
              "4       -44.874985\n",
              "5       139.527985\n",
              "6       -46.837997\n",
              "          ...     \n",
              "83    -1044.867188\n",
              "84    -8916.285156\n",
              "85    20903.855469\n",
              "86   -21841.593750\n",
              "87    -6385.449219\n",
              "Name: y, Length: 86, dtype: float64"
            ],
            "text/html": [
              "<div>\n",
              "<style scoped>\n",
              "    .dataframe tbody tr th:only-of-type {\n",
              "        vertical-align: middle;\n",
              "    }\n",
              "\n",
              "    .dataframe tbody tr th {\n",
              "        vertical-align: top;\n",
              "    }\n",
              "\n",
              "    .dataframe thead th {\n",
              "        text-align: right;\n",
              "    }\n",
              "</style>\n",
              "<table border=\"1\" class=\"dataframe\">\n",
              "  <thead>\n",
              "    <tr style=\"text-align: right;\">\n",
              "      <th></th>\n",
              "      <th>y</th>\n",
              "    </tr>\n",
              "  </thead>\n",
              "  <tbody>\n",
              "    <tr>\n",
              "      <th>2</th>\n",
              "      <td>88.348969</td>\n",
              "    </tr>\n",
              "    <tr>\n",
              "      <th>3</th>\n",
              "      <td>-97.579987</td>\n",
              "    </tr>\n",
              "    <tr>\n",
              "      <th>4</th>\n",
              "      <td>-44.874985</td>\n",
              "    </tr>\n",
              "    <tr>\n",
              "      <th>5</th>\n",
              "      <td>139.527985</td>\n",
              "    </tr>\n",
              "    <tr>\n",
              "      <th>6</th>\n",
              "      <td>-46.837997</td>\n",
              "    </tr>\n",
              "    <tr>\n",
              "      <th>...</th>\n",
              "      <td>...</td>\n",
              "    </tr>\n",
              "    <tr>\n",
              "      <th>83</th>\n",
              "      <td>-1044.867188</td>\n",
              "    </tr>\n",
              "    <tr>\n",
              "      <th>84</th>\n",
              "      <td>-8916.285156</td>\n",
              "    </tr>\n",
              "    <tr>\n",
              "      <th>85</th>\n",
              "      <td>20903.855469</td>\n",
              "    </tr>\n",
              "    <tr>\n",
              "      <th>86</th>\n",
              "      <td>-21841.593750</td>\n",
              "    </tr>\n",
              "    <tr>\n",
              "      <th>87</th>\n",
              "      <td>-6385.449219</td>\n",
              "    </tr>\n",
              "  </tbody>\n",
              "</table>\n",
              "<p>86 rows × 1 columns</p>\n",
              "</div><br><label><b>dtype:</b> float64</label>"
            ]
          },
          "metadata": {},
          "execution_count": 79
        }
      ]
    },
    {
      "cell_type": "code",
      "source": [
        "plot_acf(diff2, title='2a Diferenciação')"
      ],
      "metadata": {
        "colab": {
          "base_uri": "https://localhost:8080/",
          "height": 887
        },
        "id": "kGq3IzXEEMQd",
        "outputId": "1c01f66b-74bd-4253-916c-e609b7ef2eb8"
      },
      "execution_count": 80,
      "outputs": [
        {
          "output_type": "execute_result",
          "data": {
            "text/plain": [
              "<Figure size 640x480 with 1 Axes>"
            ],
            "image/png": "[encoded data removed]"
          },
          "metadata": {},
          "execution_count": 80
        },
        {
          "output_type": "display_data",
          "data": {
            "text/plain": [
              "<Figure size 640x480 with 1 Axes>"
            ],
            "image/png": "[encoded data removed]"
          },
          "metadata": {}
        }
      ]
    },
    {
      "cell_type": "markdown",
      "source": [
        "# Análise\n",
        "A análise dos gráficos sugere os seguintes hiperparâmetros:"
      ],
      "metadata": {
        "id": "OE8xkQhM_buV"
      }
    },
    {
      "cell_type": "code",
      "source": [
        "p = 1\n",
        "d = 1\n",
        "q = 0"
      ],
      "metadata": {
        "id": "wO9TY8e6johX"
      },
      "execution_count": 81,
      "outputs": []
    },
    {
      "cell_type": "markdown",
      "source": [
        "# Modelo AR"
      ],
      "metadata": {
        "id": "9-mFgk27NI1Z"
      }
    },
    {
      "cell_type": "code",
      "source": [
        "import warnings\n",
        "warnings.filterwarnings(\"ignore\")\n",
        "\n",
        "from statsmodels.tsa.ar_model import AutoReg"
      ],
      "metadata": {
        "id": "XvEV9518NRWn"
      },
      "execution_count": 82,
      "outputs": []
    },
    {
      "cell_type": "code",
      "source": [
        "mod1 = AutoReg(train['y'], p, old_names=False)\n",
        "res1 = mod1.fit()\n",
        "print(res1.summary())"
      ],
      "metadata": {
        "colab": {
          "base_uri": "https://localhost:8080/"
        },
        "id": "XJTw3ubuNLIP",
        "outputId": "1d58f61f-950f-4e26-934a-c11cd2678b66"
      },
      "execution_count": 83,
      "outputs": [
        {
          "output_type": "stream",
          "name": "stdout",
          "text": [
            "                            AutoReg Model Results                             \n",
            "==============================================================================\n",
            "Dep. Variable:                      y   No. Observations:                   88\n",
            "Model:                     AutoReg(1)   Log Likelihood                -849.257\n",
            "Method:               Conditional MLE   S.D. of innovations           4199.155\n",
            "Date:                Thu, 20 Mar 2025   AIC                           1704.514\n",
            "Time:                        11:03:44   BIC                           1711.912\n",
            "Sample:                             1   HQIC                          1707.493\n",
            "                                   88                                         \n",
            "==============================================================================\n",
            "                 coef    std err          z      P>|z|      [0.025      0.975]\n",
            "------------------------------------------------------------------------------\n",
            "const        623.6318    545.412      1.143      0.253    -445.356    1692.620\n",
            "y.L1           0.9908      0.030     33.451      0.000       0.933       1.049\n",
            "                                    Roots                                    \n",
            "=============================================================================\n",
            "                  Real          Imaginary           Modulus         Frequency\n",
            "-----------------------------------------------------------------------------\n",
            "AR.1            1.0093           +0.0000j            1.0093            0.0000\n",
            "-----------------------------------------------------------------------------\n"
          ]
        }
      ]
    },
    {
      "cell_type": "code",
      "source": [
        "# This is the general format for obtaining predictions\n",
        "start=len(train)\n",
        "end=len(train)+len(test)-1\n",
        "predictions1 = res1.predict(start=start, end=end, dynamic=False).rename('AR(1) Predictions')"
      ],
      "metadata": {
        "id": "eLLMjjw7OkG0"
      },
      "execution_count": 105,
      "outputs": []
    },
    {
      "cell_type": "code",
      "source": [
        "predictions1"
      ],
      "metadata": {
        "colab": {
          "base_uri": "https://localhost:8080/",
          "height": 1000
        },
        "id": "9jBZJyeaOuoC",
        "outputId": "f0157855-20cc-4d1c-bc4f-8fe2d4751f07"
      },
      "execution_count": 91,
      "outputs": [
        {
          "output_type": "execute_result",
          "data": {
            "text/plain": [
              "88     46503.231729\n",
              "89     46698.204199\n",
              "90     46891.379445\n",
              "91     47082.774033\n",
              "92     47272.404376\n",
              "93     47460.286737\n",
              "94     47646.437228\n",
              "95     47830.871815\n",
              "96     48013.606313\n",
              "97     48194.656393\n",
              "98     48374.037584\n",
              "99     48551.765267\n",
              "100    48727.854685\n",
              "101    48902.320939\n",
              "102    49075.178991\n",
              "103    49246.443666\n",
              "104    49416.129650\n",
              "105    49584.251497\n",
              "106    49750.823623\n",
              "107    49915.860314\n",
              "108    50079.375723\n",
              "109    50241.383874\n",
              "110    50401.898659\n",
              "111    50560.933845\n",
              "112    50718.503071\n",
              "113    50874.619848\n",
              "114    51029.297566\n",
              "115    51182.549490\n",
              "116    51334.388763\n",
              "117    51484.828405\n",
              "118    51633.881319\n",
              "119    51781.560287\n",
              "120    51927.877974\n",
              "121    52072.846928\n",
              "122    52216.479582\n",
              "123    52358.788253\n",
              "124    52499.785146\n",
              "125    52639.482352\n",
              "126    52777.891851\n",
              "Name: AR(1) Predictions, dtype: float64"
            ],
            "text/html": [
              "<div>\n",
              "<style scoped>\n",
              "    .dataframe tbody tr th:only-of-type {\n",
              "        vertical-align: middle;\n",
              "    }\n",
              "\n",
              "    .dataframe tbody tr th {\n",
              "        vertical-align: top;\n",
              "    }\n",
              "\n",
              "    .dataframe thead th {\n",
              "        text-align: right;\n",
              "    }\n",
              "</style>\n",
              "<table border=\"1\" class=\"dataframe\">\n",
              "  <thead>\n",
              "    <tr style=\"text-align: right;\">\n",
              "      <th></th>\n",
              "      <th>AR(1) Predictions</th>\n",
              "    </tr>\n",
              "  </thead>\n",
              "  <tbody>\n",
              "    <tr>\n",
              "      <th>88</th>\n",
              "      <td>46503.231729</td>\n",
              "    </tr>\n",
              "    <tr>\n",
              "      <th>89</th>\n",
              "      <td>46698.204199</td>\n",
              "    </tr>\n",
              "    <tr>\n",
              "      <th>90</th>\n",
              "      <td>46891.379445</td>\n",
              "    </tr>\n",
              "    <tr>\n",
              "      <th>91</th>\n",
              "      <td>47082.774033</td>\n",
              "    </tr>\n",
              "    <tr>\n",
              "      <th>92</th>\n",
              "      <td>47272.404376</td>\n",
              "    </tr>\n",
              "    <tr>\n",
              "      <th>93</th>\n",
              "      <td>47460.286737</td>\n",
              "    </tr>\n",
              "    <tr>\n",
              "      <th>94</th>\n",
              "      <td>47646.437228</td>\n",
              "    </tr>\n",
              "    <tr>\n",
              "      <th>95</th>\n",
              "      <td>47830.871815</td>\n",
              "    </tr>\n",
              "    <tr>\n",
              "      <th>96</th>\n",
              "      <td>48013.606313</td>\n",
              "    </tr>\n",
              "    <tr>\n",
              "      <th>97</th>\n",
              "      <td>48194.656393</td>\n",
              "    </tr>\n",
              "    <tr>\n",
              "      <th>98</th>\n",
              "      <td>48374.037584</td>\n",
              "    </tr>\n",
              "    <tr>\n",
              "      <th>99</th>\n",
              "      <td>48551.765267</td>\n",
              "    </tr>\n",
              "    <tr>\n",
              "      <th>100</th>\n",
              "      <td>48727.854685</td>\n",
              "    </tr>\n",
              "    <tr>\n",
              "      <th>101</th>\n",
              "      <td>48902.320939</td>\n",
              "    </tr>\n",
              "    <tr>\n",
              "      <th>102</th>\n",
              "      <td>49075.178991</td>\n",
              "    </tr>\n",
              "    <tr>\n",
              "      <th>103</th>\n",
              "      <td>49246.443666</td>\n",
              "    </tr>\n",
              "    <tr>\n",
              "      <th>104</th>\n",
              "      <td>49416.129650</td>\n",
              "    </tr>\n",
              "    <tr>\n",
              "      <th>105</th>\n",
              "      <td>49584.251497</td>\n",
              "    </tr>\n",
              "    <tr>\n",
              "      <th>106</th>\n",
              "      <td>49750.823623</td>\n",
              "    </tr>\n",
              "    <tr>\n",
              "      <th>107</th>\n",
              "      <td>49915.860314</td>\n",
              "    </tr>\n",
              "    <tr>\n",
              "      <th>108</th>\n",
              "      <td>50079.375723</td>\n",
              "    </tr>\n",
              "    <tr>\n",
              "      <th>109</th>\n",
              "      <td>50241.383874</td>\n",
              "    </tr>\n",
              "    <tr>\n",
              "      <th>110</th>\n",
              "      <td>50401.898659</td>\n",
              "    </tr>\n",
              "    <tr>\n",
              "      <th>111</th>\n",
              "      <td>50560.933845</td>\n",
              "    </tr>\n",
              "    <tr>\n",
              "      <th>112</th>\n",
              "      <td>50718.503071</td>\n",
              "    </tr>\n",
              "    <tr>\n",
              "      <th>113</th>\n",
              "      <td>50874.619848</td>\n",
              "    </tr>\n",
              "    <tr>\n",
              "      <th>114</th>\n",
              "      <td>51029.297566</td>\n",
              "    </tr>\n",
              "    <tr>\n",
              "      <th>115</th>\n",
              "      <td>51182.549490</td>\n",
              "    </tr>\n",
              "    <tr>\n",
              "      <th>116</th>\n",
              "      <td>51334.388763</td>\n",
              "    </tr>\n",
              "    <tr>\n",
              "      <th>117</th>\n",
              "      <td>51484.828405</td>\n",
              "    </tr>\n",
              "    <tr>\n",
              "      <th>118</th>\n",
              "      <td>51633.881319</td>\n",
              "    </tr>\n",
              "    <tr>\n",
              "      <th>119</th>\n",
              "      <td>51781.560287</td>\n",
              "    </tr>\n",
              "    <tr>\n",
              "      <th>120</th>\n",
              "      <td>51927.877974</td>\n",
              "    </tr>\n",
              "    <tr>\n",
              "      <th>121</th>\n",
              "      <td>52072.846928</td>\n",
              "    </tr>\n",
              "    <tr>\n",
              "      <th>122</th>\n",
              "      <td>52216.479582</td>\n",
              "    </tr>\n",
              "    <tr>\n",
              "      <th>123</th>\n",
              "      <td>52358.788253</td>\n",
              "    </tr>\n",
              "    <tr>\n",
              "      <th>124</th>\n",
              "      <td>52499.785146</td>\n",
              "    </tr>\n",
              "    <tr>\n",
              "      <th>125</th>\n",
              "      <td>52639.482352</td>\n",
              "    </tr>\n",
              "    <tr>\n",
              "      <th>126</th>\n",
              "      <td>52777.891851</td>\n",
              "    </tr>\n",
              "  </tbody>\n",
              "</table>\n",
              "</div><br><label><b>dtype:</b> float64</label>"
            ]
          },
          "metadata": {},
          "execution_count": 91
        }
      ]
    },
    {
      "cell_type": "code",
      "source": [
        "#Comparing predictions to expected values\n",
        "for i in range(len(predictions1)):\n",
        "    print(f\"predicted={predictions1.iloc[i]}, expected={test['y'].iloc[i]}\")"
      ],
      "metadata": {
        "colab": {
          "base_uri": "https://localhost:8080/"
        },
        "id": "jjgx5p28O7sH",
        "outputId": "2d5f63cb-9b91-47d8-d666-29fcd1795f24"
      },
      "execution_count": 102,
      "outputs": [
        {
          "output_type": "stream",
          "name": "stdout",
          "text": [
            "predicted=46503.23172872871, expected=38483.125\n",
            "predicted=46698.20419942883, expected=43193.234375\n",
            "predicted=46891.379445258455, expected=45538.67578125\n",
            "predicted=47082.77403274732, expected=37714.875\n",
            "predicted=47272.40437571757, expected=31792.310546875\n",
            "predicted=47460.286736691356, expected=19784.7265625\n",
            "predicted=47646.43722828554, expected=23336.896484375\n",
            "predicted=47830.87181459347, expected=20049.763671875\n",
            "predicted=48013.60631255403, expected=19431.7890625\n",
            "predicted=48194.656393308134, expected=20495.7734375\n",
            "predicted=48374.037583542624, expected=17168.56640625\n",
            "predicted=48551.765266821836, expected=16547.49609375\n",
            "predicted=48727.854684906895, expected=23139.283203125\n",
            "predicted=48902.32093906282, expected=23147.353515625\n",
            "predicted=49075.17899135359, expected=28478.484375\n",
            "predicted=49246.443665925304, expected=29268.806640625\n",
            "predicted=49416.12965027745, expected=27219.658203125\n",
            "predicted=49584.25149652252, expected=30477.251953125\n",
            "predicted=49750.823622633965, expected=29230.111328125\n",
            "predicted=49915.86031368268, expected=25931.47265625\n",
            "predicted=50079.37572306207, expected=26967.916015625\n",
            "predicted=50241.383873701845, expected=34667.78125\n",
            "predicted=50401.898659270606, expected=37712.74609375\n",
            "predicted=50560.93384536733, expected=42265.1875\n",
            "predicted=50718.503070701954, expected=42582.60546875\n",
            "predicted=50874.61984826495, expected=61198.3828125\n",
            "predicted=51029.297566486224, expected=71333.6484375\n",
            "predicted=51182.549490383295, expected=60636.85546875\n",
            "predicted=51334.38876269888, expected=67491.4140625\n",
            "predicted=51484.82840502801, expected=62678.29296875\n",
            "predicted=51633.88131893476, expected=64619.25\n",
            "predicted=51781.56028705863, expected=58969.8984375\n",
            "predicted=51927.87797421084, expected=63329.5\n",
            "predicted=52072.8469284604, expected=70215.1875\n",
            "predicted=52216.47958221024, expected=96449.0546875\n",
            "predicted=52358.7882532634, expected=93429.203125\n",
            "predicted=52499.7851458794, expected=102405.0234375\n",
            "predicted=52639.48235182085, expected=84373.0078125\n",
            "predicted=52777.89185139044, expected=84075.6875\n"
          ]
        }
      ]
    },
    {
      "cell_type": "code",
      "source": [
        "train['y'].plot(legend=True, label='train')\n",
        "test['y'].plot(legend=True, label='test')\n",
        "predictions1.plot(legend=True,figsize=(12,6))"
      ],
      "metadata": {
        "colab": {
          "base_uri": "https://localhost:8080/",
          "height": 488
        },
        "id": "N-q2dz3iPyVd",
        "outputId": "54d3845f-4ba8-425e-bf35-a55de4d5d713"
      },
      "execution_count": 108,
      "outputs": [
        {
          "output_type": "execute_result",
          "data": {
            "text/plain": [
              "<Axes: >"
            ]
          },
          "metadata": {},
          "execution_count": 108
        },
        {
          "output_type": "display_data",
          "data": {
            "text/plain": [
              "<Figure size 1200x600 with 1 Axes>"
            ],
            "image/png": "[encoded data removed]"
          },
          "metadata": {}
        }
      ]
    },
    {
      "cell_type": "markdown",
      "source": [
        "# Modelo Arima"
      ],
      "metadata": {
        "id": "pOKsgMPX4SMP"
      }
    },
    {
      "cell_type": "code",
      "source": [
        "%%time\n",
        "!pip install --upgrade scikit-learn pmdarima"
      ],
      "metadata": {
        "colab": {
          "base_uri": "https://localhost:8080/"
        },
        "id": "5EpSsejZbp2T",
        "outputId": "04689eb0-8a85-407c-e357-91cebb851dd6"
      },
      "execution_count": 84,
      "outputs": [
        {
          "output_type": "stream",
          "name": "stdout",
          "text": [
            "Requirement already satisfied: scikit-learn in /usr/local/lib/python3.11/dist-packages (1.6.1)\n",
            "Requirement already satisfied: pmdarima in /usr/local/lib/python3.11/dist-packages (2.0.4)\n",
            "Requirement already satisfied: numpy>=1.19.5 in /usr/local/lib/python3.11/dist-packages (from scikit-learn) (2.0.2)\n",
            "Requirement already satisfied: scipy>=1.6.0 in /usr/local/lib/python3.11/dist-packages (from scikit-learn) (1.14.1)\n",
            "Requirement already satisfied: joblib>=1.2.0 in /usr/local/lib/python3.11/dist-packages (from scikit-learn) (1.4.2)\n",
            "Requirement already satisfied: threadpoolctl>=3.1.0 in /usr/local/lib/python3.11/dist-packages (from scikit-learn) (3.6.0)\n",
            "Requirement already satisfied: Cython!=0.29.18,!=0.29.31,>=0.29 in /usr/local/lib/python3.11/dist-packages (from pmdarima) (3.0.12)\n",
            "Requirement already satisfied: pandas>=0.19 in /usr/local/lib/python3.11/dist-packages (from pmdarima) (2.2.2)\n",
            "Requirement already satisfied: statsmodels>=0.13.2 in /usr/local/lib/python3.11/dist-packages (from pmdarima) (0.14.4)\n",
            "Requirement already satisfied: urllib3 in /usr/local/lib/python3.11/dist-packages (from pmdarima) (2.3.0)\n",
            "Requirement already satisfied: setuptools!=50.0.0,>=38.6.0 in /usr/local/lib/python3.11/dist-packages (from pmdarima) (75.1.0)\n",
            "Requirement already satisfied: packaging>=17.1 in /usr/local/lib/python3.11/dist-packages (from pmdarima) (24.2)\n",
            "Requirement already satisfied: python-dateutil>=2.8.2 in /usr/local/lib/python3.11/dist-packages (from pandas>=0.19->pmdarima) (2.8.2)\n",
            "Requirement already satisfied: pytz>=2020.1 in /usr/local/lib/python3.11/dist-packages (from pandas>=0.19->pmdarima) (2025.1)\n",
            "Requirement already satisfied: tzdata>=2022.7 in /usr/local/lib/python3.11/dist-packages (from pandas>=0.19->pmdarima) (2025.1)\n",
            "Requirement already satisfied: patsy>=0.5.6 in /usr/local/lib/python3.11/dist-packages (from statsmodels>=0.13.2->pmdarima) (1.0.1)\n",
            "Requirement already satisfied: six>=1.5 in /usr/local/lib/python3.11/dist-packages (from python-dateutil>=2.8.2->pandas>=0.19->pmdarima) (1.17.0)\n",
            "CPU times: user 67.1 ms, sys: 7.92 ms, total: 75 ms\n",
            "Wall time: 8.45 s\n"
          ]
        }
      ]
    },
    {
      "cell_type": "code",
      "source": [
        "from statsmodels.tsa.arima.model import ARIMA\n",
        "model = ARIMA(train['y'], order=(p,d,q))\n",
        "model_fit = model.fit()"
      ],
      "metadata": {
        "id": "tRoXDPzo3SoK"
      },
      "execution_count": 85,
      "outputs": []
    },
    {
      "cell_type": "code",
      "source": [
        "from matplotlib import pyplot\n",
        "# summary of fit model\n",
        "print(model_fit.summary())\n",
        "# line plot of residuals\n",
        "residuals = DataFrame(model_fit.resid)\n",
        "residuals.plot()\n",
        "pyplot.show()\n",
        "# density plot of residuals\n",
        "residuals.plot(kind='kde')\n",
        "pyplot.show()\n",
        "# summary stats of residuals\n",
        "print(residuals.describe())"
      ],
      "metadata": {
        "colab": {
          "base_uri": "https://localhost:8080/",
          "height": 1000
        },
        "id": "gcbRBgf5BLU0",
        "outputId": "c29f834a-c7ce-468d-e339-cdcc6e16364f"
      },
      "execution_count": 86,
      "outputs": [
        {
          "output_type": "stream",
          "name": "stdout",
          "text": [
            "                               SARIMAX Results                                \n",
            "==============================================================================\n",
            "Dep. Variable:                      y   No. Observations:                   88\n",
            "Model:                 ARIMA(1, 1, 0)   Log Likelihood                -848.318\n",
            "Date:                Thu, 20 Mar 2025   AIC                           1700.636\n",
            "Time:                        11:03:52   BIC                           1705.567\n",
            "Sample:                             0   HQIC                          1702.622\n",
            "                                 - 88                                         \n",
            "Covariance Type:                  opg                                         \n",
            "==============================================================================\n",
            "                 coef    std err          z      P>|z|      [0.025      0.975]\n",
            "------------------------------------------------------------------------------\n",
            "ar.L1          0.2017      0.074      2.717      0.007       0.056       0.347\n",
            "sigma2      1.746e+07   1.11e+06     15.787      0.000    1.53e+07    1.96e+07\n",
            "===================================================================================\n",
            "Ljung-Box (L1) (Q):                   0.13   Jarque-Bera (JB):               368.29\n",
            "Prob(Q):                              0.72   Prob(JB):                         0.00\n",
            "Heteroskedasticity (H):            7342.17   Skew:                            -0.24\n",
            "Prob(H) (two-sided):                  0.00   Kurtosis:                        13.07\n",
            "===================================================================================\n",
            "\n",
            "Warnings:\n",
            "[1] Covariance matrix calculated using the outer product of gradients (complex-step).\n"
          ]
        },
        {
          "output_type": "display_data",
          "data": {
            "text/plain": [
              "<Figure size 640x480 with 1 Axes>"
            ],
            "image/png": "[encoded data removed]"
          },
          "metadata": {}
        },
        {
          "output_type": "display_data",
          "data": {
            "text/plain": [
              "<Figure size 640x480 with 1 Axes>"
            ],
            "image/png": "[encoded data removed]"
          },
          "metadata": {}
        },
        {
          "output_type": "stream",
          "name": "stdout",
          "text": [
            "                  0\n",
            "count     88.000000\n",
            "mean     395.603530\n",
            "std     4134.976876\n",
            "min   -20181.614524\n",
            "25%     -226.020085\n",
            "50%       38.163137\n",
            "75%     1180.194712\n",
            "max    18208.924767\n"
          ]
        }
      ]
    },
    {
      "cell_type": "code",
      "source": [
        "\n",
        "from sklearn.metrics import mean_squared_error\n",
        "from math import sqrt\n",
        "train_values = train['y'].tolist()\n",
        "\n",
        "\n",
        "predictions = list()\n",
        "#walk-foward validation\n",
        "test_values = test['y'].tolist()\n",
        "for t in range(len(test_values)):\n",
        "  model = ARIMA(train_values, order=(1,2,0))\n",
        "  # fit model\n",
        "  model_fit = model.fit()\n",
        "  yhat = model_fit.forecast()[0]\n",
        "  predictions.append(yhat)\n",
        "  obs = test_values[t]\n",
        "  train_values.append(obs)\n",
        "  print(f'predicted={yhat}, expected={obs}')\n",
        "#evaluate forecasts\n",
        "rmse = sqrt(mean_squared_error(test_values, predictions))\n",
        "print('Test RMSE: %.3f' % rmse)\n",
        "# plot forecasts against actual outcomes"
      ],
      "metadata": {
        "id": "8J7pWAhKYFQz",
        "colab": {
          "base_uri": "https://localhost:8080/"
        },
        "outputId": "47902c90-ef6a-4fed-8984-430a28e5d00d"
      },
      "execution_count": 87,
      "outputs": [
        {
          "output_type": "stream",
          "name": "stdout",
          "text": [
            "predicted=37196.54426574357, expected=38483.125\n",
            "predicted=29934.417487425744, expected=43193.234375\n",
            "predicted=44938.36892659289, expected=45538.67578125\n",
            "predicted=48436.64047474656, expected=37714.875\n",
            "predicted=32167.78618493217, expected=31792.310546875\n",
            "predicted=25446.785079451558, expected=19784.7265625\n",
            "predicted=9155.110107331138, expected=23336.896484375\n",
            "predicted=22875.03481924526, expected=20049.763671875\n",
            "predicted=18627.90552526882, expected=19431.7890625\n",
            "predicted=18081.009203121324, expected=20495.7734375\n",
            "predicted=21101.55730626701, expected=17168.56640625\n",
            "predicted=15047.177920773393, expected=16547.49609375\n",
            "predicted=15177.487544244053, expected=23139.283203125\n",
            "predicted=27785.610148714273, expected=23147.353515625\n",
            "predicted=25001.901168800377, expected=28478.484375\n",
            "predicted=32278.12578541818, expected=29268.806640625\n",
            "predicted=31388.384040178993, expected=27219.658203125\n",
            "predicted=25984.96433502426, expected=30477.251953125\n",
            "predicted=32191.642763704458, expected=29230.111328125\n",
            "predicted=29314.77701840977, expected=25931.47265625\n",
            "predicted=23229.77099620698, expected=26967.916015625\n",
            "predicted=26732.780842603268, expected=34667.78125\n",
            "predicted=40482.85182578467, expected=37712.74609375\n",
            "predicted=42100.174820281245, expected=42265.1875\n",
            "predicted=46382.53034079285, expected=42582.60546875\n",
            "predicted=44129.59659170928, expected=61198.3828125\n",
            "predicted=74109.36896933774, expected=71333.6484375\n",
            "predicted=84229.01025551015, expected=60636.85546875\n",
            "predicted=55617.42680563017, expected=67491.4140625\n",
            "predicted=68532.3828575475, expected=62678.29296875\n",
            "predicted=61995.018285990154, expected=64619.25\n",
            "predicted=64125.16160151688, expected=58969.8984375\n",
            "predicted=56113.26833472646, expected=63329.5\n",
            "predicted=63891.3342826596, expected=70215.1875\n",
            "predicted=76175.27533307267, expected=96449.0546875\n",
            "predicted=115796.99799503607, expected=93429.203125\n",
            "predicted=103235.79891342422, expected=102405.0234375\n",
            "predicted=106169.09132742842, expected=84373.0078125\n",
            "predicted=79206.41498811643, expected=84075.6875\n",
            "Test RMSE: 9321.071\n"
          ]
        }
      ]
    },
    {
      "cell_type": "code",
      "source": [
        "plotter.plotly([train.rename(columns={'y':'train_y'}), test.rename(columns={'y':'test_y'}), pd.DataFrame({'ds':test['ds'], 'y':predictions, 'unique_id':'predictions'}).rename(columns={'y':'predict_y'})])"
      ],
      "metadata": {
        "id": "ULYvgZrob4pS",
        "colab": {
          "base_uri": "https://localhost:8080/",
          "height": 542
        },
        "outputId": "f983d852-8d6a-477d-faff-5899c4de2d33"
      },
      "execution_count": 88,
      "outputs": [
        {
          "output_type": "display_data",
          "data": {
            "text/html": [
              "<html>\n",
              "<head><meta charset=\"utf-8\" /></head>\n",
              "<body>\n",
              "    <div>            <script src=\"https://cdnjs.cloudflare.com/ajax/libs/mathjax/2.7.5/MathJax.js?config=TeX-AMS-MML_SVG\"></script><script type=\"text/javascript\">if (window.MathJax && window.MathJax.Hub && window.MathJax.Hub.Config) {window.MathJax.Hub.Config({SVG: {font: \"STIX-Web\"}});}</script>                <script type=\"text/javascript\">window.PlotlyConfig = {MathJaxConfig: 'local'};</script>\n",
              "        <script charset=\"utf-8\" src=\"https://cdn.plot.ly/plotly-2.35.2.min.js\"></script>                <div id=\"40c50ff6-4bce-4714-ab90-6133e29c9161\" class=\"plotly-graph-div\" style=\"height:525px; width:100%;\"></div>            <script type=\"text/javascript\">                                    window.PLOTLYENV=window.PLOTLYENV || {};                                    if (document.getElementById(\"40c50ff6-4bce-4714-ab90-6133e29c9161\")) {                    Plotly.newPlot(                        \"40c50ff6-4bce-4714-ab90-6133e29c9161\",                        [{\"line\":{\"width\":1},\"mode\":\"lines\",\"name\":\"train_y\",\"x\":[\"2014-09-30T00:00:00\",\"2014-10-31T00:00:00\",\"2014-11-30T00:00:00\",\"2014-12-31T00:00:00\",\"2015-01-31T00:00:00\",\"2015-02-28T00:00:00\",\"2015-03-31T00:00:00\",\"2015-04-30T00:00:00\",\"2015-05-31T00:00:00\",\"2015-06-30T00:00:00\",\"2015-07-31T00:00:00\",\"2015-08-31T00:00:00\",\"2015-09-30T00:00:00\",\"2015-10-31T00:00:00\",\"2015-11-30T00:00:00\",\"2015-12-31T00:00:00\",\"2016-01-31T00:00:00\",\"2016-02-29T00:00:00\",\"2016-03-31T00:00:00\",\"2016-04-30T00:00:00\",\"2016-05-31T00:00:00\",\"2016-06-30T00:00:00\",\"2016-07-31T00:00:00\",\"2016-08-31T00:00:00\",\"2016-09-30T00:00:00\",\"2016-10-31T00:00:00\",\"2016-11-30T00:00:00\",\"2016-12-31T00:00:00\",\"2017-01-31T00:00:00\",\"2017-02-28T00:00:00\",\"2017-03-31T00:00:00\",\"2017-04-30T00:00:00\",\"2017-05-31T00:00:00\",\"2017-06-30T00:00:00\",\"2017-07-31T00:00:00\",\"2017-08-31T00:00:00\",\"2017-09-30T00:00:00\",\"2017-10-31T00:00:00\",\"2017-11-30T00:00:00\",\"2017-12-31T00:00:00\",\"2018-01-31T00:00:00\",\"2018-02-28T00:00:00\",\"2018-03-31T00:00:00\",\"2018-04-30T00:00:00\",\"2018-05-31T00:00:00\",\"2018-06-30T00:00:00\",\"2018-07-31T00:00:00\",\"2018-08-31T00:00:00\",\"2018-09-30T00:00:00\",\"2018-10-31T00:00:00\",\"2018-11-30T00:00:00\",\"2018-12-31T00:00:00\",\"2019-01-31T00:00:00\",\"2019-02-28T00:00:00\",\"2019-03-31T00:00:00\",\"2019-04-30T00:00:00\",\"2019-05-31T00:00:00\",\"2019-06-30T00:00:00\",\"2019-07-31T00:00:00\",\"2019-08-31T00:00:00\",\"2019-09-30T00:00:00\",\"2019-10-31T00:00:00\",\"2019-11-30T00:00:00\",\"2019-12-31T00:00:00\",\"2020-01-31T00:00:00\",\"2020-02-29T00:00:00\",\"2020-03-31T00:00:00\",\"2020-04-30T00:00:00\",\"2020-05-31T00:00:00\",\"2020-06-30T00:00:00\",\"2020-07-31T00:00:00\",\"2020-08-31T00:00:00\",\"2020-09-30T00:00:00\",\"2020-10-31T00:00:00\",\"2020-11-30T00:00:00\",\"2020-12-31T00:00:00\",\"2021-01-31T00:00:00\",\"2021-02-28T00:00:00\",\"2021-03-31T00:00:00\",\"2021-04-30T00:00:00\",\"2021-05-31T00:00:00\",\"2021-06-30T00:00:00\",\"2021-07-31T00:00:00\",\"2021-08-31T00:00:00\",\"2021-09-30T00:00:00\",\"2021-10-31T00:00:00\",\"2021-11-30T00:00:00\",\"2021-12-31T00:00:00\"],\"y\":[386.9440002441406,338.3210144042969,378.0469970703125,320.1929931640625,217.46400451660156,254.26300048828125,244.2239990234375,236.14500427246094,230.19000244140625,263.0719909667969,284.6499938964844,230.05599975585938,236.05999755859375,314.1659851074219,377.3210144042969,430.5669860839844,368.7669982910156,437.6969909667969,416.72900390625,448.3179931640625,531.385986328125,673.3369750976562,624.6810302734375,575.4719848632812,609.7349853515625,700.9719848632812,745.6909790039062,963.7429809570312,970.4030151367188,1179.969970703125,1071.7900390625,1347.8900146484375,2286.409912109375,2480.840087890625,2875.340087890625,4703.39013671875,4338.7099609375,6468.39990234375,10233.599609375,14156.400390625,10221.099609375,10397.900390625,6973.52978515625,9240.5498046875,7494.169921875,6404.0,7780.43994140625,7037.580078125,6625.56005859375,6317.60986328125,4017.2685546875,3742.700439453125,3457.792724609375,3854.785400390625,4105.404296875,5350.7265625,8574.501953125,10817.1552734375,10085.6279296875,9630.6640625,8293.8681640625,9199.5849609375,7569.6298828125,7193.59912109375,9350.529296875,8599.5087890625,6438.64453125,8658.5537109375,9461.05859375,9137.9931640625,11323.466796875,11680.8203125,10784.4912109375,13780.9951171875,19625.8359375,29001.720703125,33114.359375,45137.76953125,58918.83203125,57750.17578125,37332.85546875,35040.8359375,41626.1953125,47166.6875,43790.89453125,61318.95703125,57005.42578125,46306.4453125],\"type\":\"scatter\"},{\"line\":{\"width\":1},\"mode\":\"lines\",\"name\":\"test_y\",\"x\":[\"2022-01-31T00:00:00\",\"2022-02-28T00:00:00\",\"2022-03-31T00:00:00\",\"2022-04-30T00:00:00\",\"2022-05-31T00:00:00\",\"2022-06-30T00:00:00\",\"2022-07-31T00:00:00\",\"2022-08-31T00:00:00\",\"2022-09-30T00:00:00\",\"2022-10-31T00:00:00\",\"2022-11-30T00:00:00\",\"2022-12-31T00:00:00\",\"2023-01-31T00:00:00\",\"2023-02-28T00:00:00\",\"2023-03-31T00:00:00\",\"2023-04-30T00:00:00\",\"2023-05-31T00:00:00\",\"2023-06-30T00:00:00\",\"2023-07-31T00:00:00\",\"2023-08-31T00:00:00\",\"2023-09-30T00:00:00\",\"2023-10-31T00:00:00\",\"2023-11-30T00:00:00\",\"2023-12-31T00:00:00\",\"2024-01-31T00:00:00\",\"2024-02-29T00:00:00\",\"2024-03-31T00:00:00\",\"2024-04-30T00:00:00\",\"2024-05-31T00:00:00\",\"2024-06-30T00:00:00\",\"2024-07-31T00:00:00\",\"2024-08-31T00:00:00\",\"2024-09-30T00:00:00\",\"2024-10-31T00:00:00\",\"2024-11-30T00:00:00\",\"2024-12-31T00:00:00\",\"2025-01-31T00:00:00\",\"2025-02-28T00:00:00\",\"2025-03-31T00:00:00\"],\"y\":[38483.125,43193.234375,45538.67578125,37714.875,31792.310546875,19784.7265625,23336.896484375,20049.763671875,19431.7890625,20495.7734375,17168.56640625,16547.49609375,23139.283203125,23147.353515625,28478.484375,29268.806640625,27219.658203125,30477.251953125,29230.111328125,25931.47265625,26967.916015625,34667.78125,37712.74609375,42265.1875,42582.60546875,61198.3828125,71333.6484375,60636.85546875,67491.4140625,62678.29296875,64619.25,58969.8984375,63329.5,70215.1875,96449.0546875,93429.203125,102405.0234375,84373.0078125,84075.6875],\"type\":\"scatter\"},{\"line\":{\"width\":1},\"mode\":\"lines\",\"name\":\"predict_y\",\"x\":[\"2022-01-31T00:00:00\",\"2022-02-28T00:00:00\",\"2022-03-31T00:00:00\",\"2022-04-30T00:00:00\",\"2022-05-31T00:00:00\",\"2022-06-30T00:00:00\",\"2022-07-31T00:00:00\",\"2022-08-31T00:00:00\",\"2022-09-30T00:00:00\",\"2022-10-31T00:00:00\",\"2022-11-30T00:00:00\",\"2022-12-31T00:00:00\",\"2023-01-31T00:00:00\",\"2023-02-28T00:00:00\",\"2023-03-31T00:00:00\",\"2023-04-30T00:00:00\",\"2023-05-31T00:00:00\",\"2023-06-30T00:00:00\",\"2023-07-31T00:00:00\",\"2023-08-31T00:00:00\",\"2023-09-30T00:00:00\",\"2023-10-31T00:00:00\",\"2023-11-30T00:00:00\",\"2023-12-31T00:00:00\",\"2024-01-31T00:00:00\",\"2024-02-29T00:00:00\",\"2024-03-31T00:00:00\",\"2024-04-30T00:00:00\",\"2024-05-31T00:00:00\",\"2024-06-30T00:00:00\",\"2024-07-31T00:00:00\",\"2024-08-31T00:00:00\",\"2024-09-30T00:00:00\",\"2024-10-31T00:00:00\",\"2024-11-30T00:00:00\",\"2024-12-31T00:00:00\",\"2025-01-31T00:00:00\",\"2025-02-28T00:00:00\",\"2025-03-31T00:00:00\"],\"y\":[37196.54426574357,29934.417487425744,44938.36892659289,48436.64047474656,32167.78618493217,25446.785079451558,9155.110107331138,22875.03481924526,18627.90552526882,18081.009203121324,21101.55730626701,15047.177920773393,15177.487544244053,27785.610148714273,25001.901168800377,32278.12578541818,31388.384040178993,25984.96433502426,32191.642763704458,29314.77701840977,23229.77099620698,26732.780842603268,40482.85182578467,42100.174820281245,46382.53034079285,44129.59659170928,74109.36896933774,84229.01025551015,55617.42680563017,68532.3828575475,61995.018285990154,64125.16160151688,56113.26833472646,63891.3342826596,76175.27533307267,115796.99799503607,103235.79891342422,106169.09132742842,79206.41498811643],\"type\":\"scatter\"}],                        {\"template\":{\"data\":{\"histogram2dcontour\":[{\"type\":\"histogram2dcontour\",\"colorbar\":{\"outlinewidth\":0,\"ticks\":\"\"},\"colorscale\":[[0.0,\"#0d0887\"],[0.1111111111111111,\"#46039f\"],[0.2222222222222222,\"#7201a8\"],[0.3333333333333333,\"#9c179e\"],[0.4444444444444444,\"#bd3786\"],[0.5555555555555556,\"#d8576b\"],[0.6666666666666666,\"#ed7953\"],[0.7777777777777778,\"#fb9f3a\"],[0.8888888888888888,\"#fdca26\"],[1.0,\"#f0f921\"]]}],\"choropleth\":[{\"type\":\"choropleth\",\"colorbar\":{\"outlinewidth\":0,\"ticks\":\"\"}}],\"histogram2d\":[{\"type\":\"histogram2d\",\"colorbar\":{\"outlinewidth\":0,\"ticks\":\"\"},\"colorscale\":[[0.0,\"#0d0887\"],[0.1111111111111111,\"#46039f\"],[0.2222222222222222,\"#7201a8\"],[0.3333333333333333,\"#9c179e\"],[0.4444444444444444,\"#bd3786\"],[0.5555555555555556,\"#d8576b\"],[0.6666666666666666,\"#ed7953\"],[0.7777777777777778,\"#fb9f3a\"],[0.8888888888888888,\"#fdca26\"],[1.0,\"#f0f921\"]]}],\"heatmap\":[{\"type\":\"heatmap\",\"colorbar\":{\"outlinewidth\":0,\"ticks\":\"\"},\"colorscale\":[[0.0,\"#0d0887\"],[0.1111111111111111,\"#46039f\"],[0.2222222222222222,\"#7201a8\"],[0.3333333333333333,\"#9c179e\"],[0.4444444444444444,\"#bd3786\"],[0.5555555555555556,\"#d8576b\"],[0.6666666666666666,\"#ed7953\"],[0.7777777777777778,\"#fb9f3a\"],[0.8888888888888888,\"#fdca26\"],[1.0,\"#f0f921\"]]}],\"heatmapgl\":[{\"type\":\"heatmapgl\",\"colorbar\":{\"outlinewidth\":0,\"ticks\":\"\"},\"colorscale\":[[0.0,\"#0d0887\"],[0.1111111111111111,\"#46039f\"],[0.2222222222222222,\"#7201a8\"],[0.3333333333333333,\"#9c179e\"],[0.4444444444444444,\"#bd3786\"],[0.5555555555555556,\"#d8576b\"],[0.6666666666666666,\"#ed7953\"],[0.7777777777777778,\"#fb9f3a\"],[0.8888888888888888,\"#fdca26\"],[1.0,\"#f0f921\"]]}],\"contourcarpet\":[{\"type\":\"contourcarpet\",\"colorbar\":{\"outlinewidth\":0,\"ticks\":\"\"}}],\"contour\":[{\"type\":\"contour\",\"colorbar\":{\"outlinewidth\":0,\"ticks\":\"\"},\"colorscale\":[[0.0,\"#0d0887\"],[0.1111111111111111,\"#46039f\"],[0.2222222222222222,\"#7201a8\"],[0.3333333333333333,\"#9c179e\"],[0.4444444444444444,\"#bd3786\"],[0.5555555555555556,\"#d8576b\"],[0.6666666666666666,\"#ed7953\"],[0.7777777777777778,\"#fb9f3a\"],[0.8888888888888888,\"#fdca26\"],[1.0,\"#f0f921\"]]}],\"surface\":[{\"type\":\"surface\",\"colorbar\":{\"outlinewidth\":0,\"ticks\":\"\"},\"colorscale\":[[0.0,\"#0d0887\"],[0.1111111111111111,\"#46039f\"],[0.2222222222222222,\"#7201a8\"],[0.3333333333333333,\"#9c179e\"],[0.4444444444444444,\"#bd3786\"],[0.5555555555555556,\"#d8576b\"],[0.6666666666666666,\"#ed7953\"],[0.7777777777777778,\"#fb9f3a\"],[0.8888888888888888,\"#fdca26\"],[1.0,\"#f0f921\"]]}],\"mesh3d\":[{\"type\":\"mesh3d\",\"colorbar\":{\"outlinewidth\":0,\"ticks\":\"\"}}],\"scatter\":[{\"fillpattern\":{\"fillmode\":\"overlay\",\"size\":10,\"solidity\":0.2},\"type\":\"scatter\"}],\"parcoords\":[{\"type\":\"parcoords\",\"line\":{\"colorbar\":{\"outlinewidth\":0,\"ticks\":\"\"}}}],\"scatterpolargl\":[{\"type\":\"scatterpolargl\",\"marker\":{\"colorbar\":{\"outlinewidth\":0,\"ticks\":\"\"}}}],\"bar\":[{\"error_x\":{\"color\":\"#2a3f5f\"},\"error_y\":{\"color\":\"#2a3f5f\"},\"marker\":{\"line\":{\"color\":\"#E5ECF6\",\"width\":0.5},\"pattern\":{\"fillmode\":\"overlay\",\"size\":10,\"solidity\":0.2}},\"type\":\"bar\"}],\"scattergeo\":[{\"type\":\"scattergeo\",\"marker\":{\"colorbar\":{\"outlinewidth\":0,\"ticks\":\"\"}}}],\"scatterpolar\":[{\"type\":\"scatterpolar\",\"marker\":{\"colorbar\":{\"outlinewidth\":0,\"ticks\":\"\"}}}],\"histogram\":[{\"marker\":{\"pattern\":{\"fillmode\":\"overlay\",\"size\":10,\"solidity\":0.2}},\"type\":\"histogram\"}],\"scattergl\":[{\"type\":\"scattergl\",\"marker\":{\"colorbar\":{\"outlinewidth\":0,\"ticks\":\"\"}}}],\"scatter3d\":[{\"type\":\"scatter3d\",\"line\":{\"colorbar\":{\"outlinewidth\":0,\"ticks\":\"\"}},\"marker\":{\"colorbar\":{\"outlinewidth\":0,\"ticks\":\"\"}}}],\"scattermapbox\":[{\"type\":\"scattermapbox\",\"marker\":{\"colorbar\":{\"outlinewidth\":0,\"ticks\":\"\"}}}],\"scatterternary\":[{\"type\":\"scatterternary\",\"marker\":{\"colorbar\":{\"outlinewidth\":0,\"ticks\":\"\"}}}],\"scattercarpet\":[{\"type\":\"scattercarpet\",\"marker\":{\"colorbar\":{\"outlinewidth\":0,\"ticks\":\"\"}}}],\"carpet\":[{\"aaxis\":{\"endlinecolor\":\"#2a3f5f\",\"gridcolor\":\"white\",\"linecolor\":\"white\",\"minorgridcolor\":\"white\",\"startlinecolor\":\"#2a3f5f\"},\"baxis\":{\"endlinecolor\":\"#2a3f5f\",\"gridcolor\":\"white\",\"linecolor\":\"white\",\"minorgridcolor\":\"white\",\"startlinecolor\":\"#2a3f5f\"},\"type\":\"carpet\"}],\"table\":[{\"cells\":{\"fill\":{\"color\":\"#EBF0F8\"},\"line\":{\"color\":\"white\"}},\"header\":{\"fill\":{\"color\":\"#C8D4E3\"},\"line\":{\"color\":\"white\"}},\"type\":\"table\"}],\"barpolar\":[{\"marker\":{\"line\":{\"color\":\"#E5ECF6\",\"width\":0.5},\"pattern\":{\"fillmode\":\"overlay\",\"size\":10,\"solidity\":0.2}},\"type\":\"barpolar\"}],\"pie\":[{\"automargin\":true,\"type\":\"pie\"}]},\"layout\":{\"autotypenumbers\":\"strict\",\"colorway\":[\"#636efa\",\"#EF553B\",\"#00cc96\",\"#ab63fa\",\"#FFA15A\",\"#19d3f3\",\"#FF6692\",\"#B6E880\",\"#FF97FF\",\"#FECB52\"],\"font\":{\"color\":\"#2a3f5f\"},\"hovermode\":\"closest\",\"hoverlabel\":{\"align\":\"left\"},\"paper_bgcolor\":\"white\",\"plot_bgcolor\":\"#E5ECF6\",\"polar\":{\"bgcolor\":\"#E5ECF6\",\"angularaxis\":{\"gridcolor\":\"white\",\"linecolor\":\"white\",\"ticks\":\"\"},\"radialaxis\":{\"gridcolor\":\"white\",\"linecolor\":\"white\",\"ticks\":\"\"}},\"ternary\":{\"bgcolor\":\"#E5ECF6\",\"aaxis\":{\"gridcolor\":\"white\",\"linecolor\":\"white\",\"ticks\":\"\"},\"baxis\":{\"gridcolor\":\"white\",\"linecolor\":\"white\",\"ticks\":\"\"},\"caxis\":{\"gridcolor\":\"white\",\"linecolor\":\"white\",\"ticks\":\"\"}},\"coloraxis\":{\"colorbar\":{\"outlinewidth\":0,\"ticks\":\"\"}},\"colorscale\":{\"sequential\":[[0.0,\"#0d0887\"],[0.1111111111111111,\"#46039f\"],[0.2222222222222222,\"#7201a8\"],[0.3333333333333333,\"#9c179e\"],[0.4444444444444444,\"#bd3786\"],[0.5555555555555556,\"#d8576b\"],[0.6666666666666666,\"#ed7953\"],[0.7777777777777778,\"#fb9f3a\"],[0.8888888888888888,\"#fdca26\"],[1.0,\"#f0f921\"]],\"sequentialminus\":[[0.0,\"#0d0887\"],[0.1111111111111111,\"#46039f\"],[0.2222222222222222,\"#7201a8\"],[0.3333333333333333,\"#9c179e\"],[0.4444444444444444,\"#bd3786\"],[0.5555555555555556,\"#d8576b\"],[0.6666666666666666,\"#ed7953\"],[0.7777777777777778,\"#fb9f3a\"],[0.8888888888888888,\"#fdca26\"],[1.0,\"#f0f921\"]],\"diverging\":[[0,\"#8e0152\"],[0.1,\"#c51b7d\"],[0.2,\"#de77ae\"],[0.3,\"#f1b6da\"],[0.4,\"#fde0ef\"],[0.5,\"#f7f7f7\"],[0.6,\"#e6f5d0\"],[0.7,\"#b8e186\"],[0.8,\"#7fbc41\"],[0.9,\"#4d9221\"],[1,\"#276419\"]]},\"xaxis\":{\"gridcolor\":\"white\",\"linecolor\":\"white\",\"ticks\":\"\",\"title\":{\"standoff\":15},\"zerolinecolor\":\"white\",\"automargin\":true,\"zerolinewidth\":2},\"yaxis\":{\"gridcolor\":\"white\",\"linecolor\":\"white\",\"ticks\":\"\",\"title\":{\"standoff\":15},\"zerolinecolor\":\"white\",\"automargin\":true,\"zerolinewidth\":2},\"scene\":{\"xaxis\":{\"backgroundcolor\":\"#E5ECF6\",\"gridcolor\":\"white\",\"linecolor\":\"white\",\"showbackground\":true,\"ticks\":\"\",\"zerolinecolor\":\"white\",\"gridwidth\":2},\"yaxis\":{\"backgroundcolor\":\"#E5ECF6\",\"gridcolor\":\"white\",\"linecolor\":\"white\",\"showbackground\":true,\"ticks\":\"\",\"zerolinecolor\":\"white\",\"gridwidth\":2},\"zaxis\":{\"backgroundcolor\":\"#E5ECF6\",\"gridcolor\":\"white\",\"linecolor\":\"white\",\"showbackground\":true,\"ticks\":\"\",\"zerolinecolor\":\"white\",\"gridwidth\":2}},\"shapedefaults\":{\"line\":{\"color\":\"#2a3f5f\"}},\"annotationdefaults\":{\"arrowcolor\":\"#2a3f5f\",\"arrowhead\":0,\"arrowwidth\":1},\"geo\":{\"bgcolor\":\"white\",\"landcolor\":\"#E5ECF6\",\"subunitcolor\":\"white\",\"showland\":true,\"showlakes\":true,\"lakecolor\":\"white\"},\"title\":{\"x\":0.05},\"mapbox\":{\"style\":\"light\"}}},\"margin\":{\"l\":10,\"r\":10,\"t\":50,\"b\":50},\"legend\":{\"font\":{\"size\":12}}},                        {\"responsive\": true}                    ).then(function(){\n",
              "                            \n",
              "var gd = document.getElementById('40c50ff6-4bce-4714-ab90-6133e29c9161');\n",
              "var x = new MutationObserver(function (mutations, observer) {{\n",
              "        var display = window.getComputedStyle(gd).display;\n",
              "        if (!display || display === 'none') {{\n",
              "            console.log([gd, 'removed!']);\n",
              "            Plotly.purge(gd);\n",
              "            observer.disconnect();\n",
              "        }}\n",
              "}});\n",
              "\n",
              "// Listen for the removal of the full notebook cells\n",
              "var notebookContainer = gd.closest('#notebook-container');\n",
              "if (notebookContainer) {{\n",
              "    x.observe(notebookContainer, {childList: true});\n",
              "}}\n",
              "\n",
              "// Listen for the clearing of the current output cell\n",
              "var outputEl = gd.closest('.output');\n",
              "if (outputEl) {{\n",
              "    x.observe(outputEl, {childList: true});\n",
              "}}\n",
              "\n",
              "                        })                };                            </script>        </div>\n",
              "</body>\n",
              "</html>"
            ]
          },
          "metadata": {}
        }
      ]
    },
    {
      "cell_type": "code",
      "source": [
        "model_fit.summary()"
      ],
      "metadata": {
        "id": "n0waYx9LRct0",
        "colab": {
          "base_uri": "https://localhost:8080/",
          "height": 426
        },
        "outputId": "e1abaea6-ef19-4851-e84e-18ff40f9c0e3"
      },
      "execution_count": 89,
      "outputs": [
        {
          "output_type": "execute_result",
          "data": {
            "text/plain": [
              "<class 'statsmodels.iolib.summary.Summary'>\n",
              "\"\"\"\n",
              "                               SARIMAX Results                                \n",
              "==============================================================================\n",
              "Dep. Variable:                      y   No. Observations:                  126\n",
              "Model:                 ARIMA(1, 2, 0)   Log Likelihood               -1268.242\n",
              "Date:                Thu, 20 Mar 2025   AIC                           2540.483\n",
              "Time:                        11:03:54   BIC                           2546.124\n",
              "Sample:                             0   HQIC                          2542.775\n",
              "                                - 126                                         \n",
              "Covariance Type:                  opg                                         \n",
              "==============================================================================\n",
              "                 coef    std err          z      P>|z|      [0.025      0.975]\n",
              "------------------------------------------------------------------------------\n",
              "ar.L1         -0.4764      0.049     -9.630      0.000      -0.573      -0.379\n",
              "sigma2      4.516e+07   1.58e-10   2.86e+17      0.000    4.52e+07    4.52e+07\n",
              "===================================================================================\n",
              "Ljung-Box (L1) (Q):                   0.73   Jarque-Bera (JB):               125.48\n",
              "Prob(Q):                              0.39   Prob(JB):                         0.00\n",
              "Heteroskedasticity (H):              48.10   Skew:                            -0.82\n",
              "Prob(H) (two-sided):                  0.00   Kurtosis:                         7.65\n",
              "===================================================================================\n",
              "\n",
              "Warnings:\n",
              "[1] Covariance matrix calculated using the outer product of gradients (complex-step).\n",
              "[2] Covariance matrix is singular or near-singular, with condition number    inf. Standard errors may be unstable.\n",
              "\"\"\""
            ],
            "text/html": [
              "<table class=\"simpletable\">\n",
              "<caption>SARIMAX Results</caption>\n",
              "<tr>\n",
              "  <th>Dep. Variable:</th>           <td>y</td>        <th>  No. Observations:  </th>    <td>126</td>   \n",
              "</tr>\n",
              "<tr>\n",
              "  <th>Model:</th>            <td>ARIMA(1, 2, 0)</td>  <th>  Log Likelihood     </th> <td>-1268.242</td>\n",
              "</tr>\n",
              "<tr>\n",
              "  <th>Date:</th>            <td>Thu, 20 Mar 2025</td> <th>  AIC                </th> <td>2540.483</td> \n",
              "</tr>\n",
              "<tr>\n",
              "  <th>Time:</th>                <td>11:03:54</td>     <th>  BIC                </th> <td>2546.124</td> \n",
              "</tr>\n",
              "<tr>\n",
              "  <th>Sample:</th>                  <td>0</td>        <th>  HQIC               </th> <td>2542.775</td> \n",
              "</tr>\n",
              "<tr>\n",
              "  <th></th>                      <td> - 126</td>      <th>                     </th>     <td> </td>    \n",
              "</tr>\n",
              "<tr>\n",
              "  <th>Covariance Type:</th>        <td>opg</td>       <th>                     </th>     <td> </td>    \n",
              "</tr>\n",
              "</table>\n",
              "<table class=\"simpletable\">\n",
              "<tr>\n",
              "     <td></td>       <th>coef</th>     <th>std err</th>      <th>z</th>      <th>P>|z|</th>  <th>[0.025</th>    <th>0.975]</th>  \n",
              "</tr>\n",
              "<tr>\n",
              "  <th>ar.L1</th>  <td>   -0.4764</td> <td>    0.049</td> <td>   -9.630</td> <td> 0.000</td> <td>   -0.573</td> <td>   -0.379</td>\n",
              "</tr>\n",
              "<tr>\n",
              "  <th>sigma2</th> <td> 4.516e+07</td> <td> 1.58e-10</td> <td> 2.86e+17</td> <td> 0.000</td> <td> 4.52e+07</td> <td> 4.52e+07</td>\n",
              "</tr>\n",
              "</table>\n",
              "<table class=\"simpletable\">\n",
              "<tr>\n",
              "  <th>Ljung-Box (L1) (Q):</th>     <td>0.73</td>  <th>  Jarque-Bera (JB):  </th> <td>125.48</td>\n",
              "</tr>\n",
              "<tr>\n",
              "  <th>Prob(Q):</th>                <td>0.39</td>  <th>  Prob(JB):          </th>  <td>0.00</td> \n",
              "</tr>\n",
              "<tr>\n",
              "  <th>Heteroskedasticity (H):</th> <td>48.10</td> <th>  Skew:              </th>  <td>-0.82</td>\n",
              "</tr>\n",
              "<tr>\n",
              "  <th>Prob(H) (two-sided):</th>    <td>0.00</td>  <th>  Kurtosis:          </th>  <td>7.65</td> \n",
              "</tr>\n",
              "</table><br/><br/>Warnings:<br/>[1] Covariance matrix calculated using the outer product of gradients (complex-step).<br/>[2] Covariance matrix is singular or near-singular, with condition number    inf. Standard errors may be unstable."
            ],
            "text/latex": "\\begin{center}\n\\begin{tabular}{lclc}\n\\toprule\n\\textbf{Dep. Variable:}          &        y         & \\textbf{  No. Observations:  } &    126      \\\\\n\\textbf{Model:}                  &  ARIMA(1, 2, 0)  & \\textbf{  Log Likelihood     } & -1268.242   \\\\\n\\textbf{Date:}                   & Thu, 20 Mar 2025 & \\textbf{  AIC                } &  2540.483   \\\\\n\\textbf{Time:}                   &     11:03:54     & \\textbf{  BIC                } &  2546.124   \\\\\n\\textbf{Sample:}                 &        0         & \\textbf{  HQIC               } &  2542.775   \\\\\n\\textbf{}                        &       - 126      & \\textbf{                     } &             \\\\\n\\textbf{Covariance Type:}        &       opg        & \\textbf{                     } &             \\\\\n\\bottomrule\n\\end{tabular}\n\\begin{tabular}{lcccccc}\n                & \\textbf{coef} & \\textbf{std err} & \\textbf{z} & \\textbf{P$> |$z$|$} & \\textbf{[0.025} & \\textbf{0.975]}  \\\\\n\\midrule\n\\textbf{ar.L1}  &      -0.4764  &        0.049     &    -9.630  &         0.000        &       -0.573    &       -0.379     \\\\\n\\textbf{sigma2} &    4.516e+07  &     1.58e-10     &  2.86e+17  &         0.000        &     4.52e+07    &     4.52e+07     \\\\\n\\bottomrule\n\\end{tabular}\n\\begin{tabular}{lclc}\n\\textbf{Ljung-Box (L1) (Q):}     &  0.73 & \\textbf{  Jarque-Bera (JB):  } & 125.48  \\\\\n\\textbf{Prob(Q):}                &  0.39 & \\textbf{  Prob(JB):          } &  0.00   \\\\\n\\textbf{Heteroskedasticity (H):} & 48.10 & \\textbf{  Skew:              } & -0.82   \\\\\n\\textbf{Prob(H) (two-sided):}    &  0.00 & \\textbf{  Kurtosis:          } &  7.65   \\\\\n\\bottomrule\n\\end{tabular}\n%\\caption{SARIMAX Results}\n\\end{center}\n\nWarnings: \\newline\n [1] Covariance matrix calculated using the outer product of gradients (complex-step). \\newline\n [2] Covariance matrix is singular or near-singular, with condition number    inf. Standard errors may be unstable."
          },
          "metadata": {},
          "execution_count": 89
        }
      ]
    }
  ]
}